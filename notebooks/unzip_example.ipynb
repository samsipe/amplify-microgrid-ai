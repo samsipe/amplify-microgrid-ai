{
 "cells": [
  {
   "cell_type": "code",
   "execution_count": 3,
   "id": "23f106cf-1757-4528-aaf2-fc6dfed148bb",
   "metadata": {},
   "outputs": [],
   "source": [
    "# Check for and extract data files\n",
    "\n",
    "from data_unzipper import *\n",
    "\n",
    "files = ['CF2_Weather_2020-2022.json',\n",
    "         'CF2_Weather_2020-2022.csv', \n",
    "         '2021-10-19_2022-01-09_CF2.csv'\n",
    "        ]\n",
    "\n",
    "path = '../data'\n",
    "zip_folder = 'data_11_Jan_2022.zip'\n",
    "\n",
    "unzipper(files, zip_folder, path)"
   ]
  }
 ],
 "metadata": {
  "kernelspec": {
   "display_name": "Python 3 (ipykernel)",
   "language": "python",
   "name": "python3"
  },
  "language_info": {
   "codemirror_mode": {
    "name": "ipython",
    "version": 3
   },
   "file_extension": ".py",
   "mimetype": "text/x-python",
   "name": "python",
   "nbconvert_exporter": "python",
   "pygments_lexer": "ipython3",
   "version": "3.9.7"
  }
 },
 "nbformat": 4,
 "nbformat_minor": 5
}
