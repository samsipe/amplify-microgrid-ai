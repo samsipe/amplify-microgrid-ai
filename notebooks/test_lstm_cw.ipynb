{
 "cells": [
  {
   "cell_type": "code",
   "execution_count": 19,
   "metadata": {},
   "outputs": [],
   "source": [
    "import pandas as pd\n",
    "import numpy as np\n",
    "import matplotlib.pyplot as plt\n",
    "import seaborn as sns\n",
    "import tensorflow as tf\n",
    "from tensorflow import keras\n",
    "from tensorflow.keras import layers\n",
    "from tensorflow.keras.preprocessing import sequence\n",
    "from numpy import array"
   ]
  },
  {
   "cell_type": "code",
   "execution_count": 20,
   "metadata": {},
   "outputs": [],
   "source": [
    "# format of data [timestamp, features, power usage/generation]\n",
    "# fornow will generate bogus data for testing a model. Will format our actual data to fit this input format\n"
   ]
  },
  {
   "cell_type": "markdown",
   "metadata": {},
   "source": [
    "## Testing LSTM (Without our data)\n",
    "\n",
    "Need to play around with LSTMs and understand how to make a LSTM model before we can make one for us."
   ]
  },
  {
   "cell_type": "markdown",
   "metadata": {},
   "source": [
    "### LSTM Layers"
   ]
  },
  {
   "cell_type": "code",
   "execution_count": 21,
   "metadata": {},
   "outputs": [],
   "source": [
    "# Define Sequential model with 3 layers\n",
    "model = keras.Sequential(\n",
    "    [\n",
    "        layers.Dense(2, activation=\"relu\", name=\"layer1\"),\n",
    "        layers.Dense(3, activation=\"relu\", name=\"layer2\"),\n",
    "        layers.Dense(4, name=\"layer3\"),\n",
    "    ]\n",
    ")\n",
    "# Call model on a test input\n",
    "x = tf.ones((3, 3))\n",
    "y = model(x)"
   ]
  },
  {
   "cell_type": "code",
   "execution_count": 22,
   "metadata": {},
   "outputs": [],
   "source": [
    "# Defining the same layers manually\n",
    "\n",
    "# Create 3 layers\n",
    "layer1 = layers.Dense(2, activation=\"relu\", name=\"layer1\")\n",
    "layer2 = layers.Dense(3, activation=\"relu\", name=\"layer2\")\n",
    "layer3 = layers.Dense(4, name=\"layer3\")\n",
    "\n",
    "# Call layers on a test input\n",
    "x_m = tf.ones((3, 3))\n",
    "y_m = layer3(layer2(layer1(x_m)))"
   ]
  },
  {
   "cell_type": "markdown",
   "metadata": {},
   "source": [
    "What do layers in a LSTM look like?"
   ]
  },
  {
   "cell_type": "code",
   "execution_count": 23,
   "metadata": {},
   "outputs": [
    {
     "data": {
      "text/plain": [
       "[<keras.layers.core.Dense at 0x7ffa5d74dd90>,\n",
       " <keras.layers.core.Dense at 0x7ffa5d74d400>,\n",
       " <keras.layers.core.Dense at 0x7ffa5d70fe50>]"
      ]
     },
     "execution_count": 23,
     "metadata": {},
     "output_type": "execute_result"
    }
   ],
   "source": [
    "model.layers"
   ]
  },
  {
   "cell_type": "code",
   "execution_count": 24,
   "metadata": {},
   "outputs": [
    {
     "name": "stdout",
     "output_type": "stream",
     "text": [
      "Model: \"sequential_3\"\n",
      "_________________________________________________________________\n",
      "Layer (type)                 Output Shape              Param #   \n",
      "=================================================================\n",
      "layer1 (Dense)               (3, 2)                    8         \n",
      "_________________________________________________________________\n",
      "layer2 (Dense)               (3, 3)                    9         \n",
      "_________________________________________________________________\n",
      "layer3 (Dense)               (3, 4)                    16        \n",
      "=================================================================\n",
      "Total params: 33\n",
      "Trainable params: 33\n",
      "Non-trainable params: 0\n",
      "_________________________________________________________________\n"
     ]
    }
   ],
   "source": [
    "# summary of model\n",
    "model.summary()"
   ]
  },
  {
   "cell_type": "code",
   "execution_count": 25,
   "metadata": {},
   "outputs": [],
   "source": [
    "# Can add layers to model using .add() function"
   ]
  },
  {
   "cell_type": "code",
   "execution_count": 26,
   "metadata": {},
   "outputs": [],
   "source": [
    "model = keras.Sequential()\n",
    "model.add(layers.Dense(2, activation=\"relu\"))\n",
    "model.add(layers.Dense(3, activation=\"relu\"))\n",
    "model.add(layers.Dense(4))"
   ]
  },
  {
   "cell_type": "code",
   "execution_count": 27,
   "metadata": {},
   "outputs": [],
   "source": [
    "# Can remove layers with .pop() function"
   ]
  },
  {
   "cell_type": "code",
   "execution_count": 28,
   "metadata": {},
   "outputs": [
    {
     "name": "stdout",
     "output_type": "stream",
     "text": [
      "2\n"
     ]
    }
   ],
   "source": [
    "model.pop()\n",
    "print(len(model.layers))  # 2"
   ]
  },
  {
   "cell_type": "code",
   "execution_count": 29,
   "metadata": {},
   "outputs": [],
   "source": [
    "# Can name a model"
   ]
  },
  {
   "cell_type": "code",
   "execution_count": 30,
   "metadata": {},
   "outputs": [],
   "source": [
    "model = keras.Sequential(name=\"my_sequential\")\n",
    "model.add(layers.Dense(2, activation=\"relu\", name=\"layer1\"))\n",
    "model.add(layers.Dense(3, activation=\"relu\", name=\"layer2\"))\n",
    "model.add(layers.Dense(4, name=\"layer3\"))"
   ]
  },
  {
   "cell_type": "code",
   "execution_count": 31,
   "metadata": {},
   "outputs": [
    {
     "data": {
      "text/plain": [
       "[]"
      ]
     },
     "execution_count": 31,
     "metadata": {},
     "output_type": "execute_result"
    }
   ],
   "source": [
    "# Need to specify input data dimensions in order for the sequential model to create weights.\n",
    "# The below layer does not have a shape, so there will be no weights\n",
    "layer_no_shape = layers.Dense(3)\n",
    "layer_no_shape.weights"
   ]
  },
  {
   "cell_type": "code",
   "execution_count": 32,
   "metadata": {},
   "outputs": [
    {
     "data": {
      "text/plain": [
       "[<tf.Variable 'dense_11/kernel:0' shape=(4, 3) dtype=float32, numpy=\n",
       " array([[-0.7361845 ,  0.32329333,  0.756819  ],\n",
       "        [-0.8557609 ,  0.14590096,  0.63884854],\n",
       "        [-0.06972617,  0.3730328 ,  0.6977037 ],\n",
       "        [ 0.06428796,  0.62633836,  0.4782232 ]], dtype=float32)>,\n",
       " <tf.Variable 'dense_11/bias:0' shape=(3,) dtype=float32, numpy=array([0., 0., 0.], dtype=float32)>]"
      ]
     },
     "execution_count": 32,
     "metadata": {},
     "output_type": "execute_result"
    }
   ],
   "source": [
    "# The shape of the weights depends on the shape of the inputs\n",
    "x = tf.ones((1, 4))\n",
    "y = layer_no_shape(x)\n",
    "layer_no_shape.weights # now has weights of shape (4, 3) and (3,)"
   ]
  },
  {
   "cell_type": "code",
   "execution_count": 33,
   "metadata": {},
   "outputs": [
    {
     "name": "stdout",
     "output_type": "stream",
     "text": [
      "Number of weights after calling the model: 6\n"
     ]
    }
   ],
   "source": [
    "# The same is true for the sequential model. Without an input, the shape of the weights is unknown.\n",
    "\n",
    "model = keras.Sequential(\n",
    "    [\n",
    "        layers.Dense(2, activation=\"relu\"),\n",
    "        layers.Dense(3, activation=\"relu\"),\n",
    "        layers.Dense(4),\n",
    "    ]\n",
    ")  # No weights at this stage!\n",
    "\n",
    "# At this point, you can't do this:\n",
    "# model.weights\n",
    "\n",
    "# You also can't do this:\n",
    "# model.summary()\n",
    "\n",
    "# Call the model on a test input\n",
    "x = tf.ones((1, 4))\n",
    "y = model(x)\n",
    "print(\"Number of weights after calling the model:\", len(model.weights))  # 6"
   ]
  },
  {
   "cell_type": "code",
   "execution_count": 34,
   "metadata": {},
   "outputs": [
    {
     "name": "stdout",
     "output_type": "stream",
     "text": [
      "Model: \"sequential_5\"\n",
      "_________________________________________________________________\n",
      "Layer (type)                 Output Shape              Param #   \n",
      "=================================================================\n",
      "dense_12 (Dense)             (1, 2)                    10        \n",
      "_________________________________________________________________\n",
      "dense_13 (Dense)             (1, 3)                    9         \n",
      "_________________________________________________________________\n",
      "dense_14 (Dense)             (1, 4)                    16        \n",
      "=================================================================\n",
      "Total params: 35\n",
      "Trainable params: 35\n",
      "Non-trainable params: 0\n",
      "_________________________________________________________________\n"
     ]
    }
   ],
   "source": [
    "model.summary()"
   ]
  },
  {
   "cell_type": "code",
   "execution_count": 35,
   "metadata": {},
   "outputs": [
    {
     "name": "stdout",
     "output_type": "stream",
     "text": [
      "Model: \"sequential_6\"\n",
      "_________________________________________________________________\n",
      "Layer (type)                 Output Shape              Param #   \n",
      "=================================================================\n",
      "dense_15 (Dense)             (None, 2)                 10        \n",
      "=================================================================\n",
      "Total params: 10\n",
      "Trainable params: 10\n",
      "Non-trainable params: 0\n",
      "_________________________________________________________________\n"
     ]
    }
   ],
   "source": [
    "# Should start a model by giving it the input shape. In this case lets do 4 features\n",
    "model = keras.Sequential()\n",
    "model.add(keras.Input(shape=(4,)))\n",
    "model.add(layers.Dense(2, activation=\"relu\"))\n",
    "\n",
    "model.summary()"
   ]
  },
  {
   "cell_type": "code",
   "execution_count": 36,
   "metadata": {},
   "outputs": [
    {
     "data": {
      "text/plain": [
       "[<keras.layers.core.Dense at 0x7ffa5d766460>]"
      ]
     },
     "execution_count": 36,
     "metadata": {},
     "output_type": "execute_result"
    }
   ],
   "source": [
    "# input shape is not a model layer.\n",
    "model.layers"
   ]
  },
  {
   "cell_type": "markdown",
   "metadata": {},
   "source": [
    "### Running LSTM Model"
   ]
  },
  {
   "cell_type": "code",
   "execution_count": 75,
   "metadata": {},
   "outputs": [
    {
     "name": "stdout",
     "output_type": "stream",
     "text": [
      "Model: \"sequential_17\"\n",
      "_________________________________________________________________\n",
      "Layer (type)                 Output Shape              Param #   \n",
      "=================================================================\n",
      "flatten_10 (Flatten)         (None, 4000)              0         \n",
      "_________________________________________________________________\n",
      "dense_44 (Dense)             (None, 32)                128032    \n",
      "_________________________________________________________________\n",
      "dense_45 (Dense)             (None, 16)                528       \n",
      "_________________________________________________________________\n",
      "dense_46 (Dense)             (None, 1)                 17        \n",
      "=================================================================\n",
      "Total params: 128,577\n",
      "Trainable params: 128,577\n",
      "Non-trainable params: 0\n",
      "_________________________________________________________________\n"
     ]
    }
   ],
   "source": [
    "# Example Model:\n",
    "model = keras.models.Sequential()\n",
    "model.add(keras.layers.Flatten(input_shape=[100, 40]))\n",
    "model.add(keras.layers.Dense(32, activation=\"relu\"))\n",
    "model.add(keras.layers.Dense(16, activation=\"relu\"))\n",
    "model.add(keras.layers.Dense(1, activation=\"softmax\"))\n",
    "model.summary()\n"
   ]
  },
  {
   "cell_type": "code",
   "execution_count": 76,
   "metadata": {},
   "outputs": [
    {
     "data": {
      "text/plain": [
       "[<tf.Variable 'dense_44/kernel:0' shape=(4000, 32) dtype=float32, numpy=\n",
       " array([[ 0.00669408, -0.00623605, -0.03150884, ..., -0.01074828,\n",
       "         -0.0207577 ,  0.02133097],\n",
       "        [ 0.03321219,  0.02027233,  0.01673977, ...,  0.03598859,\n",
       "          0.00026477, -0.00411876],\n",
       "        [-0.02644717, -0.01909386, -0.01670776, ..., -0.0378172 ,\n",
       "         -0.00979172, -0.0260409 ],\n",
       "        ...,\n",
       "        [-0.00612154, -0.02352443,  0.01180681, ..., -0.01964104,\n",
       "          0.01513103,  0.00449348],\n",
       "        [-0.01795242,  0.02841188,  0.01848973, ...,  0.00415715,\n",
       "          0.03327494, -0.01372325],\n",
       "        [-0.00226926,  0.00800363, -0.00707032, ..., -0.00427511,\n",
       "         -0.00774762,  0.0006404 ]], dtype=float32)>,\n",
       " <tf.Variable 'dense_44/bias:0' shape=(32,) dtype=float32, numpy=\n",
       " array([0., 0., 0., 0., 0., 0., 0., 0., 0., 0., 0., 0., 0., 0., 0., 0., 0.,\n",
       "        0., 0., 0., 0., 0., 0., 0., 0., 0., 0., 0., 0., 0., 0., 0.],\n",
       "       dtype=float32)>,\n",
       " <tf.Variable 'dense_45/kernel:0' shape=(32, 16) dtype=float32, numpy=\n",
       " array([[ 0.0029335 ,  0.11482891,  0.22074613, -0.03434521, -0.29219458,\n",
       "          0.01976073, -0.33501738, -0.2040172 ,  0.26911697, -0.28804135,\n",
       "          0.21413186, -0.03443861,  0.29283646, -0.02532351,  0.3373566 ,\n",
       "         -0.15141432],\n",
       "        [-0.1707185 , -0.11329393,  0.21835735, -0.08037841, -0.00226581,\n",
       "          0.1703743 ,  0.24531785, -0.14683262, -0.22951832,  0.32337007,\n",
       "          0.32923415, -0.10066968, -0.06494907, -0.25878376,  0.09128502,\n",
       "          0.2741122 ],\n",
       "        [-0.2488387 , -0.19915962, -0.22658761,  0.04877985, -0.23234925,\n",
       "          0.07421157,  0.20458743,  0.1358569 ,  0.20969626, -0.30465934,\n",
       "          0.3211529 ,  0.2097995 , -0.11937436,  0.21311536, -0.01448867,\n",
       "         -0.01011643],\n",
       "        [ 0.04116818,  0.03342533,  0.23931542,  0.17849216, -0.13610077,\n",
       "         -0.2946689 ,  0.17503402, -0.22637165,  0.28876045, -0.18079716,\n",
       "          0.16450503, -0.21845116, -0.2857316 ,  0.2900137 , -0.20325722,\n",
       "          0.09809604],\n",
       "        [-0.3179909 , -0.09954494, -0.17385693, -0.00336358,  0.34890887,\n",
       "         -0.2134292 ,  0.3006871 , -0.2488977 , -0.05871695, -0.19645177,\n",
       "         -0.02070075,  0.04223916,  0.29513034,  0.06253681, -0.17436716,\n",
       "          0.06823617],\n",
       "        [-0.00962761,  0.32310203,  0.17275926, -0.02524671, -0.01241705,\n",
       "          0.12235534,  0.21819541, -0.16407034,  0.32517168, -0.20287393,\n",
       "         -0.34740257,  0.12955207, -0.33811197,  0.0993278 , -0.14364117,\n",
       "         -0.13767074],\n",
       "        [ 0.00244579,  0.35200593, -0.04525366,  0.23029962, -0.13991928,\n",
       "         -0.16968608,  0.06228209,  0.08949724,  0.09815857, -0.34106004,\n",
       "          0.23170397,  0.31650987,  0.16167423,  0.12148786, -0.327547  ,\n",
       "          0.1257967 ],\n",
       "        [ 0.2553654 , -0.13049145, -0.18915075,  0.19999328, -0.01439467,\n",
       "          0.26132134, -0.3136094 ,  0.00679678,  0.3411313 , -0.02335745,\n",
       "         -0.24675092, -0.24186635, -0.02634954,  0.22813347,  0.21930835,\n",
       "          0.2460812 ],\n",
       "        [-0.18042493, -0.11929488,  0.18081573, -0.20993708, -0.3018855 ,\n",
       "          0.26077673,  0.2928734 , -0.295524  ,  0.30308285, -0.31671122,\n",
       "          0.20560834, -0.3049756 , -0.13507238,  0.2504649 , -0.07455027,\n",
       "          0.32563975],\n",
       "        [ 0.06294599,  0.29776654, -0.02107477,  0.10802135, -0.19339158,\n",
       "          0.27935025, -0.03867403, -0.21328986, -0.07758409,  0.28987893,\n",
       "          0.2143456 , -0.1234933 , -0.18659791, -0.10163477,  0.0216462 ,\n",
       "          0.20215157],\n",
       "        [-0.07871681, -0.21982718, -0.10051391,  0.2452763 , -0.32240865,\n",
       "         -0.32586947,  0.2718632 ,  0.2854992 , -0.28276142,  0.10227707,\n",
       "         -0.14642464, -0.0532425 , -0.10069093,  0.23785385,  0.184724  ,\n",
       "          0.19454065],\n",
       "        [ 0.3338568 , -0.01441616,  0.09110934,  0.3025407 ,  0.19498631,\n",
       "          0.2576848 , -0.18842153,  0.02760389,  0.02916554,  0.2478902 ,\n",
       "         -0.05142549, -0.25878292,  0.33393624, -0.2883731 ,  0.00611138,\n",
       "          0.29472134],\n",
       "        [ 0.10151887, -0.2682007 ,  0.23292723, -0.2062794 ,  0.13633096,\n",
       "         -0.05820143,  0.31574228,  0.31875804, -0.10683838, -0.14036477,\n",
       "          0.02013624, -0.3335994 ,  0.30087414,  0.11749893, -0.01820052,\n",
       "          0.22591695],\n",
       "        [ 0.07699832,  0.34652016,  0.2761626 ,  0.19495085,  0.10537723,\n",
       "          0.17374113,  0.29439852, -0.09315413,  0.13653925, -0.02962315,\n",
       "          0.33821395,  0.19924214, -0.33527136,  0.22715947, -0.2186431 ,\n",
       "          0.00781175],\n",
       "        [-0.33790004, -0.21621898, -0.33372378, -0.29007542, -0.32523113,\n",
       "         -0.242978  , -0.00562119, -0.34997258, -0.09961298, -0.30518356,\n",
       "          0.30172852, -0.31618676,  0.33821067,  0.28683588,  0.11539873,\n",
       "         -0.27181852],\n",
       "        [-0.12065032, -0.0982061 , -0.13852371,  0.09878942,  0.06053063,\n",
       "          0.02880517, -0.10065764,  0.3191308 , -0.29759425,  0.2578396 ,\n",
       "         -0.26464537, -0.34631255,  0.07869759, -0.25789487,  0.07166582,\n",
       "         -0.17518725],\n",
       "        [ 0.20335063,  0.2915621 , -0.25393695,  0.31916508,  0.05435467,\n",
       "          0.24312267,  0.14247236, -0.02114683,  0.22160837, -0.14908385,\n",
       "         -0.07388175,  0.15549573,  0.0177654 ,  0.33567217,  0.01061779,\n",
       "          0.01406559],\n",
       "        [ 0.23346892, -0.24327844,  0.17487082,  0.16263965, -0.28202015,\n",
       "         -0.31416875,  0.04228213,  0.3162206 ,  0.18258545, -0.31589752,\n",
       "          0.19868693,  0.31347433, -0.3022498 , -0.2189249 , -0.31146824,\n",
       "          0.11681277],\n",
       "        [-0.26924765, -0.01633385,  0.25245777, -0.29783112, -0.07629278,\n",
       "          0.15696964, -0.3438875 ,  0.3332326 , -0.10700874, -0.12086047,\n",
       "          0.27004495, -0.28124827,  0.33896622, -0.02600375,  0.3276191 ,\n",
       "         -0.21201517],\n",
       "        [-0.21086009,  0.10303268, -0.0792011 ,  0.23128721, -0.33420873,\n",
       "         -0.22857238, -0.02630013,  0.0488503 , -0.3516533 , -0.02046895,\n",
       "         -0.20838952, -0.03564417, -0.20614402,  0.2627546 ,  0.21603033,\n",
       "         -0.08005708],\n",
       "        [-0.32056808,  0.3246757 ,  0.23744068, -0.01764849, -0.16474006,\n",
       "          0.2084091 , -0.08207634,  0.20968899,  0.16400704, -0.34912553,\n",
       "         -0.16935422, -0.10884036, -0.23403125, -0.26111168,  0.10038552,\n",
       "          0.17593005],\n",
       "        [ 0.21057543,  0.10097811, -0.27992722,  0.24612907,  0.29329315,\n",
       "         -0.02721861, -0.32033923,  0.0779092 ,  0.08701479, -0.05649254,\n",
       "          0.1779516 ,  0.14198017, -0.05135477,  0.19107518, -0.01046035,\n",
       "         -0.05739042],\n",
       "        [ 0.10389519,  0.17964318,  0.18189475, -0.12038742,  0.19893649,\n",
       "         -0.23765099,  0.05803597,  0.28131637, -0.00438893,  0.1947392 ,\n",
       "          0.08315954, -0.21366817, -0.09994671,  0.23058507,  0.27476898,\n",
       "          0.01320925],\n",
       "        [ 0.2871389 ,  0.15310249, -0.13423012,  0.23693249, -0.10092443,\n",
       "         -0.35198787, -0.14147079, -0.07124224, -0.1704035 ,  0.11754072,\n",
       "         -0.24237944, -0.18773395,  0.23186752, -0.08748144, -0.09021515,\n",
       "          0.24451491],\n",
       "        [-0.11813466, -0.09094378,  0.2070615 , -0.18464988, -0.17930964,\n",
       "          0.21971622,  0.14191964, -0.07096669, -0.14128484,  0.29582486,\n",
       "          0.14890221,  0.01415029, -0.10341144,  0.21423772,  0.0468528 ,\n",
       "          0.3314297 ],\n",
       "        [-0.06193614,  0.22109547, -0.20631927, -0.10780337, -0.27129513,\n",
       "          0.0844788 , -0.25351244,  0.04638335, -0.12817775, -0.33903718,\n",
       "         -0.35046336,  0.29817286, -0.24819714,  0.13866413, -0.02644494,\n",
       "          0.06020206],\n",
       "        [-0.07406524, -0.33628497, -0.26712495,  0.00749102,  0.02781761,\n",
       "          0.1424056 ,  0.19862553, -0.0816853 , -0.32365164, -0.06310767,\n",
       "         -0.28501445,  0.00751463, -0.07399097, -0.33198154, -0.13219772,\n",
       "         -0.24675328],\n",
       "        [ 0.1721349 , -0.17727277,  0.28690514,  0.22708926,  0.08688068,\n",
       "         -0.3167103 ,  0.04067263, -0.0765059 , -0.1139811 , -0.05387497,\n",
       "         -0.1199995 ,  0.1401816 , -0.27603605,  0.13918272,  0.22582826,\n",
       "         -0.07056057],\n",
       "        [ 0.21453395, -0.08241168, -0.2656111 , -0.19490717, -0.23071706,\n",
       "          0.04440904,  0.23174217,  0.29343656, -0.35171452, -0.17389536,\n",
       "         -0.12208897,  0.16555807,  0.1416493 , -0.19113275, -0.07095465,\n",
       "         -0.11131589],\n",
       "        [ 0.1850411 , -0.13269825,  0.34493402,  0.3309587 ,  0.2967594 ,\n",
       "         -0.16085504,  0.26885948,  0.34972075,  0.2861112 ,  0.24894044,\n",
       "          0.33697578,  0.01157209,  0.02987319, -0.03772235,  0.15224734,\n",
       "         -0.32343104],\n",
       "        [ 0.35214284,  0.19283667,  0.00095564, -0.3413297 , -0.07022661,\n",
       "          0.35342464, -0.0566586 , -0.1370554 , -0.03973114,  0.19870207,\n",
       "          0.23400518,  0.2780011 , -0.26230294,  0.06365794, -0.25934845,\n",
       "         -0.15131915],\n",
       "        [ 0.16385499, -0.29751822, -0.01350453,  0.09369016, -0.32865918,\n",
       "         -0.01590806, -0.11642814, -0.20118317, -0.25216383,  0.2319738 ,\n",
       "          0.1822845 ,  0.11307696, -0.34763116, -0.20063534,  0.12687641,\n",
       "          0.1893141 ]], dtype=float32)>,\n",
       " <tf.Variable 'dense_45/bias:0' shape=(16,) dtype=float32, numpy=\n",
       " array([0., 0., 0., 0., 0., 0., 0., 0., 0., 0., 0., 0., 0., 0., 0., 0.],\n",
       "       dtype=float32)>,\n",
       " <tf.Variable 'dense_46/kernel:0' shape=(16, 1) dtype=float32, numpy=\n",
       " array([[-0.50906867],\n",
       "        [-0.51089656],\n",
       "        [ 0.1912188 ],\n",
       "        [-0.28936404],\n",
       "        [ 0.15326065],\n",
       "        [ 0.5598049 ],\n",
       "        [ 0.23040766],\n",
       "        [ 0.39670187],\n",
       "        [-0.39384407],\n",
       "        [ 0.4741676 ],\n",
       "        [ 0.43749094],\n",
       "        [-0.51179004],\n",
       "        [-0.49613535],\n",
       "        [ 0.00304121],\n",
       "        [ 0.28964603],\n",
       "        [-0.39830738]], dtype=float32)>,\n",
       " <tf.Variable 'dense_46/bias:0' shape=(1,) dtype=float32, numpy=array([0.], dtype=float32)>]"
      ]
     },
     "execution_count": 76,
     "metadata": {},
     "output_type": "execute_result"
    }
   ],
   "source": [
    "model.weights"
   ]
  },
  {
   "cell_type": "code",
   "execution_count": 77,
   "metadata": {},
   "outputs": [
    {
     "data": {
      "image/png": "[encoded data removed]",
      "text/plain": [
       "<IPython.core.display.Image object>"
      ]
     },
     "execution_count": 77,
     "metadata": {},
     "output_type": "execute_result"
    }
   ],
   "source": [
    "from tensorflow.keras.utils import plot_model\n",
    "plot_model(model, to_file='../data/model_plot.png', show_shapes=True, show_layer_names=True)"
   ]
  },
  {
   "cell_type": "code",
   "execution_count": 78,
   "metadata": {},
   "outputs": [],
   "source": [
    "# specify loss function and optimizer (sgd)\n",
    "model.compile(loss=\"sparse_categorical_crossentropy\", optimizer=\"sgd\",\n",
    "              metrics=[\"accuracy\"])"
   ]
  },
  {
   "cell_type": "code",
   "execution_count": 79,
   "metadata": {},
   "outputs": [],
   "source": [
    "# make up some data\n",
    "X_train = np.random.randint(0, 100, (500, 100, 40))\n",
    "Y_train = np.random.randint(0, 100, (500, 1))\n",
    "X_valid = np.random.randint(0, 100, (200, 100, 40))\n",
    "Y_valid = np.random.randint(0, 100, (200, 1))\n"
   ]
  },
  {
   "cell_type": "code",
   "execution_count": 80,
   "metadata": {},
   "outputs": [
    {
     "name": "stdout",
     "output_type": "stream",
     "text": [
      "Epoch 1/20\n"
     ]
    },
    {
     "name": "stderr",
     "output_type": "stream",
     "text": [
      "2022-01-12 15:56:12.380783: W tensorflow/core/framework/op_kernel.cc:1692] OP_REQUIRES failed at sparse_xent_op.cc:114 : Invalid argument: Received a label value of 97 which is outside the valid range of [0, 1).  Label values: 76 60 14 19 61 14 36 66 57 3 41 66 87 39 68 22 77 36 95 4 19 48 5 10 41 76 72 17 16 35 21 97\n"
     ]
    },
    {
     "ename": "InvalidArgumentError",
     "evalue": " Received a label value of 97 which is outside the valid range of [0, 1).  Label values: 76 60 14 19 61 14 36 66 57 3 41 66 87 39 68 22 77 36 95 4 19 48 5 10 41 76 72 17 16 35 21 97\n\t [[node sparse_categorical_crossentropy/SparseSoftmaxCrossEntropyWithLogits/SparseSoftmaxCrossEntropyWithLogits (defined at var/folders/qw/nxdjklks0lsd2yr222thlg8c0000gn/T/ipykernel_60697/3490617916.py:1) ]] [Op:__inference_train_function_2877]\n\nFunction call stack:\ntrain_function\n",
     "output_type": "error",
     "traceback": [
      "\u001b[0;31m---------------------------------------------------------------------------\u001b[0m",
      "\u001b[0;31mInvalidArgumentError\u001b[0m                      Traceback (most recent call last)",
      "\u001b[0;32m/var/folders/qw/nxdjklks0lsd2yr222thlg8c0000gn/T/ipykernel_60697/3490617916.py\u001b[0m in \u001b[0;36m<module>\u001b[0;34m\u001b[0m\n\u001b[0;32m----> 1\u001b[0;31m \u001b[0mhistory\u001b[0m \u001b[0;34m=\u001b[0m \u001b[0mmodel\u001b[0m\u001b[0;34m.\u001b[0m\u001b[0mfit\u001b[0m\u001b[0;34m(\u001b[0m\u001b[0mX_train\u001b[0m\u001b[0;34m,\u001b[0m \u001b[0mY_train\u001b[0m\u001b[0;34m,\u001b[0m \u001b[0mepochs\u001b[0m\u001b[0;34m=\u001b[0m\u001b[0;36m20\u001b[0m\u001b[0;34m,\u001b[0m \u001b[0mvalidation_data\u001b[0m\u001b[0;34m=\u001b[0m\u001b[0;34m(\u001b[0m\u001b[0mX_valid\u001b[0m\u001b[0;34m,\u001b[0m \u001b[0mY_valid\u001b[0m\u001b[0;34m)\u001b[0m\u001b[0;34m)\u001b[0m\u001b[0;34m\u001b[0m\u001b[0;34m\u001b[0m\u001b[0m\n\u001b[0m",
      "\u001b[0;32m~/Fourthbrain/Fourthbrain/fourthbrain_venv/lib/python3.8/site-packages/keras/engine/training.py\u001b[0m in \u001b[0;36mfit\u001b[0;34m(self, x, y, batch_size, epochs, verbose, callbacks, validation_split, validation_data, shuffle, class_weight, sample_weight, initial_epoch, steps_per_epoch, validation_steps, validation_batch_size, validation_freq, max_queue_size, workers, use_multiprocessing)\u001b[0m\n\u001b[1;32m   1182\u001b[0m                 _r=1):\n\u001b[1;32m   1183\u001b[0m               \u001b[0mcallbacks\u001b[0m\u001b[0;34m.\u001b[0m\u001b[0mon_train_batch_begin\u001b[0m\u001b[0;34m(\u001b[0m\u001b[0mstep\u001b[0m\u001b[0;34m)\u001b[0m\u001b[0;34m\u001b[0m\u001b[0;34m\u001b[0m\u001b[0m\n\u001b[0;32m-> 1184\u001b[0;31m               \u001b[0mtmp_logs\u001b[0m \u001b[0;34m=\u001b[0m \u001b[0mself\u001b[0m\u001b[0;34m.\u001b[0m\u001b[0mtrain_function\u001b[0m\u001b[0;34m(\u001b[0m\u001b[0miterator\u001b[0m\u001b[0;34m)\u001b[0m\u001b[0;34m\u001b[0m\u001b[0;34m\u001b[0m\u001b[0m\n\u001b[0m\u001b[1;32m   1185\u001b[0m               \u001b[0;32mif\u001b[0m \u001b[0mdata_handler\u001b[0m\u001b[0;34m.\u001b[0m\u001b[0mshould_sync\u001b[0m\u001b[0;34m:\u001b[0m\u001b[0;34m\u001b[0m\u001b[0;34m\u001b[0m\u001b[0m\n\u001b[1;32m   1186\u001b[0m                 \u001b[0mcontext\u001b[0m\u001b[0;34m.\u001b[0m\u001b[0masync_wait\u001b[0m\u001b[0;34m(\u001b[0m\u001b[0;34m)\u001b[0m\u001b[0;34m\u001b[0m\u001b[0;34m\u001b[0m\u001b[0m\n",
      "\u001b[0;32m~/Fourthbrain/Fourthbrain/fourthbrain_venv/lib/python3.8/site-packages/tensorflow/python/eager/def_function.py\u001b[0m in \u001b[0;36m__call__\u001b[0;34m(self, *args, **kwds)\u001b[0m\n\u001b[1;32m    883\u001b[0m \u001b[0;34m\u001b[0m\u001b[0m\n\u001b[1;32m    884\u001b[0m       \u001b[0;32mwith\u001b[0m \u001b[0mOptionalXlaContext\u001b[0m\u001b[0;34m(\u001b[0m\u001b[0mself\u001b[0m\u001b[0;34m.\u001b[0m\u001b[0m_jit_compile\u001b[0m\u001b[0;34m)\u001b[0m\u001b[0;34m:\u001b[0m\u001b[0;34m\u001b[0m\u001b[0;34m\u001b[0m\u001b[0m\n\u001b[0;32m--> 885\u001b[0;31m         \u001b[0mresult\u001b[0m \u001b[0;34m=\u001b[0m \u001b[0mself\u001b[0m\u001b[0;34m.\u001b[0m\u001b[0m_call\u001b[0m\u001b[0;34m(\u001b[0m\u001b[0;34m*\u001b[0m\u001b[0margs\u001b[0m\u001b[0;34m,\u001b[0m \u001b[0;34m**\u001b[0m\u001b[0mkwds\u001b[0m\u001b[0;34m)\u001b[0m\u001b[0;34m\u001b[0m\u001b[0;34m\u001b[0m\u001b[0m\n\u001b[0m\u001b[1;32m    886\u001b[0m \u001b[0;34m\u001b[0m\u001b[0m\n\u001b[1;32m    887\u001b[0m       \u001b[0mnew_tracing_count\u001b[0m \u001b[0;34m=\u001b[0m \u001b[0mself\u001b[0m\u001b[0;34m.\u001b[0m\u001b[0mexperimental_get_tracing_count\u001b[0m\u001b[0;34m(\u001b[0m\u001b[0;34m)\u001b[0m\u001b[0;34m\u001b[0m\u001b[0;34m\u001b[0m\u001b[0m\n",
      "\u001b[0;32m~/Fourthbrain/Fourthbrain/fourthbrain_venv/lib/python3.8/site-packages/tensorflow/python/eager/def_function.py\u001b[0m in \u001b[0;36m_call\u001b[0;34m(self, *args, **kwds)\u001b[0m\n\u001b[1;32m    948\u001b[0m         \u001b[0;31m# Lifting succeeded, so variables are initialized and we can run the\u001b[0m\u001b[0;34m\u001b[0m\u001b[0;34m\u001b[0m\u001b[0;34m\u001b[0m\u001b[0m\n\u001b[1;32m    949\u001b[0m         \u001b[0;31m# stateless function.\u001b[0m\u001b[0;34m\u001b[0m\u001b[0;34m\u001b[0m\u001b[0;34m\u001b[0m\u001b[0m\n\u001b[0;32m--> 950\u001b[0;31m         \u001b[0;32mreturn\u001b[0m \u001b[0mself\u001b[0m\u001b[0;34m.\u001b[0m\u001b[0m_stateless_fn\u001b[0m\u001b[0;34m(\u001b[0m\u001b[0;34m*\u001b[0m\u001b[0margs\u001b[0m\u001b[0;34m,\u001b[0m \u001b[0;34m**\u001b[0m\u001b[0mkwds\u001b[0m\u001b[0;34m)\u001b[0m\u001b[0;34m\u001b[0m\u001b[0;34m\u001b[0m\u001b[0m\n\u001b[0m\u001b[1;32m    951\u001b[0m     \u001b[0;32melse\u001b[0m\u001b[0;34m:\u001b[0m\u001b[0;34m\u001b[0m\u001b[0;34m\u001b[0m\u001b[0m\n\u001b[1;32m    952\u001b[0m       \u001b[0m_\u001b[0m\u001b[0;34m,\u001b[0m \u001b[0m_\u001b[0m\u001b[0;34m,\u001b[0m \u001b[0m_\u001b[0m\u001b[0;34m,\u001b[0m \u001b[0mfiltered_flat_args\u001b[0m \u001b[0;34m=\u001b[0m\u001b[0;31m \u001b[0m\u001b[0;31m\\\u001b[0m\u001b[0;34m\u001b[0m\u001b[0;34m\u001b[0m\u001b[0m\n",
      "\u001b[0;32m~/Fourthbrain/Fourthbrain/fourthbrain_venv/lib/python3.8/site-packages/tensorflow/python/eager/function.py\u001b[0m in \u001b[0;36m__call__\u001b[0;34m(self, *args, **kwargs)\u001b[0m\n\u001b[1;32m   3037\u001b[0m       (graph_function,\n\u001b[1;32m   3038\u001b[0m        filtered_flat_args) = self._maybe_define_function(args, kwargs)\n\u001b[0;32m-> 3039\u001b[0;31m     return graph_function._call_flat(\n\u001b[0m\u001b[1;32m   3040\u001b[0m         filtered_flat_args, captured_inputs=graph_function.captured_inputs)  # pylint: disable=protected-access\n\u001b[1;32m   3041\u001b[0m \u001b[0;34m\u001b[0m\u001b[0m\n",
      "\u001b[0;32m~/Fourthbrain/Fourthbrain/fourthbrain_venv/lib/python3.8/site-packages/tensorflow/python/eager/function.py\u001b[0m in \u001b[0;36m_call_flat\u001b[0;34m(self, args, captured_inputs, cancellation_manager)\u001b[0m\n\u001b[1;32m   1961\u001b[0m         and executing_eagerly):\n\u001b[1;32m   1962\u001b[0m       \u001b[0;31m# No tape is watching; skip to running the function.\u001b[0m\u001b[0;34m\u001b[0m\u001b[0;34m\u001b[0m\u001b[0;34m\u001b[0m\u001b[0m\n\u001b[0;32m-> 1963\u001b[0;31m       return self._build_call_outputs(self._inference_function.call(\n\u001b[0m\u001b[1;32m   1964\u001b[0m           ctx, args, cancellation_manager=cancellation_manager))\n\u001b[1;32m   1965\u001b[0m     forward_backward = self._select_forward_and_backward_functions(\n",
      "\u001b[0;32m~/Fourthbrain/Fourthbrain/fourthbrain_venv/lib/python3.8/site-packages/tensorflow/python/eager/function.py\u001b[0m in \u001b[0;36mcall\u001b[0;34m(self, ctx, args, cancellation_manager)\u001b[0m\n\u001b[1;32m    589\u001b[0m       \u001b[0;32mwith\u001b[0m \u001b[0m_InterpolateFunctionError\u001b[0m\u001b[0;34m(\u001b[0m\u001b[0mself\u001b[0m\u001b[0;34m)\u001b[0m\u001b[0;34m:\u001b[0m\u001b[0;34m\u001b[0m\u001b[0;34m\u001b[0m\u001b[0m\n\u001b[1;32m    590\u001b[0m         \u001b[0;32mif\u001b[0m \u001b[0mcancellation_manager\u001b[0m \u001b[0;32mis\u001b[0m \u001b[0;32mNone\u001b[0m\u001b[0;34m:\u001b[0m\u001b[0;34m\u001b[0m\u001b[0;34m\u001b[0m\u001b[0m\n\u001b[0;32m--> 591\u001b[0;31m           outputs = execute.execute(\n\u001b[0m\u001b[1;32m    592\u001b[0m               \u001b[0mstr\u001b[0m\u001b[0;34m(\u001b[0m\u001b[0mself\u001b[0m\u001b[0;34m.\u001b[0m\u001b[0msignature\u001b[0m\u001b[0;34m.\u001b[0m\u001b[0mname\u001b[0m\u001b[0;34m)\u001b[0m\u001b[0;34m,\u001b[0m\u001b[0;34m\u001b[0m\u001b[0;34m\u001b[0m\u001b[0m\n\u001b[1;32m    593\u001b[0m               \u001b[0mnum_outputs\u001b[0m\u001b[0;34m=\u001b[0m\u001b[0mself\u001b[0m\u001b[0;34m.\u001b[0m\u001b[0m_num_outputs\u001b[0m\u001b[0;34m,\u001b[0m\u001b[0;34m\u001b[0m\u001b[0;34m\u001b[0m\u001b[0m\n",
      "\u001b[0;32m~/Fourthbrain/Fourthbrain/fourthbrain_venv/lib/python3.8/site-packages/tensorflow/python/eager/execute.py\u001b[0m in \u001b[0;36mquick_execute\u001b[0;34m(op_name, num_outputs, inputs, attrs, ctx, name)\u001b[0m\n\u001b[1;32m     57\u001b[0m   \u001b[0;32mtry\u001b[0m\u001b[0;34m:\u001b[0m\u001b[0;34m\u001b[0m\u001b[0;34m\u001b[0m\u001b[0m\n\u001b[1;32m     58\u001b[0m     \u001b[0mctx\u001b[0m\u001b[0;34m.\u001b[0m\u001b[0mensure_initialized\u001b[0m\u001b[0;34m(\u001b[0m\u001b[0;34m)\u001b[0m\u001b[0;34m\u001b[0m\u001b[0;34m\u001b[0m\u001b[0m\n\u001b[0;32m---> 59\u001b[0;31m     tensors = pywrap_tfe.TFE_Py_Execute(ctx._handle, device_name, op_name,\n\u001b[0m\u001b[1;32m     60\u001b[0m                                         inputs, attrs, num_outputs)\n\u001b[1;32m     61\u001b[0m   \u001b[0;32mexcept\u001b[0m \u001b[0mcore\u001b[0m\u001b[0;34m.\u001b[0m\u001b[0m_NotOkStatusException\u001b[0m \u001b[0;32mas\u001b[0m \u001b[0me\u001b[0m\u001b[0;34m:\u001b[0m\u001b[0;34m\u001b[0m\u001b[0;34m\u001b[0m\u001b[0m\n",
      "\u001b[0;31mInvalidArgumentError\u001b[0m:  Received a label value of 97 which is outside the valid range of [0, 1).  Label values: 76 60 14 19 61 14 36 66 57 3 41 66 87 39 68 22 77 36 95 4 19 48 5 10 41 76 72 17 16 35 21 97\n\t [[node sparse_categorical_crossentropy/SparseSoftmaxCrossEntropyWithLogits/SparseSoftmaxCrossEntropyWithLogits (defined at var/folders/qw/nxdjklks0lsd2yr222thlg8c0000gn/T/ipykernel_60697/3490617916.py:1) ]] [Op:__inference_train_function_2877]\n\nFunction call stack:\ntrain_function\n"
     ]
    }
   ],
   "source": [
    "history = model.fit(X_train, Y_train, epochs=20, validation_data=(X_valid, Y_valid))"
   ]
  }
 ],
 "metadata": {
  "interpreter": {
   "hash": "ebbabc1e6dda0a634caa316fe10f04a7a4757ee81bcd91a98af993123509ad1d"
  },
  "kernelspec": {
   "display_name": "Python 3.8.5 64-bit ('fourthbrain_venv': venv)",
   "language": "python",
   "name": "python3"
  },
  "language_info": {
   "codemirror_mode": {
    "name": "ipython",
    "version": 3
   },
   "file_extension": ".py",
   "mimetype": "text/x-python",
   "name": "python",
   "nbconvert_exporter": "python",
   "pygments_lexer": "ipython3",
   "version": "3.8.5"
  },
  "orig_nbformat": 4
 },
 "nbformat": 4,
 "nbformat_minor": 2
}
