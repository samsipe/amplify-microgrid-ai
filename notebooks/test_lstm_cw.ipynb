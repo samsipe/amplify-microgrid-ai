{
 "cells": [
  {
   "cell_type": "code",
   "execution_count": 19,
   "metadata": {},
   "outputs": [],
   "source": [
    "import pandas as pd\n",
    "import numpy as np\n",
    "import matplotlib.pyplot as plt\n",
    "import seaborn as sns\n",
    "import tensorflow as tf\n",
    "from tensorflow import keras\n",
    "from tensorflow.keras import layers\n",
    "from tensorflow.keras.preprocessing import sequence\n",
    "from numpy import array"
   ]
  },
  {
   "cell_type": "code",
   "execution_count": 20,
   "metadata": {},
   "outputs": [],
   "source": [
    "# format of data [timestamp, features, power usage/generation]\n",
    "# fornow will generate bogus data for testing a model. Will format our actual data to fit this input format\n"
   ]
  },
  {
   "cell_type": "markdown",
   "metadata": {},
   "source": [
    "## Testing LSTM (Without our data)\n",
    "\n",
    "Need to play around with LSTMs and understand how to make a LSTM model before we can make one for us."
   ]
  },
  {
   "cell_type": "markdown",
   "metadata": {},
   "source": [
    "### LSTM Layers"
   ]
  },
  {
   "cell_type": "code",
   "execution_count": 21,
   "metadata": {},
   "outputs": [],
   "source": [
    "# Define Sequential model with 3 layers\n",
    "model = keras.Sequential(\n",
    "    [\n",
    "        layers.Dense(2, activation=\"relu\", name=\"layer1\"),\n",
    "        layers.Dense(3, activation=\"relu\", name=\"layer2\"),\n",
    "        layers.Dense(4, name=\"layer3\"),\n",
    "    ]\n",
    ")\n",
    "# Call model on a test input\n",
    "x = tf.ones((3, 3))\n",
    "y = model(x)"
   ]
  },
  {
   "cell_type": "code",
   "execution_count": 22,
   "metadata": {},
   "outputs": [],
   "source": [
    "# Defining the same layers manually\n",
    "\n",
    "# Create 3 layers\n",
    "layer1 = layers.Dense(2, activation=\"relu\", name=\"layer1\")\n",
    "layer2 = layers.Dense(3, activation=\"relu\", name=\"layer2\")\n",
    "layer3 = layers.Dense(4, name=\"layer3\")\n",
    "\n",
    "# Call layers on a test input\n",
    "x_m = tf.ones((3, 3))\n",
    "y_m = layer3(layer2(layer1(x_m)))"
   ]
  },
  {
   "cell_type": "markdown",
   "metadata": {},
   "source": [
    "What do layers in a LSTM look like?"
   ]
  },
  {
   "cell_type": "code",
   "execution_count": 23,
   "metadata": {},
   "outputs": [
    {
     "data": {
      "text/plain": [
       "[<keras.layers.core.Dense at 0x7ffa5d74dd90>,\n",
       " <keras.layers.core.Dense at 0x7ffa5d74d400>,\n",
       " <keras.layers.core.Dense at 0x7ffa5d70fe50>]"
      ]
     },
     "execution_count": 23,
     "metadata": {},
     "output_type": "execute_result"
    }
   ],
   "source": [
    "model.layers"
   ]
  },
  {
   "cell_type": "code",
   "execution_count": 24,
   "metadata": {},
   "outputs": [
    {
     "name": "stdout",
     "output_type": "stream",
     "text": [
      "Model: \"sequential_3\"\n",
      "_________________________________________________________________\n",
      "Layer (type)                 Output Shape              Param #   \n",
      "=================================================================\n",
      "layer1 (Dense)               (3, 2)                    8         \n",
      "_________________________________________________________________\n",
      "layer2 (Dense)               (3, 3)                    9         \n",
      "_________________________________________________________________\n",
      "layer3 (Dense)               (3, 4)                    16        \n",
      "=================================================================\n",
      "Total params: 33\n",
      "Trainable params: 33\n",
      "Non-trainable params: 0\n",
      "_________________________________________________________________\n"
     ]
    }
   ],
   "source": [
    "# summary of model\n",
    "model.summary()"
   ]
  },
  {
   "cell_type": "code",
   "execution_count": 25,
   "metadata": {},
   "outputs": [],
   "source": [
    "# Can add layers to model using .add() function"
   ]
  },
  {
   "cell_type": "code",
   "execution_count": 26,
   "metadata": {},
   "outputs": [],
   "source": [
    "model = keras.Sequential()\n",
    "model.add(layers.Dense(2, activation=\"relu\"))\n",
    "model.add(layers.Dense(3, activation=\"relu\"))\n",
    "model.add(layers.Dense(4))"
   ]
  },
  {
   "cell_type": "code",
   "execution_count": 27,
   "metadata": {},
   "outputs": [],
   "source": [
    "# Can remove layers with .pop() function"
   ]
  },
  {
   "cell_type": "code",
   "execution_count": 28,
   "metadata": {},
   "outputs": [
    {
     "name": "stdout",
     "output_type": "stream",
     "text": [
      "2\n"
     ]
    }
   ],
   "source": [
    "model.pop()\n",
    "print(len(model.layers))  # 2"
   ]
  },
  {
   "cell_type": "code",
   "execution_count": 29,
   "metadata": {},
   "outputs": [],
   "source": [
    "# Can name a model"
   ]
  },
  {
   "cell_type": "code",
   "execution_count": 30,
   "metadata": {},
   "outputs": [],
   "source": [
    "model = keras.Sequential(name=\"my_sequential\")\n",
    "model.add(layers.Dense(2, activation=\"relu\", name=\"layer1\"))\n",
    "model.add(layers.Dense(3, activation=\"relu\", name=\"layer2\"))\n",
    "model.add(layers.Dense(4, name=\"layer3\"))"
   ]
  },
  {
   "cell_type": "code",
   "execution_count": 31,
   "metadata": {},
   "outputs": [
    {
     "data": {
      "text/plain": [
       "[]"
      ]
     },
     "execution_count": 31,
     "metadata": {},
     "output_type": "execute_result"
    }
   ],
   "source": [
    "# Need to specify input data dimensions in order for the sequential model to create weights.\n",
    "# The below layer does not have a shape, so there will be no weights\n",
    "layer_no_shape = layers.Dense(3)\n",
    "layer_no_shape.weights"
   ]
  },
  {
   "cell_type": "code",
   "execution_count": 32,
   "metadata": {},
   "outputs": [
    {
     "data": {
      "text/plain": [
       "[<tf.Variable 'dense_11/kernel:0' shape=(4, 3) dtype=float32, numpy=\n",
       " array([[-0.7361845 ,  0.32329333,  0.756819  ],\n",
       "        [-0.8557609 ,  0.14590096,  0.63884854],\n",
       "        [-0.06972617,  0.3730328 ,  0.6977037 ],\n",
       "        [ 0.06428796,  0.62633836,  0.4782232 ]], dtype=float32)>,\n",
       " <tf.Variable 'dense_11/bias:0' shape=(3,) dtype=float32, numpy=array([0., 0., 0.], dtype=float32)>]"
      ]
     },
     "execution_count": 32,
     "metadata": {},
     "output_type": "execute_result"
    }
   ],
   "source": [
    "# The shape of the weights depends on the shape of the inputs\n",
    "x = tf.ones((1, 4))\n",
    "y = layer_no_shape(x)\n",
    "layer_no_shape.weights # now has weights of shape (4, 3) and (3,)"
   ]
  },
  {
   "cell_type": "code",
   "execution_count": 33,
   "metadata": {},
   "outputs": [
    {
     "name": "stdout",
     "output_type": "stream",
     "text": [
      "Number of weights after calling the model: 6\n"
     ]
    }
   ],
   "source": [
    "# The same is true for the sequential model. Without an input, the shape of the weights is unknown.\n",
    "\n",
    "model = keras.Sequential(\n",
    "    [\n",
    "        layers.Dense(2, activation=\"relu\"),\n",
    "        layers.Dense(3, activation=\"relu\"),\n",
    "        layers.Dense(4),\n",
    "    ]\n",
    ")  # No weights at this stage!\n",
    "\n",
    "# At this point, you can't do this:\n",
    "# model.weights\n",
    "\n",
    "# You also can't do this:\n",
    "# model.summary()\n",
    "\n",
    "# Call the model on a test input\n",
    "x = tf.ones((1, 4))\n",
    "y = model(x)\n",
    "print(\"Number of weights after calling the model:\", len(model.weights))  # 6"
   ]
  },
  {
   "cell_type": "code",
   "execution_count": 34,
   "metadata": {},
   "outputs": [
    {
     "name": "stdout",
     "output_type": "stream",
     "text": [
      "Model: \"sequential_5\"\n",
      "_________________________________________________________________\n",
      "Layer (type)                 Output Shape              Param #   \n",
      "=================================================================\n",
      "dense_12 (Dense)             (1, 2)                    10        \n",
      "_________________________________________________________________\n",
      "dense_13 (Dense)             (1, 3)                    9         \n",
      "_________________________________________________________________\n",
      "dense_14 (Dense)             (1, 4)                    16        \n",
      "=================================================================\n",
      "Total params: 35\n",
      "Trainable params: 35\n",
      "Non-trainable params: 0\n",
      "_________________________________________________________________\n"
     ]
    }
   ],
   "source": [
    "model.summary()"
   ]
  },
  {
   "cell_type": "code",
   "execution_count": 35,
   "metadata": {},
   "outputs": [
    {
     "name": "stdout",
     "output_type": "stream",
     "text": [
      "Model: \"sequential_6\"\n",
      "_________________________________________________________________\n",
      "Layer (type)                 Output Shape              Param #   \n",
      "=================================================================\n",
      "dense_15 (Dense)             (None, 2)                 10        \n",
      "=================================================================\n",
      "Total params: 10\n",
      "Trainable params: 10\n",
      "Non-trainable params: 0\n",
      "_________________________________________________________________\n"
     ]
    }
   ],
   "source": [
    "# Should start a model by giving it the input shape. In this case lets do 4 features\n",
    "model = keras.Sequential()\n",
    "model.add(keras.Input(shape=(4,)))\n",
    "model.add(layers.Dense(2, activation=\"relu\"))\n",
    "\n",
    "model.summary()"
   ]
  },
  {
   "cell_type": "code",
   "execution_count": 36,
   "metadata": {},
   "outputs": [
    {
     "data": {
      "text/plain": [
       "[<keras.layers.core.Dense at 0x7ffa5d766460>]"
      ]
     },
     "execution_count": 36,
     "metadata": {},
     "output_type": "execute_result"
    }
   ],
   "source": [
    "# input shape is not a model layer.\n",
    "model.layers"
   ]
  },
  {
   "cell_type": "markdown",
   "metadata": {},
   "source": [
    "### Running LSTM Model"
   ]
  },
  {
   "cell_type": "code",
   "execution_count": 58,
   "metadata": {},
   "outputs": [
    {
     "name": "stdout",
     "output_type": "stream",
     "text": [
      "Model: \"sequential_14\"\n",
      "_________________________________________________________________\n",
      "Layer (type)                 Output Shape              Param #   \n",
      "=================================================================\n",
      "flatten_7 (Flatten)          (None, 40)                0         \n",
      "_________________________________________________________________\n",
      "dense_35 (Dense)             (None, 32)                1312      \n",
      "_________________________________________________________________\n",
      "dense_36 (Dense)             (None, 16)                528       \n",
      "_________________________________________________________________\n",
      "dense_37 (Dense)             (None, 1)                 17        \n",
      "=================================================================\n",
      "Total params: 1,857\n",
      "Trainable params: 1,857\n",
      "Non-trainable params: 0\n",
      "_________________________________________________________________\n"
     ]
    }
   ],
   "source": [
    "# Example Model:\n",
    "model = keras.models.Sequential()\n",
    "model.add(keras.layers.Flatten(input_shape=[1, 40]))\n",
    "model.add(keras.layers.Dense(32, activation=\"relu\"))\n",
    "model.add(keras.layers.Dense(16, activation=\"relu\"))\n",
    "model.add(keras.layers.Dense(1, activation=\"softmax\"))\n",
    "model.summary()\n"
   ]
  },
  {
   "cell_type": "code",
   "execution_count": 59,
   "metadata": {},
   "outputs": [
    {
     "data": {
      "text/plain": [
       "[<tf.Variable 'dense_35/kernel:0' shape=(40, 32) dtype=float32, numpy=\n",
       " array([[ 5.31734824e-02, -2.64064014e-01, -9.63626057e-02, ...,\n",
       "         -1.01740345e-01,  1.32801592e-01, -1.11264154e-01],\n",
       "        [-1.07859418e-01, -6.43579066e-02, -1.43180192e-01, ...,\n",
       "          2.34123826e-01, -4.39640135e-02, -1.02627993e-01],\n",
       "        [-1.17011666e-02,  5.47239184e-03,  2.38501966e-01, ...,\n",
       "          2.48322129e-01, -2.57363915e-02, -1.61148012e-02],\n",
       "        ...,\n",
       "        [-6.26177341e-02,  1.53038412e-01, -1.34756371e-01, ...,\n",
       "          1.95193887e-02,  2.00919926e-01,  2.79103041e-01],\n",
       "        [-1.46802887e-01,  1.66866839e-01, -1.83316067e-01, ...,\n",
       "          2.71648169e-04, -2.71551818e-01,  2.80342102e-01],\n",
       "        [ 8.26807022e-02,  1.75280154e-01,  1.70253813e-02, ...,\n",
       "         -1.10262468e-01,  7.74783194e-02, -2.81706482e-01]], dtype=float32)>,\n",
       " <tf.Variable 'dense_35/bias:0' shape=(32,) dtype=float32, numpy=\n",
       " array([0., 0., 0., 0., 0., 0., 0., 0., 0., 0., 0., 0., 0., 0., 0., 0., 0.,\n",
       "        0., 0., 0., 0., 0., 0., 0., 0., 0., 0., 0., 0., 0., 0., 0.],\n",
       "       dtype=float32)>,\n",
       " <tf.Variable 'dense_36/kernel:0' shape=(32, 16) dtype=float32, numpy=\n",
       " array([[-0.33201903, -0.07390499, -0.09270251,  0.17041954,  0.11827073,\n",
       "          0.00035647,  0.06706363,  0.12976754,  0.32988033,  0.22614685,\n",
       "          0.21163127,  0.31383488,  0.24681994,  0.22342566,  0.2893063 ,\n",
       "          0.29191843],\n",
       "        [-0.28384215, -0.28888816, -0.19631512, -0.3099615 ,  0.06599051,\n",
       "          0.340637  ,  0.35028622,  0.13934988,  0.3106167 , -0.01497748,\n",
       "          0.04962108, -0.31958842, -0.24579284,  0.30474457, -0.30304822,\n",
       "          0.02237797],\n",
       "        [-0.25310194, -0.04549357,  0.16369286,  0.13973644, -0.18110795,\n",
       "         -0.13482675,  0.06424654, -0.28924775, -0.04758522,  0.25856718,\n",
       "         -0.24732436, -0.33433527, -0.04330927, -0.11639999, -0.05231917,\n",
       "          0.18747619],\n",
       "        [-0.25740588,  0.12911814, -0.10772136, -0.3185822 , -0.25468403,\n",
       "          0.16761306, -0.11620864, -0.3032518 , -0.1122878 ,  0.17261091,\n",
       "          0.13997981,  0.33945635, -0.1246144 , -0.19188929, -0.00983185,\n",
       "         -0.02582851],\n",
       "        [ 0.30005303, -0.08628774, -0.2288835 ,  0.28673193,  0.21921471,\n",
       "         -0.32453427,  0.18766114,  0.18731937,  0.23892584,  0.3269337 ,\n",
       "          0.14705774,  0.22185037,  0.248063  , -0.2582629 ,  0.13182724,\n",
       "          0.13436937],\n",
       "        [ 0.14889124,  0.3113757 ,  0.33388457,  0.30910686, -0.08998275,\n",
       "          0.34704062,  0.15330121,  0.01248753,  0.0502972 ,  0.30057094,\n",
       "          0.2924166 ,  0.34891292,  0.2142609 ,  0.19274417, -0.01437241,\n",
       "         -0.0531041 ],\n",
       "        [ 0.10353339, -0.06852859,  0.17683306,  0.05588856, -0.09209079,\n",
       "         -0.20659618,  0.27864328,  0.06897375,  0.2508025 ,  0.07345784,\n",
       "          0.08214867,  0.16840228,  0.26057342, -0.2450121 , -0.11046907,\n",
       "          0.29418257],\n",
       "        [-0.2760702 , -0.05156186, -0.07831281, -0.1063547 ,  0.22614518,\n",
       "         -0.12316911,  0.19863752, -0.32991153,  0.2609189 ,  0.20642379,\n",
       "          0.25179574,  0.1119712 ,  0.23116967, -0.08574244,  0.348963  ,\n",
       "         -0.22976236],\n",
       "        [-0.00364882, -0.20188788, -0.12405714,  0.15424195,  0.26936284,\n",
       "         -0.19296226,  0.02246663,  0.2551153 , -0.17286631, -0.09312665,\n",
       "         -0.02445108, -0.12068598,  0.23358044, -0.10601078, -0.2028612 ,\n",
       "         -0.12997784],\n",
       "        [ 0.04099253,  0.19693366, -0.01642144,  0.08420351,  0.35341606,\n",
       "         -0.28635275, -0.1522909 ,  0.2968302 ,  0.06944838, -0.14688902,\n",
       "         -0.21181539, -0.03206566, -0.08182734, -0.30703196, -0.09234896,\n",
       "         -0.06100193],\n",
       "        [ 0.3122109 ,  0.2507846 , -0.01409474,  0.27898458,  0.2920352 ,\n",
       "         -0.29832113,  0.0310967 ,  0.1093134 ,  0.00256598, -0.28087974,\n",
       "          0.13635212,  0.07973331, -0.14107266, -0.22614035,  0.14231575,\n",
       "         -0.23598838],\n",
       "        [ 0.3012403 ,  0.16396919,  0.05016369,  0.00405538, -0.09045187,\n",
       "          0.15168515,  0.30601606,  0.27676514,  0.15736619, -0.23175961,\n",
       "          0.02711341,  0.22970363, -0.1386043 , -0.34547392,  0.30180386,\n",
       "          0.03641638],\n",
       "        [-0.18912429,  0.09855855,  0.08993092, -0.23174605, -0.07659903,\n",
       "         -0.23273236,  0.01269302,  0.30084834,  0.3506188 ,  0.08718681,\n",
       "          0.31758782, -0.03375059,  0.02985716,  0.12192392,  0.1937677 ,\n",
       "         -0.02474383],\n",
       "        [ 0.24459246, -0.31030464,  0.15415683,  0.3374935 ,  0.03730115,\n",
       "         -0.09486035, -0.30241972, -0.28381705,  0.32292107,  0.11300209,\n",
       "          0.20908514,  0.07666445,  0.10159945, -0.24093448, -0.08291692,\n",
       "          0.00313774],\n",
       "        [-0.1817582 ,  0.24960938, -0.01081312,  0.19282678, -0.3140557 ,\n",
       "          0.31130603, -0.05954263,  0.32992807,  0.10964274, -0.05845624,\n",
       "          0.21477821, -0.0734306 , -0.12959406,  0.0643321 , -0.24671534,\n",
       "         -0.24233493],\n",
       "        [ 0.10860103,  0.11724603, -0.34509864,  0.2682555 , -0.18539926,\n",
       "         -0.23539814,  0.053864  , -0.34677508, -0.24554972,  0.16142705,\n",
       "         -0.12956953,  0.11887065, -0.2603936 ,  0.29760447,  0.15835205,\n",
       "          0.31756017],\n",
       "        [ 0.00151518,  0.18312654,  0.22145405,  0.07572785,  0.22888222,\n",
       "          0.29360303,  0.16306528,  0.05331635,  0.18331239, -0.1773868 ,\n",
       "         -0.27693024, -0.27182737,  0.1315597 , -0.01449296, -0.05138871,\n",
       "          0.33500168],\n",
       "        [ 0.16890022,  0.23565033,  0.12944731,  0.18972465,  0.31296477,\n",
       "         -0.17934875,  0.2770143 , -0.16742742,  0.12981743, -0.30716506,\n",
       "          0.12866262,  0.3485147 , -0.3056256 , -0.17949566, -0.2764518 ,\n",
       "          0.20622781],\n",
       "        [ 0.2660161 , -0.20848183, -0.06276721,  0.31812128, -0.33503085,\n",
       "         -0.14154564, -0.35282627, -0.10655726,  0.07560545,  0.32511142,\n",
       "          0.07429335, -0.31803572, -0.2647859 ,  0.18621436,  0.33663723,\n",
       "         -0.27292427],\n",
       "        [-0.25956938, -0.06341079, -0.14997509, -0.0074878 ,  0.04369017,\n",
       "         -0.26845664, -0.01449227,  0.1274826 ,  0.24841437,  0.09900057,\n",
       "         -0.27029195, -0.15260413,  0.09617895,  0.21644935, -0.08627519,\n",
       "          0.01196387],\n",
       "        [-0.20425273,  0.3072308 , -0.01643458, -0.29929158,  0.16427925,\n",
       "         -0.21254218,  0.17194197,  0.06816149, -0.3181073 , -0.34433982,\n",
       "         -0.27873835, -0.12115878,  0.26117072,  0.02664667,  0.09798738,\n",
       "         -0.13273998],\n",
       "        [ 0.0940893 , -0.05624667,  0.00801539,  0.14440453,  0.22457007,\n",
       "         -0.07972261, -0.1812827 ,  0.3027824 ,  0.15272692,  0.2613348 ,\n",
       "         -0.01878324, -0.04940411, -0.2737801 ,  0.11346403,  0.1993787 ,\n",
       "         -0.04905716],\n",
       "        [ 0.0546186 ,  0.05607569, -0.05844587, -0.27839535, -0.21044748,\n",
       "         -0.20702472, -0.26888272, -0.34900355, -0.09430274,  0.34792915,\n",
       "          0.14751533, -0.19174068, -0.3420703 , -0.04753786,  0.32590017,\n",
       "          0.267911  ],\n",
       "        [-0.16795418, -0.12255941,  0.24136302,  0.08253565, -0.07670137,\n",
       "         -0.06109777,  0.17258754, -0.27599525,  0.25892606,  0.23884425,\n",
       "          0.10655153, -0.00111142, -0.27682808,  0.13032058, -0.20232366,\n",
       "          0.00487983],\n",
       "        [-0.07560351,  0.10772306,  0.19076875,  0.28828815, -0.20281307,\n",
       "          0.22697243,  0.16670188,  0.23337182,  0.28561792, -0.05825293,\n",
       "         -0.04058978,  0.05782539, -0.06540668, -0.35011885, -0.32392964,\n",
       "         -0.14282116],\n",
       "        [-0.19381742, -0.28175935, -0.23643976, -0.06844959, -0.28629494,\n",
       "          0.00647983, -0.3275118 ,  0.17117527,  0.15354678,  0.11396441,\n",
       "         -0.06361789, -0.035687  , -0.04355076,  0.2541711 , -0.25404593,\n",
       "         -0.27790087],\n",
       "        [-0.2989388 ,  0.15306833, -0.23856524, -0.01149124, -0.24895638,\n",
       "         -0.08558694, -0.01683041,  0.08177608,  0.13907903,  0.08713743,\n",
       "          0.0732024 ,  0.11514485, -0.03034422, -0.12069204,  0.02370095,\n",
       "          0.14024928],\n",
       "        [-0.29974687, -0.25689995, -0.06763321,  0.13913533,  0.19801012,\n",
       "         -0.18763566,  0.18089142, -0.03792256, -0.17882974,  0.34913215,\n",
       "         -0.01754707,  0.15372482, -0.21382377,  0.0631966 , -0.31831795,\n",
       "          0.0536654 ],\n",
       "        [-0.07643971, -0.12939091,  0.2850937 , -0.2592423 ,  0.3388112 ,\n",
       "         -0.14990698,  0.16601923,  0.00658605, -0.19414675, -0.06282368,\n",
       "         -0.24101818,  0.24920067, -0.17442103, -0.16412902,  0.18174347,\n",
       "         -0.16362882],\n",
       "        [ 0.3331881 , -0.04041824,  0.33507594, -0.10554203,  0.01015174,\n",
       "         -0.33741856,  0.23580214,  0.21443465, -0.28892177,  0.34303436,\n",
       "          0.03010002, -0.2638058 , -0.21671623, -0.22135828,  0.26115516,\n",
       "          0.18410239],\n",
       "        [-0.25453046,  0.31744584, -0.02945617, -0.34048602,  0.30806533,\n",
       "          0.2417706 ,  0.11447817, -0.11082235,  0.22514382, -0.32427126,\n",
       "          0.09074757,  0.30812582, -0.33211   , -0.0777519 , -0.34424457,\n",
       "          0.2605714 ],\n",
       "        [ 0.31843612, -0.15139814, -0.02713102, -0.00704062, -0.23430444,\n",
       "         -0.22157255,  0.1993734 ,  0.31578282, -0.09527951,  0.11840153,\n",
       "          0.24311742,  0.2040526 , -0.32505774,  0.13304496,  0.31982055,\n",
       "          0.05954009]], dtype=float32)>,\n",
       " <tf.Variable 'dense_36/bias:0' shape=(16,) dtype=float32, numpy=\n",
       " array([0., 0., 0., 0., 0., 0., 0., 0., 0., 0., 0., 0., 0., 0., 0., 0.],\n",
       "       dtype=float32)>,\n",
       " <tf.Variable 'dense_37/kernel:0' shape=(16, 1) dtype=float32, numpy=\n",
       " array([[ 0.5685166 ],\n",
       "        [-0.5312931 ],\n",
       "        [ 0.01403672],\n",
       "        [-0.37136453],\n",
       "        [-0.3526007 ],\n",
       "        [ 0.19290543],\n",
       "        [-0.51031923],\n",
       "        [ 0.25081682],\n",
       "        [-0.34713447],\n",
       "        [ 0.55825984],\n",
       "        [ 0.06839937],\n",
       "        [-0.4752636 ],\n",
       "        [ 0.52191746],\n",
       "        [ 0.46347332],\n",
       "        [-0.54474056],\n",
       "        [-0.08980656]], dtype=float32)>,\n",
       " <tf.Variable 'dense_37/bias:0' shape=(1,) dtype=float32, numpy=array([0.], dtype=float32)>]"
      ]
     },
     "execution_count": 59,
     "metadata": {},
     "output_type": "execute_result"
    }
   ],
   "source": [
    "model.weights"
   ]
  },
  {
   "cell_type": "code",
   "execution_count": 60,
   "metadata": {},
   "outputs": [
    {
     "data": {
      "image/png": "[encoded data removed]",
      "text/plain": [
       "<IPython.core.display.Image object>"
      ]
     },
     "execution_count": 60,
     "metadata": {},
     "output_type": "execute_result"
    }
   ],
   "source": [
    "from tensorflow.keras.utils import plot_model\n",
    "plot_model(model, to_file='../data/model_plot.png', show_shapes=True, show_layer_names=True)"
   ]
  },
  {
   "cell_type": "code",
   "execution_count": 50,
   "metadata": {},
   "outputs": [],
   "source": [
    "# specify loss function and optimizer (sgd)\n",
    "model.compile(loss=\"sparse_categorical_crossentropy\", optimizer=\"sgd\",\n",
    "              metrics=[\"accuracy\"])"
   ]
  },
  {
   "cell_type": "code",
   "execution_count": 53,
   "metadata": {},
   "outputs": [],
   "source": [
    "# make up some data\n",
    "X_train = np.random.randint(0, 100, (500, 40))\n",
    "Y_train = np.random.randint(0, 100, (500, 1))\n",
    "X_valid = np.random.randint(0, 100, (200, 40))\n",
    "Y_valid = np.random.randint(0, 100, (200, 1))\n"
   ]
  },
  {
   "cell_type": "code",
   "execution_count": 55,
   "metadata": {},
   "outputs": [
    {
     "name": "stdout",
     "output_type": "stream",
     "text": [
      "Epoch 1/20\n",
      "WARNING:tensorflow:Model was constructed with shape (None, 1, 40) for input KerasTensor(type_spec=TensorSpec(shape=(None, 1, 40), dtype=tf.float32, name='flatten_5_input'), name='flatten_5_input', description=\"created by layer 'flatten_5_input'\"), but it was called on an input with incompatible shape (None, 40).\n"
     ]
    },
    {
     "name": "stderr",
     "output_type": "stream",
     "text": [
      "2022-01-12 15:21:39.068960: I tensorflow/compiler/mlir/mlir_graph_optimization_pass.cc:185] None of the MLIR Optimization Passes are enabled (registered 2)\n"
     ]
    },
    {
     "name": "stdout",
     "output_type": "stream",
     "text": [
      "WARNING:tensorflow:Model was constructed with shape (None, 1, 40) for input KerasTensor(type_spec=TensorSpec(shape=(None, 1, 40), dtype=tf.float32, name='flatten_5_input'), name='flatten_5_input', description=\"created by layer 'flatten_5_input'\"), but it was called on an input with incompatible shape (None, 40).\n"
     ]
    },
    {
     "name": "stderr",
     "output_type": "stream",
     "text": [
      "2022-01-12 15:21:39.873324: W tensorflow/core/framework/op_kernel.cc:1692] OP_REQUIRES failed at sparse_xent_op.cc:114 : Invalid argument: Received a label value of 93 which is outside the valid range of [0, 1).  Label values: 82 82 54 72 64 88 87 36 77 92 54 38 51 20 46 27 14 0 7 10 83 0 30 93 34 79 17 41 71 17 17 20\n"
     ]
    },
    {
     "ename": "InvalidArgumentError",
     "evalue": " Received a label value of 93 which is outside the valid range of [0, 1).  Label values: 82 82 54 72 64 88 87 36 77 92 54 38 51 20 46 27 14 0 7 10 83 0 30 93 34 79 17 41 71 17 17 20\n\t [[node sparse_categorical_crossentropy/SparseSoftmaxCrossEntropyWithLogits/SparseSoftmaxCrossEntropyWithLogits (defined at var/folders/qw/nxdjklks0lsd2yr222thlg8c0000gn/T/ipykernel_60697/3490617916.py:1) ]] [Op:__inference_train_function_1571]\n\nFunction call stack:\ntrain_function\n",
     "output_type": "error",
     "traceback": [
      "\u001b[0;31m---------------------------------------------------------------------------\u001b[0m",
      "\u001b[0;31mInvalidArgumentError\u001b[0m                      Traceback (most recent call last)",
      "\u001b[0;32m/var/folders/qw/nxdjklks0lsd2yr222thlg8c0000gn/T/ipykernel_60697/3490617916.py\u001b[0m in \u001b[0;36m<module>\u001b[0;34m\u001b[0m\n\u001b[0;32m----> 1\u001b[0;31m \u001b[0mhistory\u001b[0m \u001b[0;34m=\u001b[0m \u001b[0mmodel\u001b[0m\u001b[0;34m.\u001b[0m\u001b[0mfit\u001b[0m\u001b[0;34m(\u001b[0m\u001b[0mX_train\u001b[0m\u001b[0;34m,\u001b[0m \u001b[0mY_train\u001b[0m\u001b[0;34m,\u001b[0m \u001b[0mepochs\u001b[0m\u001b[0;34m=\u001b[0m\u001b[0;36m20\u001b[0m\u001b[0;34m,\u001b[0m \u001b[0mvalidation_data\u001b[0m\u001b[0;34m=\u001b[0m\u001b[0;34m(\u001b[0m\u001b[0mX_valid\u001b[0m\u001b[0;34m,\u001b[0m \u001b[0mY_valid\u001b[0m\u001b[0;34m)\u001b[0m\u001b[0;34m)\u001b[0m\u001b[0;34m\u001b[0m\u001b[0;34m\u001b[0m\u001b[0m\n\u001b[0m",
      "\u001b[0;32m~/Fourthbrain/Fourthbrain/fourthbrain_venv/lib/python3.8/site-packages/keras/engine/training.py\u001b[0m in \u001b[0;36mfit\u001b[0;34m(self, x, y, batch_size, epochs, verbose, callbacks, validation_split, validation_data, shuffle, class_weight, sample_weight, initial_epoch, steps_per_epoch, validation_steps, validation_batch_size, validation_freq, max_queue_size, workers, use_multiprocessing)\u001b[0m\n\u001b[1;32m   1182\u001b[0m                 _r=1):\n\u001b[1;32m   1183\u001b[0m               \u001b[0mcallbacks\u001b[0m\u001b[0;34m.\u001b[0m\u001b[0mon_train_batch_begin\u001b[0m\u001b[0;34m(\u001b[0m\u001b[0mstep\u001b[0m\u001b[0;34m)\u001b[0m\u001b[0;34m\u001b[0m\u001b[0;34m\u001b[0m\u001b[0m\n\u001b[0;32m-> 1184\u001b[0;31m               \u001b[0mtmp_logs\u001b[0m \u001b[0;34m=\u001b[0m \u001b[0mself\u001b[0m\u001b[0;34m.\u001b[0m\u001b[0mtrain_function\u001b[0m\u001b[0;34m(\u001b[0m\u001b[0miterator\u001b[0m\u001b[0;34m)\u001b[0m\u001b[0;34m\u001b[0m\u001b[0;34m\u001b[0m\u001b[0m\n\u001b[0m\u001b[1;32m   1185\u001b[0m               \u001b[0;32mif\u001b[0m \u001b[0mdata_handler\u001b[0m\u001b[0;34m.\u001b[0m\u001b[0mshould_sync\u001b[0m\u001b[0;34m:\u001b[0m\u001b[0;34m\u001b[0m\u001b[0;34m\u001b[0m\u001b[0m\n\u001b[1;32m   1186\u001b[0m                 \u001b[0mcontext\u001b[0m\u001b[0;34m.\u001b[0m\u001b[0masync_wait\u001b[0m\u001b[0;34m(\u001b[0m\u001b[0;34m)\u001b[0m\u001b[0;34m\u001b[0m\u001b[0;34m\u001b[0m\u001b[0m\n",
      "\u001b[0;32m~/Fourthbrain/Fourthbrain/fourthbrain_venv/lib/python3.8/site-packages/tensorflow/python/eager/def_function.py\u001b[0m in \u001b[0;36m__call__\u001b[0;34m(self, *args, **kwds)\u001b[0m\n\u001b[1;32m    883\u001b[0m \u001b[0;34m\u001b[0m\u001b[0m\n\u001b[1;32m    884\u001b[0m       \u001b[0;32mwith\u001b[0m \u001b[0mOptionalXlaContext\u001b[0m\u001b[0;34m(\u001b[0m\u001b[0mself\u001b[0m\u001b[0;34m.\u001b[0m\u001b[0m_jit_compile\u001b[0m\u001b[0;34m)\u001b[0m\u001b[0;34m:\u001b[0m\u001b[0;34m\u001b[0m\u001b[0;34m\u001b[0m\u001b[0m\n\u001b[0;32m--> 885\u001b[0;31m         \u001b[0mresult\u001b[0m \u001b[0;34m=\u001b[0m \u001b[0mself\u001b[0m\u001b[0;34m.\u001b[0m\u001b[0m_call\u001b[0m\u001b[0;34m(\u001b[0m\u001b[0;34m*\u001b[0m\u001b[0margs\u001b[0m\u001b[0;34m,\u001b[0m \u001b[0;34m**\u001b[0m\u001b[0mkwds\u001b[0m\u001b[0;34m)\u001b[0m\u001b[0;34m\u001b[0m\u001b[0;34m\u001b[0m\u001b[0m\n\u001b[0m\u001b[1;32m    886\u001b[0m \u001b[0;34m\u001b[0m\u001b[0m\n\u001b[1;32m    887\u001b[0m       \u001b[0mnew_tracing_count\u001b[0m \u001b[0;34m=\u001b[0m \u001b[0mself\u001b[0m\u001b[0;34m.\u001b[0m\u001b[0mexperimental_get_tracing_count\u001b[0m\u001b[0;34m(\u001b[0m\u001b[0;34m)\u001b[0m\u001b[0;34m\u001b[0m\u001b[0;34m\u001b[0m\u001b[0m\n",
      "\u001b[0;32m~/Fourthbrain/Fourthbrain/fourthbrain_venv/lib/python3.8/site-packages/tensorflow/python/eager/def_function.py\u001b[0m in \u001b[0;36m_call\u001b[0;34m(self, *args, **kwds)\u001b[0m\n\u001b[1;32m    948\u001b[0m         \u001b[0;31m# Lifting succeeded, so variables are initialized and we can run the\u001b[0m\u001b[0;34m\u001b[0m\u001b[0;34m\u001b[0m\u001b[0;34m\u001b[0m\u001b[0m\n\u001b[1;32m    949\u001b[0m         \u001b[0;31m# stateless function.\u001b[0m\u001b[0;34m\u001b[0m\u001b[0;34m\u001b[0m\u001b[0;34m\u001b[0m\u001b[0m\n\u001b[0;32m--> 950\u001b[0;31m         \u001b[0;32mreturn\u001b[0m \u001b[0mself\u001b[0m\u001b[0;34m.\u001b[0m\u001b[0m_stateless_fn\u001b[0m\u001b[0;34m(\u001b[0m\u001b[0;34m*\u001b[0m\u001b[0margs\u001b[0m\u001b[0;34m,\u001b[0m \u001b[0;34m**\u001b[0m\u001b[0mkwds\u001b[0m\u001b[0;34m)\u001b[0m\u001b[0;34m\u001b[0m\u001b[0;34m\u001b[0m\u001b[0m\n\u001b[0m\u001b[1;32m    951\u001b[0m     \u001b[0;32melse\u001b[0m\u001b[0;34m:\u001b[0m\u001b[0;34m\u001b[0m\u001b[0;34m\u001b[0m\u001b[0m\n\u001b[1;32m    952\u001b[0m       \u001b[0m_\u001b[0m\u001b[0;34m,\u001b[0m \u001b[0m_\u001b[0m\u001b[0;34m,\u001b[0m \u001b[0m_\u001b[0m\u001b[0;34m,\u001b[0m \u001b[0mfiltered_flat_args\u001b[0m \u001b[0;34m=\u001b[0m\u001b[0;31m \u001b[0m\u001b[0;31m\\\u001b[0m\u001b[0;34m\u001b[0m\u001b[0;34m\u001b[0m\u001b[0m\n",
      "\u001b[0;32m~/Fourthbrain/Fourthbrain/fourthbrain_venv/lib/python3.8/site-packages/tensorflow/python/eager/function.py\u001b[0m in \u001b[0;36m__call__\u001b[0;34m(self, *args, **kwargs)\u001b[0m\n\u001b[1;32m   3037\u001b[0m       (graph_function,\n\u001b[1;32m   3038\u001b[0m        filtered_flat_args) = self._maybe_define_function(args, kwargs)\n\u001b[0;32m-> 3039\u001b[0;31m     return graph_function._call_flat(\n\u001b[0m\u001b[1;32m   3040\u001b[0m         filtered_flat_args, captured_inputs=graph_function.captured_inputs)  # pylint: disable=protected-access\n\u001b[1;32m   3041\u001b[0m \u001b[0;34m\u001b[0m\u001b[0m\n",
      "\u001b[0;32m~/Fourthbrain/Fourthbrain/fourthbrain_venv/lib/python3.8/site-packages/tensorflow/python/eager/function.py\u001b[0m in \u001b[0;36m_call_flat\u001b[0;34m(self, args, captured_inputs, cancellation_manager)\u001b[0m\n\u001b[1;32m   1961\u001b[0m         and executing_eagerly):\n\u001b[1;32m   1962\u001b[0m       \u001b[0;31m# No tape is watching; skip to running the function.\u001b[0m\u001b[0;34m\u001b[0m\u001b[0;34m\u001b[0m\u001b[0;34m\u001b[0m\u001b[0m\n\u001b[0;32m-> 1963\u001b[0;31m       return self._build_call_outputs(self._inference_function.call(\n\u001b[0m\u001b[1;32m   1964\u001b[0m           ctx, args, cancellation_manager=cancellation_manager))\n\u001b[1;32m   1965\u001b[0m     forward_backward = self._select_forward_and_backward_functions(\n",
      "\u001b[0;32m~/Fourthbrain/Fourthbrain/fourthbrain_venv/lib/python3.8/site-packages/tensorflow/python/eager/function.py\u001b[0m in \u001b[0;36mcall\u001b[0;34m(self, ctx, args, cancellation_manager)\u001b[0m\n\u001b[1;32m    589\u001b[0m       \u001b[0;32mwith\u001b[0m \u001b[0m_InterpolateFunctionError\u001b[0m\u001b[0;34m(\u001b[0m\u001b[0mself\u001b[0m\u001b[0;34m)\u001b[0m\u001b[0;34m:\u001b[0m\u001b[0;34m\u001b[0m\u001b[0;34m\u001b[0m\u001b[0m\n\u001b[1;32m    590\u001b[0m         \u001b[0;32mif\u001b[0m \u001b[0mcancellation_manager\u001b[0m \u001b[0;32mis\u001b[0m \u001b[0;32mNone\u001b[0m\u001b[0;34m:\u001b[0m\u001b[0;34m\u001b[0m\u001b[0;34m\u001b[0m\u001b[0m\n\u001b[0;32m--> 591\u001b[0;31m           outputs = execute.execute(\n\u001b[0m\u001b[1;32m    592\u001b[0m               \u001b[0mstr\u001b[0m\u001b[0;34m(\u001b[0m\u001b[0mself\u001b[0m\u001b[0;34m.\u001b[0m\u001b[0msignature\u001b[0m\u001b[0;34m.\u001b[0m\u001b[0mname\u001b[0m\u001b[0;34m)\u001b[0m\u001b[0;34m,\u001b[0m\u001b[0;34m\u001b[0m\u001b[0;34m\u001b[0m\u001b[0m\n\u001b[1;32m    593\u001b[0m               \u001b[0mnum_outputs\u001b[0m\u001b[0;34m=\u001b[0m\u001b[0mself\u001b[0m\u001b[0;34m.\u001b[0m\u001b[0m_num_outputs\u001b[0m\u001b[0;34m,\u001b[0m\u001b[0;34m\u001b[0m\u001b[0;34m\u001b[0m\u001b[0m\n",
      "\u001b[0;32m~/Fourthbrain/Fourthbrain/fourthbrain_venv/lib/python3.8/site-packages/tensorflow/python/eager/execute.py\u001b[0m in \u001b[0;36mquick_execute\u001b[0;34m(op_name, num_outputs, inputs, attrs, ctx, name)\u001b[0m\n\u001b[1;32m     57\u001b[0m   \u001b[0;32mtry\u001b[0m\u001b[0;34m:\u001b[0m\u001b[0;34m\u001b[0m\u001b[0;34m\u001b[0m\u001b[0m\n\u001b[1;32m     58\u001b[0m     \u001b[0mctx\u001b[0m\u001b[0;34m.\u001b[0m\u001b[0mensure_initialized\u001b[0m\u001b[0;34m(\u001b[0m\u001b[0;34m)\u001b[0m\u001b[0;34m\u001b[0m\u001b[0;34m\u001b[0m\u001b[0m\n\u001b[0;32m---> 59\u001b[0;31m     tensors = pywrap_tfe.TFE_Py_Execute(ctx._handle, device_name, op_name,\n\u001b[0m\u001b[1;32m     60\u001b[0m                                         inputs, attrs, num_outputs)\n\u001b[1;32m     61\u001b[0m   \u001b[0;32mexcept\u001b[0m \u001b[0mcore\u001b[0m\u001b[0;34m.\u001b[0m\u001b[0m_NotOkStatusException\u001b[0m \u001b[0;32mas\u001b[0m \u001b[0me\u001b[0m\u001b[0;34m:\u001b[0m\u001b[0;34m\u001b[0m\u001b[0;34m\u001b[0m\u001b[0m\n",
      "\u001b[0;31mInvalidArgumentError\u001b[0m:  Received a label value of 93 which is outside the valid range of [0, 1).  Label values: 82 82 54 72 64 88 87 36 77 92 54 38 51 20 46 27 14 0 7 10 83 0 30 93 34 79 17 41 71 17 17 20\n\t [[node sparse_categorical_crossentropy/SparseSoftmaxCrossEntropyWithLogits/SparseSoftmaxCrossEntropyWithLogits (defined at var/folders/qw/nxdjklks0lsd2yr222thlg8c0000gn/T/ipykernel_60697/3490617916.py:1) ]] [Op:__inference_train_function_1571]\n\nFunction call stack:\ntrain_function\n"
     ]
    }
   ],
   "source": [
    "history = model.fit(X_train, Y_train, epochs=20, validation_data=(X_valid, Y_valid))"
   ]
  }
 ],
 "metadata": {
  "interpreter": {
   "hash": "ebbabc1e6dda0a634caa316fe10f04a7a4757ee81bcd91a98af993123509ad1d"
  },
  "kernelspec": {
   "display_name": "Python 3.8.5 64-bit ('fourthbrain_venv': venv)",
   "language": "python",
   "name": "python3"
  },
  "language_info": {
   "codemirror_mode": {
    "name": "ipython",
    "version": 3
   },
   "file_extension": ".py",
   "mimetype": "text/x-python",
   "name": "python",
   "nbconvert_exporter": "python",
   "pygments_lexer": "ipython3",
   "version": "3.8.5"
  },
  "orig_nbformat": 4
 },
 "nbformat": 4,
 "nbformat_minor": 2
}
