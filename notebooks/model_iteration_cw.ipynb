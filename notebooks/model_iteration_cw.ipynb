{
 "cells": [
  {
   "cell_type": "code",
   "execution_count": 1,
   "metadata": {},
   "outputs": [],
   "source": [
    "# Load libs:\n",
    "import os\n",
    "import sys\n",
    "import pandas as pd\n",
    "import numpy as np\n",
    "import matplotlib.pyplot as plt\n",
    "import datetime as dt\n",
    "from glob import glob\n",
    "from os.path import dirname, abspath, join, exists\n",
    "from clearml import Task\n",
    "from amplify.data import DataGenerator, DataSplit"
   ]
  },
  {
   "cell_type": "code",
   "execution_count": 2,
   "metadata": {},
   "outputs": [
    {
     "name": "stdout",
     "output_type": "stream",
     "text": [
      "ClearML Task: created new task id=02fcd2d3b5cd4e71bfac9d2687b968a6\n",
      "ClearML results page: https://app.clear.ml/projects/f0e0b096252d4c18b9005e580afc5bce/experiments/02fcd2d3b5cd4e71bfac9d2687b968a6/output/log\n"
     ]
    }
   ],
   "source": [
    "# ClearML Stuff\n",
    "task = Task.init(project_name=\"amplify\", task_name=\"predict_power_gen_initial_model\")"
   ]
  },
  {
   "cell_type": "markdown",
   "metadata": {},
   "source": [
    "## Load Data"
   ]
  },
  {
   "cell_type": "code",
   "execution_count": 3,
   "metadata": {},
   "outputs": [
    {
     "name": "stdout",
     "output_type": "stream",
     "text": [
      "ClearML Monitor: GPU monitoring failed getting GPU reading, switching off GPU monitoring\n",
      "Info: Successfully loaded building data!\n",
      "Info: Successfully loaded weather data!\n",
      "Successfully merged Building and Weather Data\n"
     ]
    },
    {
     "data": {
      "text/html": [
       "<div>\n",
       "<style scoped>\n",
       "    .dataframe tbody tr th:only-of-type {\n",
       "        vertical-align: middle;\n",
       "    }\n",
       "\n",
       "    .dataframe tbody tr th {\n",
       "        vertical-align: top;\n",
       "    }\n",
       "\n",
       "    .dataframe thead th {\n",
       "        text-align: right;\n",
       "    }\n",
       "</style>\n",
       "<table border=\"1\" class=\"dataframe\">\n",
       "  <thead>\n",
       "    <tr style=\"text-align: right;\">\n",
       "      <th></th>\n",
       "      <th>temp</th>\n",
       "      <th>clouds_all</th>\n",
       "      <th>azimuth</th>\n",
       "      <th>irradiance</th>\n",
       "      <th>day_of_week</th>\n",
       "      <th>True Power (kW) solar</th>\n",
       "      <th>True Power (kW) usage</th>\n",
       "    </tr>\n",
       "  </thead>\n",
       "  <tbody>\n",
       "    <tr>\n",
       "      <th>2021-10-19 04:00:00+00:00</th>\n",
       "      <td>11.18</td>\n",
       "      <td>75.0</td>\n",
       "      <td>297.679945</td>\n",
       "      <td>0.0</td>\n",
       "      <td>2</td>\n",
       "      <td>1.0</td>\n",
       "      <td>11.3</td>\n",
       "    </tr>\n",
       "    <tr>\n",
       "      <th>2021-10-19 05:00:00+00:00</th>\n",
       "      <td>9.51</td>\n",
       "      <td>20.0</td>\n",
       "      <td>7.143008</td>\n",
       "      <td>0.0</td>\n",
       "      <td>2</td>\n",
       "      <td>1.0</td>\n",
       "      <td>13.2</td>\n",
       "    </tr>\n",
       "    <tr>\n",
       "      <th>2021-10-19 06:00:00+00:00</th>\n",
       "      <td>9.28</td>\n",
       "      <td>20.0</td>\n",
       "      <td>34.060157</td>\n",
       "      <td>0.0</td>\n",
       "      <td>2</td>\n",
       "      <td>1.0</td>\n",
       "      <td>12.7</td>\n",
       "    </tr>\n",
       "    <tr>\n",
       "      <th>2021-10-19 07:00:00+00:00</th>\n",
       "      <td>9.28</td>\n",
       "      <td>20.0</td>\n",
       "      <td>34.060157</td>\n",
       "      <td>0.0</td>\n",
       "      <td>2</td>\n",
       "      <td>1.0</td>\n",
       "      <td>17.2</td>\n",
       "    </tr>\n",
       "    <tr>\n",
       "      <th>2021-10-19 08:00:00+00:00</th>\n",
       "      <td>9.28</td>\n",
       "      <td>20.0</td>\n",
       "      <td>34.060157</td>\n",
       "      <td>0.0</td>\n",
       "      <td>2</td>\n",
       "      <td>1.0</td>\n",
       "      <td>17.0</td>\n",
       "    </tr>\n",
       "  </tbody>\n",
       "</table>\n",
       "</div>"
      ],
      "text/plain": [
       "                            temp  clouds_all     azimuth  irradiance  \\\n",
       "2021-10-19 04:00:00+00:00  11.18        75.0  297.679945         0.0   \n",
       "2021-10-19 05:00:00+00:00   9.51        20.0    7.143008         0.0   \n",
       "2021-10-19 06:00:00+00:00   9.28        20.0   34.060157         0.0   \n",
       "2021-10-19 07:00:00+00:00   9.28        20.0   34.060157         0.0   \n",
       "2021-10-19 08:00:00+00:00   9.28        20.0   34.060157         0.0   \n",
       "\n",
       "                          day_of_week  True Power (kW) solar  \\\n",
       "2021-10-19 04:00:00+00:00           2                    1.0   \n",
       "2021-10-19 05:00:00+00:00           2                    1.0   \n",
       "2021-10-19 06:00:00+00:00           2                    1.0   \n",
       "2021-10-19 07:00:00+00:00           2                    1.0   \n",
       "2021-10-19 08:00:00+00:00           2                    1.0   \n",
       "\n",
       "                           True Power (kW) usage  \n",
       "2021-10-19 04:00:00+00:00                   11.3  \n",
       "2021-10-19 05:00:00+00:00                   13.2  \n",
       "2021-10-19 06:00:00+00:00                   12.7  \n",
       "2021-10-19 07:00:00+00:00                   17.2  \n",
       "2021-10-19 08:00:00+00:00                   17.0  "
      ]
     },
     "execution_count": 3,
     "metadata": {},
     "output_type": "execute_result"
    }
   ],
   "source": [
    "xy_data = DataGenerator().load_data()\n",
    "xy_data.head()"
   ]
  },
  {
   "cell_type": "markdown",
   "metadata": {},
   "source": [
    "## Data Processing"
   ]
  },
  {
   "cell_type": "markdown",
   "metadata": {},
   "source": [
    "```\n",
    "1. Make xy data into a set of series of shape [N, M, F], where N = number of examples; M = nubmer of timestamps; F = Number of features.\n",
    "2. Train-Test-Validation Split. Split off at 0.8, 0.1, 0.1 ratio for now. Shuffle the split.\n",
    "3. Seperate x, y from dataset. Remove last column from dataset to extract y.\n",
    "```"
   ]
  },
  {
   "cell_type": "code",
   "execution_count": 4,
   "metadata": {},
   "outputs": [],
   "source": [
    "# Hyperparameters \n",
    "SERIES = 48\n",
    "STRIDE = 1"
   ]
  },
  {
   "cell_type": "code",
   "execution_count": 5,
   "metadata": {},
   "outputs": [],
   "source": [
    "# This in each set includes both solar and power gen\n",
    "# e.g. train_ds[0] = x_train,\n",
    "#      train_ds[1] = y_train\n",
    "train_ds, val_ds, test_ds = DataSplit(xy_data, series_length=SERIES, stride=STRIDE).split_data()"
   ]
  },
  {
   "cell_type": "code",
   "execution_count": 6,
   "metadata": {},
   "outputs": [],
   "source": [
    "# Isolate XY from datasets\n",
    "x_train, y_train,  = (\n",
    "    train_ds[0],\n",
    "    train_ds[1],\n",
    ")  # Training data\n",
    "x_val, y_val = (\n",
    "    val_ds[0],\n",
    "    val_ds[1],\n",
    ")  # Validation data\n",
    "x_test, y_test = (\n",
    "    test_ds[0],\n",
    "    test_ds[1],\n",
    ")  # Test data"
   ]
  },
  {
   "cell_type": "code",
   "execution_count": 7,
   "metadata": {},
   "outputs": [
    {
     "name": "stdout",
     "output_type": "stream",
     "text": [
      "x_train shape:  (1556, 48, 5)\n"
     ]
    }
   ],
   "source": [
    "print(\"x_train shape: \", x_train.shape)"
   ]
  },
  {
   "cell_type": "code",
   "execution_count": 8,
   "metadata": {},
   "outputs": [
    {
     "name": "stdout",
     "output_type": "stream",
     "text": [
      "y_train shape:  (1556, 48, 2)\n"
     ]
    }
   ],
   "source": [
    "print(\"y_train shape: \", y_train.shape)"
   ]
  },
  {
   "cell_type": "code",
   "execution_count": 9,
   "metadata": {},
   "outputs": [],
   "source": [
    "def split_solar_power_y(y_data):\n",
    "    y_solar = y_data[:, :, -2:-1].astype(\"float32\")\n",
    "    y_power = y_data[:, :, -1:].astype(\"float32\")\n",
    "    return y_solar, y_power"
   ]
  },
  {
   "cell_type": "code",
   "execution_count": 10,
   "metadata": {},
   "outputs": [],
   "source": [
    "# seperate solar gen, power usage for training models using just one data type\n",
    "y_solar_train, y_power_train    = split_solar_power_y(y_train)\n",
    "y_solar_val, y_power_val        = split_solar_power_y(y_val)\n",
    "y_solar_test, y_power_test      = split_solar_power_y(y_test)"
   ]
  },
  {
   "cell_type": "code",
   "execution_count": 11,
   "metadata": {},
   "outputs": [
    {
     "name": "stdout",
     "output_type": "stream",
     "text": [
      "y_power_train shape:  (1556, 48, 1)\n",
      "y_solar_train shape:  (1556, 48, 1)\n"
     ]
    }
   ],
   "source": [
    "# verify that this worked\n",
    "print(\"y_power_train shape: \", y_power_train.shape)\n",
    "print(\"y_solar_train shape: \", y_solar_train.shape)"
   ]
  },
  {
   "cell_type": "markdown",
   "metadata": {},
   "source": [
    "### Train Normalizer on XTrain"
   ]
  },
  {
   "cell_type": "code",
   "execution_count": 12,
   "metadata": {},
   "outputs": [],
   "source": [
    "from keras.layers import Normalization"
   ]
  },
  {
   "cell_type": "code",
   "execution_count": 13,
   "metadata": {},
   "outputs": [
    {
     "name": "stderr",
     "output_type": "stream",
     "text": [
      "2022-01-30 18:47:20.897776: I tensorflow/core/platform/cpu_feature_guard.cc:151] This TensorFlow binary is optimized with oneAPI Deep Neural Network Library (oneDNN) to use the following CPU instructions in performance-critical operations:  AVX2 FMA\n",
      "To enable them in other operations, rebuild TensorFlow with the appropriate compiler flags.\n"
     ]
    }
   ],
   "source": [
    "# Normalize to x_train data\n",
    "norm_layer = Normalization()\n",
    "norm_layer.adapt(x_train)"
   ]
  },
  {
   "cell_type": "markdown",
   "metadata": {},
   "source": [
    "# Test Models"
   ]
  },
  {
   "cell_type": "code",
   "execution_count": 14,
   "metadata": {},
   "outputs": [],
   "source": [
    "# below import also includes tf/keras stuff\n",
    "from amplify.test_models import *"
   ]
  },
  {
   "cell_type": "markdown",
   "metadata": {},
   "source": [
    "## 1. Simple LSTM On Solar Gen"
   ]
  },
  {
   "cell_type": "code",
   "execution_count": 15,
   "metadata": {},
   "outputs": [],
   "source": [
    "# hyperparameters\n",
    "NUM_LSTM_LAYER=20\n",
    "SERIES_FT = 5\n",
    "SERIES_OUT = 1\n",
    "BATCH  = 4\n",
    "EPOCHS = 30\n",
    "activation_fn = 'tanh'"
   ]
  },
  {
   "cell_type": "code",
   "execution_count": 16,
   "metadata": {},
   "outputs": [
    {
     "name": "stdout",
     "output_type": "stream",
     "text": [
      "ClearML Monitor: Could not detect iteration reporting, falling back to iterations as seconds-from-start\n"
     ]
    }
   ],
   "source": [
    "# create model\n",
    "lstm_model_1 = SimpleLSTM_1(\n",
    "    norm_layer=norm_layer,\n",
    "    n_layer=NUM_LSTM_LAYER,\n",
    "    n_series_len=SERIES,\n",
    "    n_series_ft=SERIES_FT,\n",
    "    n_series_out=SERIES_OUT,\n",
    "    activation_f=activation_fn\n",
    ")\n",
    "\n",
    "# set hyper param\n",
    "lstm_model_1.SetHyperParam(\n",
    "    epoch=EPOCHS,\n",
    "    batch_size=BATCH\n",
    ")"
   ]
  }
 ],
 "metadata": {
  "interpreter": {
   "hash": "ebbabc1e6dda0a634caa316fe10f04a7a4757ee81bcd91a98af993123509ad1d"
  },
  "kernelspec": {
   "display_name": "Python 3.8.5 64-bit ('fourthbrain_venv': venv)",
   "language": "python",
   "name": "python3"
  },
  "language_info": {
   "codemirror_mode": {
    "name": "ipython",
    "version": 3
   },
   "file_extension": ".py",
   "mimetype": "text/x-python",
   "name": "python",
   "nbconvert_exporter": "python",
   "pygments_lexer": "ipython3",
   "version": "3.8.5"
  },
  "orig_nbformat": 4
 },
 "nbformat": 4,
 "nbformat_minor": 2
}
