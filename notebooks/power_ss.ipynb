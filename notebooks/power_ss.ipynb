{
 "cells": [
  {
   "cell_type": "code",
   "execution_count": 1,
   "id": "f252e173",
   "metadata": {},
   "outputs": [],
   "source": [
    "import pandas as pd\n",
    "import numpy as np\n",
    "import matplotlib.pyplot as plt\n",
    "\n",
    "from clearml import Task\n",
    "\n",
    "from sklearn import linear_model\n",
    "from sklearn import preprocessing\n",
    "\n",
    "from amplify.DataGeneration import DataGenerator"
   ]
  },
  {
   "cell_type": "code",
   "execution_count": 2,
   "id": "650f3f78",
   "metadata": {},
   "outputs": [],
   "source": [
    "# Constants \n",
    "BUILDING_LAT = 39.9649 \n",
    "BUILDING_LON = -75.1396 "
   ]
  },
  {
   "cell_type": "code",
   "execution_count": 3,
   "id": "e3a80bbe",
   "metadata": {
    "tags": []
   },
   "outputs": [
    {
     "name": "stdout",
     "output_type": "stream",
     "text": [
      "ClearML Task: created new task id=a4f19b2bdda64597b6ef254003d88cfb\n",
      "ClearML results page: https://app.clear.ml/projects/f0e0b096252d4c18b9005e580afc5bce/experiments/a4f19b2bdda64597b6ef254003d88cfb/output/log\n",
      "======> WARNING! Git diff to large to store (591kb), skipping uncommitted changes <======\n",
      "ClearML Monitor: GPU monitoring failed getting GPU reading, switching off GPU monitoring\n"
     ]
    }
   ],
   "source": [
    "# ClearML Stuff\n",
    "task = Task.init(project_name=\"amplify\", task_name=\"power-ss-notebook\")\n"
   ]
  },
  {
   "cell_type": "code",
   "execution_count": null,
   "id": "778404b1",
   "metadata": {},
   "outputs": [
    {
     "name": "stdout",
     "output_type": "stream",
     "text": [
      "Info: Successfully loaded building data!\n"
     ]
    },
    {
     "name": "stderr",
     "output_type": "stream",
     "text": [
      "/opt/tljh/user/lib/python3.9/site-packages/pysolar/radiation.py:50: RuntimeWarning:\n",
      "\n",
      "overflow encountered in exp\n",
      "\n",
      "/opt/tljh/user/lib/python3.9/site-packages/pysolar/radiation.py:50: RuntimeWarning:\n",
      "\n",
      "invalid value encountered in multiply\n",
      "\n"
     ]
    }
   ],
   "source": [
    "# DataGenerator - ClearML\n",
    "data_generator = DataGenerator()\n",
    "# LoadData - ClearML\n",
    "load_success, building_data, weather_data = data_generator.LoadData()\n"
   ]
  },
  {
   "cell_type": "code",
   "execution_count": null,
   "id": "1a6ac3f7",
   "metadata": {
    "tags": []
   },
   "outputs": [],
   "source": [
    "# Plot Power - Solar Gen vs Building Usage\n",
    "fig, ax = plt.subplots(figsize=(40, 10))\n",
    "plt.title(\"Solar Generation and Building Usage (Power)\")\n",
    "\n",
    "ax.plot(building_data.solar[\"True Power (kW)\"], color=\"g\")\n",
    "ax.plot(building_data.usage[\"True Power (kW)\"], color=\"r\")\n",
    "\n",
    "ax.set_xlabel(\"Date and Time\")\n",
    "ax.set_ylabel(\"Power (kW)\")\n",
    "plt.legend(building_data.columns)\n",
    "plt.show()\n"
   ]
  },
  {
   "cell_type": "code",
   "execution_count": null,
   "id": "d23925fd",
   "metadata": {},
   "outputs": [],
   "source": [
    "# Build class for EWM Linear Regression to compare scaled/non-scaled features\n",
    "class Weather_EWM():\n",
    "    def __init__(self, features, y, split_date, to_scale=True):\n",
    "        self.data = features\n",
    "        self.y = y\n",
    "        self.split_date = split_date\n",
    "        self.scale = to_scale\n",
    "    \n",
    "    # Reversed-Recombined EWMA for improved accuracy\n",
    "    def ewm_calculator(self):\n",
    "        \n",
    "        # Create dataframe To collect data\n",
    "        self.ewm_out = pd.DataFrame()  \n",
    "        \n",
    "        # Calculate fwd and bwd EWMA\n",
    "        self.ewm_out['fwd'] = self.y.ewm(span=24).mean()\n",
    "        self.ewm_out['bwd'] = self.y[::-1].ewm(span=24).mean()\n",
    "\n",
    "        # Reversed-Recombined EWMA\n",
    "        self.ewm_out['combo'] = self.ewm_out.mean(axis=1)                                                    \n",
    "\n",
    "        return self.ewm_out\n",
    "           \n",
    "        \n",
    "\n",
    "    # Test/Train split and standardization of weather data\n",
    "    def weather_prep(self):\n",
    "        \n",
    "        # Run ewma calculator\n",
    "        self.ewm = self.ewm_calculator()\n",
    "\n",
    "        # Test / Train split for Y based on chosen split_date\n",
    "        self.ewm_train = self.ewm[self.ewm.index <= self.split_date]        \n",
    "        self.ewm_test = self.ewm[self.ewm.index > self.split_date]\n",
    "        \n",
    "        # Test/Train split for Weather data to match Y-data\n",
    "        self.weather_train = self.data[:len(self.ewm_train)]\n",
    "        self.weather_test = self.data[len(self.ewm_train):]\n",
    "        \n",
    "        # Scale features in training set:\n",
    "        if self.scale:\n",
    "            self.weather_scaler = preprocessing.StandardScaler()\n",
    "            self.weather_train = self.weather_scaler.fit_transform(self.weather_train)\n",
    "        \n",
    "        return self.weather_train, self.weather_test, self.ewm_train, self.ewm_test\n",
    "        \n",
    "    def weather_ewma(self):\n",
    "        # Run train/test split based on date and scaling\n",
    "        self.x_train, self.x_test, self.y_train, self.y_test = self.weather_prep()\n",
    "\n",
    "        # On to the regression:\n",
    "        self.lin_reg = linear_model.LinearRegression()\n",
    "        self.lin_reg.fit(self.x_train, self.y_train.combo)\n",
    "\n",
    "        self.ewm_solar_pred = self.lin_reg.predict(self.x_test)\n",
    "        \n",
    "        return(self.ewm_solar_pred)"
   ]
  },
  {
   "cell_type": "code",
   "execution_count": null,
   "id": "75f740dd",
   "metadata": {},
   "outputs": [],
   "source": [
    "# Set split date for Linear Regression validation\n",
    "split_date = pd.to_datetime('2022-01-01', utc=True)\n",
    "\n",
    "# Set list of y-values we want to predict\n",
    "y_vals = {'Solar' : building_data.solar['True Power (kW)'],\n",
    "          'Usage' : building_data.usage['True Power (kW)']\n",
    "         }\n",
    "\n",
    "# To run the usage and power regressions\n",
    "for key in y_vals:\n",
    "    # Create the separate instances for scaled/not scaled:\n",
    "    WE_not_scaled = Weather_EWM(features=weather_data, \n",
    "                                y=y_vals[key],\n",
    "                                split_date=split_date, \n",
    "                                scaled=False\n",
    "                               )\n",
    "    WE_scaled = Weather_EWM(features=weather_data,\n",
    "                            y=y_vals[key],\n",
    "                            split_date=split_date\n",
    "                           )\n",
    "\n",
    "    # Run the linear regressions:\n",
    "    lin_reg_scaled = WE_scaled.weather_ewma()\n",
    "    lin_reg_not_scaled = WE_not_scaled.weather_ewma()\n",
    "    \n",
    "    fig, ax1 = plt.subplots(figsize=(20, 10))\n",
    "    ax2 = ax1.twinx()\n",
    "    \n",
    "    title = key + ' ' + y_vals[key].name\n",
    "    plt.title(label=title)\n",
    "\n",
    "    # Plot prediction based on unscaled data\n",
    "    # ax1.plot(lin_reg_not_scaled,\n",
    "    #          color='g',\n",
    "    #          alpha=0.5, \n",
    "    #          label='Predicted'\n",
    "    #         )\n",
    "    \n",
    "    # Plot prediction based on scaled data\n",
    "    ax2.plot(lin_reg_scaled,\n",
    "             color='b', \n",
    "             alpha=0.5, \n",
    "             label='Scaled Prediction'\n",
    "            )\n",
    "    # Plot actual data \n",
    "    ax1.plot(np.array(y_vals[key][-len(lin_reg_not_scaled):]),\n",
    "             color='r', \n",
    "             alpha=0.5, \n",
    "             label='Actual',\n",
    "            )\n",
    "    \n",
    "    plt.xlabel('Hrs in future')\n",
    "    plt.legend()\n",
    "    plt.show()"
   ]
  }
 ],
 "metadata": {
  "kernelspec": {
   "display_name": "Python 3 (ipykernel)",
   "language": "python",
   "name": "python3"
  },
  "language_info": {
   "codemirror_mode": {
    "name": "ipython",
    "version": 3
   },
   "file_extension": ".py",
   "mimetype": "text/x-python",
   "name": "python",
   "nbconvert_exporter": "python",
   "pygments_lexer": "ipython3",
   "version": "3.9.7"
  },
  "toc-autonumbering": false,
  "toc-showcode": false,
  "toc-showmarkdowntxt": false
 },
 "nbformat": 4,
 "nbformat_minor": 5
}
