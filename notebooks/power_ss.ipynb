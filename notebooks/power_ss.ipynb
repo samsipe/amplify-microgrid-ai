{
 "cells": [
  {
   "cell_type": "code",
   "execution_count": 1,
   "id": "1f916d7e-7827-4837-95cc-65d1ec4cf2fd",
   "metadata": {},
   "outputs": [],
   "source": [
    "import pandas as pd\n",
    "import numpy as np\n",
    "import matplotlib.pyplot as plt\n",
    "import datetime as dt\n",
    "from glob import glob\n",
    "from pysolar.solar import get_altitude, radiation\n",
    "\n",
    "from clearml import Task\n",
    "from clearml import Dataset\n",
    "\n",
    "from sklearn import linear_model\n",
    "from sklearn import preprocessing\n",
    "\n",
    "from amplify.DataGeneration import DataGenerator"
   ]
  },
  {
   "cell_type": "code",
   "execution_count": 2,
   "id": "13e5faca",
   "metadata": {},
   "outputs": [],
   "source": [
    "# Constants \n",
    "BUILDING_LAT = 39.9649 \n",
    "BUILDING_LON = -75.1396 "
   ]
  },
  {
   "cell_type": "code",
   "execution_count": 5,
   "id": "e4007aed",
   "metadata": {},
   "outputs": [
    {
     "ename": "ValueError",
     "evalue": "ClearML configuration could not be found (missing `~/clearml.conf` or Environment CLEARML_API_HOST)\nTo get started with ClearML: setup your own `clearml-server`, or create a free account at https://app.community.clear.ml",
     "output_type": "error",
     "traceback": [
      "\u001b[0;31m---------------------------------------------------------------------------\u001b[0m",
      "\u001b[0;31mValueError\u001b[0m                                Traceback (most recent call last)",
      "\u001b[0;32m/tmp/ipykernel_1478961/1295558574.py\u001b[0m in \u001b[0;36m<module>\u001b[0;34m\u001b[0m\n\u001b[1;32m      1\u001b[0m \u001b[0;31m# ClearML Stuff\u001b[0m\u001b[0;34m\u001b[0m\u001b[0;34m\u001b[0m\u001b[0m\n\u001b[0;32m----> 2\u001b[0;31m \u001b[0mtask\u001b[0m \u001b[0;34m=\u001b[0m \u001b[0mTask\u001b[0m\u001b[0;34m.\u001b[0m\u001b[0minit\u001b[0m\u001b[0;34m(\u001b[0m\u001b[0mproject_name\u001b[0m\u001b[0;34m=\u001b[0m\u001b[0;34m\"amplify\"\u001b[0m\u001b[0;34m,\u001b[0m \u001b[0mtask_name\u001b[0m\u001b[0;34m=\u001b[0m\u001b[0;34m\"power-ss-notebook\"\u001b[0m\u001b[0;34m)\u001b[0m\u001b[0;34m\u001b[0m\u001b[0;34m\u001b[0m\u001b[0m\n\u001b[0m",
      "\u001b[0;32m/opt/tljh/user/lib/python3.9/site-packages/clearml/task.py\u001b[0m in \u001b[0;36minit\u001b[0;34m(cls, project_name, task_name, task_type, tags, reuse_last_task_id, continue_last_task, output_uri, auto_connect_arg_parser, auto_connect_frameworks, auto_resource_monitoring, auto_connect_streams)\u001b[0m\n\u001b[1;32m    502\u001b[0m                 \u001b[0;31m# if this is the main process, create the task\u001b[0m\u001b[0;34m\u001b[0m\u001b[0;34m\u001b[0m\u001b[0m\n\u001b[1;32m    503\u001b[0m                 \u001b[0;32mif\u001b[0m \u001b[0;32mnot\u001b[0m \u001b[0mis_sub_process_task_id\u001b[0m\u001b[0;34m:\u001b[0m\u001b[0;34m\u001b[0m\u001b[0;34m\u001b[0m\u001b[0m\n\u001b[0;32m--> 504\u001b[0;31m                     task = cls._create_dev_task(\n\u001b[0m\u001b[1;32m    505\u001b[0m                         \u001b[0mdefault_project_name\u001b[0m\u001b[0;34m=\u001b[0m\u001b[0mproject_name\u001b[0m\u001b[0;34m,\u001b[0m\u001b[0;34m\u001b[0m\u001b[0;34m\u001b[0m\u001b[0m\n\u001b[1;32m    506\u001b[0m                         \u001b[0mdefault_task_name\u001b[0m\u001b[0;34m=\u001b[0m\u001b[0mtask_name\u001b[0m\u001b[0;34m,\u001b[0m\u001b[0;34m\u001b[0m\u001b[0;34m\u001b[0m\u001b[0m\n",
      "\u001b[0;32m/opt/tljh/user/lib/python3.9/site-packages/clearml/task.py\u001b[0m in \u001b[0;36m_create_dev_task\u001b[0;34m(cls, default_project_name, default_task_name, default_task_type, tags, reuse_last_task_id, continue_last_task, detect_repo, auto_connect_streams)\u001b[0m\n\u001b[1;32m   2755\u001b[0m         \u001b[0;31m# create a new task\u001b[0m\u001b[0;34m\u001b[0m\u001b[0;34m\u001b[0m\u001b[0m\n\u001b[1;32m   2756\u001b[0m         \u001b[0;32mif\u001b[0m \u001b[0;32mnot\u001b[0m \u001b[0mdefault_task_id\u001b[0m\u001b[0;34m:\u001b[0m\u001b[0;34m\u001b[0m\u001b[0;34m\u001b[0m\u001b[0m\n\u001b[0;32m-> 2757\u001b[0;31m             task = cls(\n\u001b[0m\u001b[1;32m   2758\u001b[0m                 \u001b[0mprivate\u001b[0m\u001b[0;34m=\u001b[0m\u001b[0mcls\u001b[0m\u001b[0;34m.\u001b[0m\u001b[0m__create_protection\u001b[0m\u001b[0;34m,\u001b[0m\u001b[0;34m\u001b[0m\u001b[0;34m\u001b[0m\u001b[0m\n\u001b[1;32m   2759\u001b[0m                 \u001b[0mproject_name\u001b[0m\u001b[0;34m=\u001b[0m\u001b[0mdefault_project_name\u001b[0m\u001b[0;34m,\u001b[0m\u001b[0;34m\u001b[0m\u001b[0;34m\u001b[0m\u001b[0m\n",
      "\u001b[0;32m/opt/tljh/user/lib/python3.9/site-packages/clearml/task.py\u001b[0m in \u001b[0;36m__init__\u001b[0;34m(self, private, **kwargs)\u001b[0m\n\u001b[1;32m    165\u001b[0m         \u001b[0mself\u001b[0m\u001b[0;34m.\u001b[0m\u001b[0m_repo_detect_lock\u001b[0m \u001b[0;34m=\u001b[0m \u001b[0mthreading\u001b[0m\u001b[0;34m.\u001b[0m\u001b[0mRLock\u001b[0m\u001b[0;34m(\u001b[0m\u001b[0;34m)\u001b[0m\u001b[0;34m\u001b[0m\u001b[0;34m\u001b[0m\u001b[0m\n\u001b[1;32m    166\u001b[0m \u001b[0;34m\u001b[0m\u001b[0m\n\u001b[0;32m--> 167\u001b[0;31m         \u001b[0msuper\u001b[0m\u001b[0;34m(\u001b[0m\u001b[0mTask\u001b[0m\u001b[0;34m,\u001b[0m \u001b[0mself\u001b[0m\u001b[0;34m)\u001b[0m\u001b[0;34m.\u001b[0m\u001b[0m__init__\u001b[0m\u001b[0;34m(\u001b[0m\u001b[0;34m**\u001b[0m\u001b[0mkwargs\u001b[0m\u001b[0;34m)\u001b[0m\u001b[0;34m\u001b[0m\u001b[0;34m\u001b[0m\u001b[0m\n\u001b[0m\u001b[1;32m    168\u001b[0m         \u001b[0mself\u001b[0m\u001b[0;34m.\u001b[0m\u001b[0m_arguments\u001b[0m \u001b[0;34m=\u001b[0m \u001b[0m_Arguments\u001b[0m\u001b[0;34m(\u001b[0m\u001b[0mself\u001b[0m\u001b[0;34m)\u001b[0m\u001b[0;34m\u001b[0m\u001b[0;34m\u001b[0m\u001b[0m\n\u001b[1;32m    169\u001b[0m         \u001b[0mself\u001b[0m\u001b[0;34m.\u001b[0m\u001b[0m_logger\u001b[0m \u001b[0;34m=\u001b[0m \u001b[0;32mNone\u001b[0m\u001b[0;34m\u001b[0m\u001b[0;34m\u001b[0m\u001b[0m\n",
      "\u001b[0;32m/opt/tljh/user/lib/python3.9/site-packages/clearml/backend_interface/task/task.py\u001b[0m in \u001b[0;36m__init__\u001b[0;34m(self, session, task_id, log, project_name, task_name, task_type, log_to_backend, raise_on_validation_errors, force_create)\u001b[0m\n\u001b[1;32m    150\u001b[0m         \u001b[0mtask_id\u001b[0m \u001b[0;34m=\u001b[0m \u001b[0mself\u001b[0m\u001b[0;34m.\u001b[0m\u001b[0m_resolve_task_id\u001b[0m\u001b[0;34m(\u001b[0m\u001b[0mtask_id\u001b[0m\u001b[0;34m,\u001b[0m \u001b[0mlog\u001b[0m\u001b[0;34m=\u001b[0m\u001b[0mlog\u001b[0m\u001b[0;34m)\u001b[0m \u001b[0;32mif\u001b[0m \u001b[0;32mnot\u001b[0m \u001b[0mforce_create\u001b[0m \u001b[0;32melse\u001b[0m \u001b[0;32mNone\u001b[0m\u001b[0;34m\u001b[0m\u001b[0;34m\u001b[0m\u001b[0m\n\u001b[1;32m    151\u001b[0m         \u001b[0mself\u001b[0m\u001b[0;34m.\u001b[0m\u001b[0m__edit_lock\u001b[0m \u001b[0;34m=\u001b[0m \u001b[0;32mNone\u001b[0m\u001b[0;34m\u001b[0m\u001b[0;34m\u001b[0m\u001b[0m\n\u001b[0;32m--> 152\u001b[0;31m         \u001b[0msuper\u001b[0m\u001b[0;34m(\u001b[0m\u001b[0mTask\u001b[0m\u001b[0;34m,\u001b[0m \u001b[0mself\u001b[0m\u001b[0;34m)\u001b[0m\u001b[0;34m.\u001b[0m\u001b[0m__init__\u001b[0m\u001b[0;34m(\u001b[0m\u001b[0mid\u001b[0m\u001b[0;34m=\u001b[0m\u001b[0mtask_id\u001b[0m\u001b[0;34m,\u001b[0m \u001b[0msession\u001b[0m\u001b[0;34m=\u001b[0m\u001b[0msession\u001b[0m\u001b[0;34m,\u001b[0m \u001b[0mlog\u001b[0m\u001b[0;34m=\u001b[0m\u001b[0mlog\u001b[0m\u001b[0;34m)\u001b[0m\u001b[0;34m\u001b[0m\u001b[0;34m\u001b[0m\u001b[0m\n\u001b[0m\u001b[1;32m    153\u001b[0m         \u001b[0mself\u001b[0m\u001b[0;34m.\u001b[0m\u001b[0m_project_name\u001b[0m \u001b[0;34m=\u001b[0m \u001b[0;32mNone\u001b[0m\u001b[0;34m\u001b[0m\u001b[0;34m\u001b[0m\u001b[0m\n\u001b[1;32m    154\u001b[0m         \u001b[0mself\u001b[0m\u001b[0;34m.\u001b[0m\u001b[0m_storage_uri\u001b[0m \u001b[0;34m=\u001b[0m \u001b[0;32mNone\u001b[0m\u001b[0;34m\u001b[0m\u001b[0;34m\u001b[0m\u001b[0m\n",
      "\u001b[0;32m/opt/tljh/user/lib/python3.9/site-packages/clearml/backend_interface/base.py\u001b[0m in \u001b[0;36m__init__\u001b[0;34m(self, id, session, log, **kwargs)\u001b[0m\n\u001b[1;32m    143\u001b[0m \u001b[0;34m\u001b[0m\u001b[0m\n\u001b[1;32m    144\u001b[0m     \u001b[0;32mdef\u001b[0m \u001b[0m__init__\u001b[0m\u001b[0;34m(\u001b[0m\u001b[0mself\u001b[0m\u001b[0;34m,\u001b[0m \u001b[0mid\u001b[0m\u001b[0;34m,\u001b[0m \u001b[0msession\u001b[0m\u001b[0;34m=\u001b[0m\u001b[0;32mNone\u001b[0m\u001b[0;34m,\u001b[0m \u001b[0mlog\u001b[0m\u001b[0;34m=\u001b[0m\u001b[0;32mNone\u001b[0m\u001b[0;34m,\u001b[0m \u001b[0;34m**\u001b[0m\u001b[0mkwargs\u001b[0m\u001b[0;34m)\u001b[0m\u001b[0;34m:\u001b[0m\u001b[0;34m\u001b[0m\u001b[0;34m\u001b[0m\u001b[0m\n\u001b[0;32m--> 145\u001b[0;31m         \u001b[0msuper\u001b[0m\u001b[0;34m(\u001b[0m\u001b[0mIdObjectBase\u001b[0m\u001b[0;34m,\u001b[0m \u001b[0mself\u001b[0m\u001b[0;34m)\u001b[0m\u001b[0;34m.\u001b[0m\u001b[0m__init__\u001b[0m\u001b[0;34m(\u001b[0m\u001b[0msession\u001b[0m\u001b[0;34m,\u001b[0m \u001b[0mlog\u001b[0m\u001b[0;34m,\u001b[0m \u001b[0;34m**\u001b[0m\u001b[0mkwargs\u001b[0m\u001b[0;34m)\u001b[0m\u001b[0;34m\u001b[0m\u001b[0;34m\u001b[0m\u001b[0m\n\u001b[0m\u001b[1;32m    146\u001b[0m         \u001b[0mself\u001b[0m\u001b[0;34m.\u001b[0m\u001b[0m_data\u001b[0m \u001b[0;34m=\u001b[0m \u001b[0;32mNone\u001b[0m\u001b[0;34m\u001b[0m\u001b[0;34m\u001b[0m\u001b[0m\n\u001b[1;32m    147\u001b[0m         \u001b[0mself\u001b[0m\u001b[0;34m.\u001b[0m\u001b[0m_id\u001b[0m \u001b[0;34m=\u001b[0m \u001b[0;32mNone\u001b[0m\u001b[0;34m\u001b[0m\u001b[0;34m\u001b[0m\u001b[0m\n",
      "\u001b[0;32m/opt/tljh/user/lib/python3.9/site-packages/clearml/backend_interface/base.py\u001b[0m in \u001b[0;36m__init__\u001b[0;34m(self, session, log, **kwargs)\u001b[0m\n\u001b[1;32m     37\u001b[0m     \u001b[0;32mdef\u001b[0m \u001b[0m__init__\u001b[0m\u001b[0;34m(\u001b[0m\u001b[0mself\u001b[0m\u001b[0;34m,\u001b[0m \u001b[0msession\u001b[0m\u001b[0;34m=\u001b[0m\u001b[0;32mNone\u001b[0m\u001b[0;34m,\u001b[0m \u001b[0mlog\u001b[0m\u001b[0;34m=\u001b[0m\u001b[0;32mNone\u001b[0m\u001b[0;34m,\u001b[0m \u001b[0;34m**\u001b[0m\u001b[0mkwargs\u001b[0m\u001b[0;34m)\u001b[0m\u001b[0;34m:\u001b[0m\u001b[0;34m\u001b[0m\u001b[0;34m\u001b[0m\u001b[0m\n\u001b[1;32m     38\u001b[0m         \u001b[0msuper\u001b[0m\u001b[0;34m(\u001b[0m\u001b[0mInterfaceBase\u001b[0m\u001b[0;34m,\u001b[0m \u001b[0mself\u001b[0m\u001b[0;34m)\u001b[0m\u001b[0;34m.\u001b[0m\u001b[0m__init__\u001b[0m\u001b[0;34m(\u001b[0m\u001b[0;34m)\u001b[0m\u001b[0;34m\u001b[0m\u001b[0;34m\u001b[0m\u001b[0m\n\u001b[0;32m---> 39\u001b[0;31m         \u001b[0mself\u001b[0m\u001b[0;34m.\u001b[0m\u001b[0m_session\u001b[0m \u001b[0;34m=\u001b[0m \u001b[0msession\u001b[0m \u001b[0;32mor\u001b[0m \u001b[0mself\u001b[0m\u001b[0;34m.\u001b[0m\u001b[0m_get_default_session\u001b[0m\u001b[0;34m(\u001b[0m\u001b[0;34m)\u001b[0m\u001b[0;34m\u001b[0m\u001b[0;34m\u001b[0m\u001b[0m\n\u001b[0m\u001b[1;32m     40\u001b[0m         \u001b[0mself\u001b[0m\u001b[0;34m.\u001b[0m\u001b[0m_log\u001b[0m \u001b[0;34m=\u001b[0m \u001b[0mlog\u001b[0m \u001b[0;32mor\u001b[0m \u001b[0mself\u001b[0m\u001b[0;34m.\u001b[0m\u001b[0m_create_log\u001b[0m\u001b[0;34m(\u001b[0m\u001b[0;34m)\u001b[0m\u001b[0;34m\u001b[0m\u001b[0;34m\u001b[0m\u001b[0m\n\u001b[1;32m     41\u001b[0m \u001b[0;34m\u001b[0m\u001b[0m\n",
      "\u001b[0;32m/opt/tljh/user/lib/python3.9/site-packages/clearml/backend_interface/base.py\u001b[0m in \u001b[0;36m_get_default_session\u001b[0;34m(cls)\u001b[0m\n\u001b[1;32m    113\u001b[0m     \u001b[0;32mdef\u001b[0m \u001b[0m_get_default_session\u001b[0m\u001b[0;34m(\u001b[0m\u001b[0mcls\u001b[0m\u001b[0;34m)\u001b[0m\u001b[0;34m:\u001b[0m\u001b[0;34m\u001b[0m\u001b[0;34m\u001b[0m\u001b[0m\n\u001b[1;32m    114\u001b[0m         \u001b[0;32mif\u001b[0m \u001b[0;32mnot\u001b[0m \u001b[0mInterfaceBase\u001b[0m\u001b[0;34m.\u001b[0m\u001b[0m_default_session\u001b[0m\u001b[0;34m:\u001b[0m\u001b[0;34m\u001b[0m\u001b[0;34m\u001b[0m\u001b[0m\n\u001b[0;32m--> 115\u001b[0;31m             InterfaceBase._default_session = Session(\n\u001b[0m\u001b[1;32m    116\u001b[0m                 \u001b[0minitialize_logging\u001b[0m\u001b[0;34m=\u001b[0m\u001b[0;32mFalse\u001b[0m\u001b[0;34m,\u001b[0m\u001b[0;34m\u001b[0m\u001b[0;34m\u001b[0m\u001b[0m\n\u001b[1;32m    117\u001b[0m                 \u001b[0mconfig\u001b[0m\u001b[0;34m=\u001b[0m\u001b[0mconfig_obj\u001b[0m\u001b[0;34m,\u001b[0m\u001b[0;34m\u001b[0m\u001b[0;34m\u001b[0m\u001b[0m\n",
      "\u001b[0;32m/opt/tljh/user/lib/python3.9/site-packages/clearml/backend_api/session/session.py\u001b[0m in \u001b[0;36m__init__\u001b[0;34m(self, worker, api_key, secret_key, host, logger, verbose, initialize_logging, config, http_retries_config, **kwargs)\u001b[0m\n\u001b[1;32m    172\u001b[0m \u001b[0;34m\u001b[0m\u001b[0m\n\u001b[1;32m    173\u001b[0m         \u001b[0;32mif\u001b[0m \u001b[0;32mnot\u001b[0m \u001b[0mself\u001b[0m\u001b[0;34m.\u001b[0m\u001b[0m_offline_mode\u001b[0m \u001b[0;32mand\u001b[0m \u001b[0mENV_CLEARML_NO_DEFAULT_SERVER\u001b[0m\u001b[0;34m.\u001b[0m\u001b[0mget\u001b[0m\u001b[0;34m(\u001b[0m\u001b[0;34m)\u001b[0m \u001b[0;32mand\u001b[0m \u001b[0mhost\u001b[0m \u001b[0;34m==\u001b[0m \u001b[0mself\u001b[0m\u001b[0;34m.\u001b[0m\u001b[0mdefault_demo_host\u001b[0m\u001b[0;34m:\u001b[0m\u001b[0;34m\u001b[0m\u001b[0;34m\u001b[0m\u001b[0m\n\u001b[0;32m--> 174\u001b[0;31m             raise ValueError(\n\u001b[0m\u001b[1;32m    175\u001b[0m                 \u001b[0;34m\"ClearML configuration could not be found (missing `~/clearml.conf` or Environment CLEARML_API_HOST)\\n\"\u001b[0m\u001b[0;34m\u001b[0m\u001b[0;34m\u001b[0m\u001b[0m\n\u001b[1;32m    176\u001b[0m                 \u001b[0;34m\"To get started with ClearML: setup your own `clearml-server`, \"\u001b[0m\u001b[0;34m\u001b[0m\u001b[0;34m\u001b[0m\u001b[0m\n",
      "\u001b[0;31mValueError\u001b[0m: ClearML configuration could not be found (missing `~/clearml.conf` or Environment CLEARML_API_HOST)\nTo get started with ClearML: setup your own `clearml-server`, or create a free account at https://app.community.clear.ml"
     ]
    }
   ],
   "source": [
    "# ClearML Stuff\n",
    "# task = Task.init(project_name=\"amplify\", task_name=\"power-ss-notebook\")"
   ]
  },
  {
   "cell_type": "code",
   "execution_count": null,
   "id": "281e9a78",
   "metadata": {},
   "outputs": [
    {
     "name": "stdout",
     "output_type": "stream",
     "text": [
      "Info: Successfully loaded building data!\n"
     ]
    },
    {
     "name": "stderr",
     "output_type": "stream",
     "text": [
      "/opt/tljh/user/lib/python3.9/site-packages/pysolar/radiation.py:50: RuntimeWarning: overflow encountered in exp\n",
      "  return flux * math.exp(-1 * optical_depth * air_mass_ratio) * is_daytime\n",
      "/opt/tljh/user/lib/python3.9/site-packages/pysolar/radiation.py:50: RuntimeWarning: invalid value encountered in multiply\n",
      "  return flux * math.exp(-1 * optical_depth * air_mass_ratio) * is_daytime\n"
     ]
    }
   ],
   "source": [
    "# # DataGenerator - ClearML\n",
    "# data_generator = DataGenerator()\n",
    "# # LoadData - ClearML\n",
    "# load_success, building_data, weather_data = data_generator.LoadData()\n",
    "\n",
    "# DataGenerator - Local\n",
    "data_generator = DataGenerator(use_local_data=True)\n",
    "# LoadData - Local\n",
    "load_success, building_data, weather_data = data_generator.LoadData(\n",
    "    building_data_path=\"../data/2021-10-19_2022-01-09_CF2.csv\",\n",
    "    weather_data_path=\"../data/CF2_Weather_2020-2022.csv\",\n",
    ")"
   ]
  },
  {
   "cell_type": "code",
   "execution_count": null,
   "id": "af774a0b-f018-43d5-8b0b-a0475864ea63",
   "metadata": {
    "tags": []
   },
   "outputs": [],
   "source": [
    "# Plot Power - Solar Gen vs Building Usage\n",
    "fig, ax = plt.subplots(figsize=(40, 10))\n",
    "plt.title('Solar Generation and Building Usage (Power)')\n",
    "\n",
    "ax.plot(building_data.solar['True Power (kW)'], color='g')\n",
    "ax.plot(building_data.usage['True Power (kW)'], color='r')\n",
    "\n",
    "ax.set_xlabel('Date and Time')\n",
    "ax.set_ylabel('Power (kW)')\n",
    "plt.legend(building_data.columns)\n",
    "plt.show()"
   ]
  },
  {
   "cell_type": "code",
   "execution_count": null,
   "id": "3ef7afbe-b573-4f4d-876c-f1668558387c",
   "metadata": {},
   "outputs": [],
   "source": [
    "# Build class for EWM Linear Regression to compare scaled/non-scaled features\n",
    "class Weather_EWM():\n",
    "    def __init__(self, features, y, split_date, to_scale=True):\n",
    "        self.data = features\n",
    "        self.y = y\n",
    "        self.split_date = split_date\n",
    "        self.scale = to_scale\n",
    "    \n",
    "    # Reversed-Recombined EWMA for improved accuracy\n",
    "    def ewm_calculator(self):\n",
    "        \n",
    "        # Create dataframe To collect data\n",
    "        self.ewm_out = pd.DataFrame()  \n",
    "        \n",
    "        # Calculate fwd and bwd EWMA\n",
    "        self.ewm_out['fwd'] = self.y.ewm(span=24).mean()\n",
    "        self.ewm_out['bwd'] = self.y[::-1].ewm(span=24).mean()\n",
    "\n",
    "        # Reversed-Recombined EWMA\n",
    "        self.ewm_out['combo'] = self.ewm_out.mean(axis=1)                                                    \n",
    "\n",
    "        return self.ewm_out\n",
    "           \n",
    "        \n",
    "\n",
    "    # Test/Train split and standardization of weather data\n",
    "    def weather_prep(self):\n",
    "        \n",
    "        # Run ewma calculator\n",
    "        self.ewm = self.ewm_calculator()\n",
    "\n",
    "        # Test / Train split for Y based on chosen split_date\n",
    "        self.ewm_train = self.ewm[self.ewm.index <= self.split_date]        \n",
    "        self.ewm_test = self.ewm[self.ewm.index > self.split_date]\n",
    "        \n",
    "        # Test/Train split for Weather data to match Y-data\n",
    "        self.weather_train = self.data[:len(self.ewm_train)]\n",
    "        self.weather_test = self.data[len(self.ewm_train):]\n",
    "        \n",
    "        # Scale features in training set:\n",
    "        if self.scale:\n",
    "            self.weather_scaler = preprocessing.StandardScaler()\n",
    "            self.weather_train = self.weather_scaler.fit_transform(self.weather_train)\n",
    "        \n",
    "        return self.weather_train, self.weather_test, self.ewm_train, self.ewm_test\n",
    "        \n",
    "    def weather_ewma(self):\n",
    "        # Run train/test split based on date and scaling\n",
    "        self.x_train, self.x_test, self.y_train, self.y_test = self.weather_prep()\n",
    "\n",
    "        # On to the regression:\n",
    "        self.lin_reg = linear_model.LinearRegression()\n",
    "        self.lin_reg.fit(self.x_train, self.y_train.combo)\n",
    "\n",
    "        self.ewm_solar_pred = self.lin_reg.predict(self.x_test)\n",
    "        \n",
    "        return(self.ewm_solar_pred)\n",
    "\n",
    "# Set split date for Linear Regression validation\n",
    "split_date = pd.to_datetime('2022-01-01', utc=True)\n",
    "\n",
    "# Set list of y-values we want to predict\n",
    "y_vals = {'Solar' : building_data.solar['True Power (kW)'],\n",
    "          'Usage' : building_data.usage['True Power (kW)']\n",
    "         }\n",
    "\n",
    "# To run the usage and power regressions\n",
    "for key in y_vals:\n",
    "    # Create the separate instances for scaled/not scaled:\n",
    "    WE_not_scaled = Weather_EWM(features=weather_data, \n",
    "                                y=y_vals[key],\n",
    "                                split_date=split_date, \n",
    "                                to_scale=False\n",
    "                               )\n",
    "    WE_scaled = Weather_EWM(features=weather_data,\n",
    "                            y=y_vals[key],\n",
    "                            split_date=split_date\n",
    "                           )\n",
    "\n",
    "    # Run the linear regressions:\n",
    "    lin_reg_scaled = WE_scaled.weather_ewma()\n",
    "    lin_reg_not_scaled = WE_not_scaled.weather_ewma()\n",
    "    \n",
    "    fig, ax1 = plt.subplots(figsize=(20, 10))\n",
    "    ax2 = ax1.twinx()\n",
    "    \n",
    "    title = key + ' ' + y_vals[key].name\n",
    "    plt.title(label=title)\n",
    "\n",
    "    ax1.plot(lin_reg_not_scaled, color='b', alpha=0.25, label='Not-Scaled')\n",
    "    ax2.plot(lin_reg_scaled, color='g', alpha=0.25, label='Scaled')\n",
    "    \n",
    "    plt.legend()\n",
    "    plt.show()"
   ]
  }
 ],
 "metadata": {
  "kernelspec": {
   "display_name": "Python 3 (ipykernel)",
   "language": "python",
   "name": "python3"
  },
  "language_info": {
   "codemirror_mode": {
    "name": "ipython",
    "version": 3
   },
   "file_extension": ".py",
   "mimetype": "text/x-python",
   "name": "python",
   "nbconvert_exporter": "python",
   "pygments_lexer": "ipython3",
   "version": "3.9.7"
  },
  "toc-autonumbering": false,
  "toc-showcode": false,
  "toc-showmarkdowntxt": false
 },
 "nbformat": 4,
 "nbformat_minor": 5
}
