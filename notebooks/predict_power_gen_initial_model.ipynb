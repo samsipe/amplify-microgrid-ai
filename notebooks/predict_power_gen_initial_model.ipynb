{
 "cells": [
  {
   "cell_type": "code",
   "execution_count": 3,
   "metadata": {},
   "outputs": [],
   "source": [
    "# Load libs:\n",
    "import os\n",
    "import sys\n",
    "import pandas as pd\n",
    "import numpy as np\n",
    "import matplotlib.pyplot as plt\n",
    "import datetime as dt\n",
    "from glob import glob\n",
    "from os.path import dirname, abspath, join, exists\n",
    "\n",
    "from sklearn import linear_model\n",
    "\n",
    "from amplify.data import DataGenerator\n",
    "# ^^^ For this to work you need to run `pip install -r requirements.txt`"
   ]
  },
  {
   "cell_type": "markdown",
   "metadata": {},
   "source": [
    "## Load Data"
   ]
  },
  {
   "cell_type": "code",
   "execution_count": 4,
   "metadata": {},
   "outputs": [
    {
     "name": "stdout",
     "output_type": "stream",
     "text": [
      "Info: Successfully loaded building data!\n"
     ]
    },
    {
     "name": "stderr",
     "output_type": "stream",
     "text": [
      "/Users/christianwelling/Fourthbrain/Fourthbrain/fourthbrain_venv/lib/python3.8/site-packages/pysolar/radiation.py:50: RuntimeWarning: overflow encountered in exp\n",
      "  return flux * math.exp(-1 * optical_depth * air_mass_ratio) * is_daytime\n",
      "/Users/christianwelling/Fourthbrain/Fourthbrain/fourthbrain_venv/lib/python3.8/site-packages/pysolar/radiation.py:50: RuntimeWarning: invalid value encountered in multiply\n",
      "  return flux * math.exp(-1 * optical_depth * air_mass_ratio) * is_daytime\n"
     ]
    },
    {
     "name": "stdout",
     "output_type": "stream",
     "text": [
      "Info: Successfully loaded weather data!\n"
     ]
    },
    {
     "data": {
      "text/html": [
       "<div>\n",
       "<style scoped>\n",
       "    .dataframe tbody tr th:only-of-type {\n",
       "        vertical-align: middle;\n",
       "    }\n",
       "\n",
       "    .dataframe tbody tr th {\n",
       "        vertical-align: top;\n",
       "    }\n",
       "\n",
       "    .dataframe thead th {\n",
       "        text-align: right;\n",
       "    }\n",
       "</style>\n",
       "<table border=\"1\" class=\"dataframe\">\n",
       "  <thead>\n",
       "    <tr style=\"text-align: right;\">\n",
       "      <th></th>\n",
       "      <th>temp</th>\n",
       "      <th>pressure</th>\n",
       "      <th>humidity</th>\n",
       "      <th>clouds_all</th>\n",
       "      <th>irradiance</th>\n",
       "      <th>solar</th>\n",
       "      <th>usage</th>\n",
       "    </tr>\n",
       "  </thead>\n",
       "  <tbody>\n",
       "    <tr>\n",
       "      <th>2021-10-19 04:00:00+00:00</th>\n",
       "      <td>10.07</td>\n",
       "      <td>1017.0</td>\n",
       "      <td>66.0</td>\n",
       "      <td>20.0</td>\n",
       "      <td>0.0</td>\n",
       "      <td>1.0</td>\n",
       "      <td>11.3</td>\n",
       "    </tr>\n",
       "    <tr>\n",
       "      <th>2021-10-19 05:00:00+00:00</th>\n",
       "      <td>9.51</td>\n",
       "      <td>1017.0</td>\n",
       "      <td>70.0</td>\n",
       "      <td>20.0</td>\n",
       "      <td>0.0</td>\n",
       "      <td>1.0</td>\n",
       "      <td>13.2</td>\n",
       "    </tr>\n",
       "    <tr>\n",
       "      <th>2021-10-19 06:00:00+00:00</th>\n",
       "      <td>9.28</td>\n",
       "      <td>1017.0</td>\n",
       "      <td>71.0</td>\n",
       "      <td>20.0</td>\n",
       "      <td>0.0</td>\n",
       "      <td>1.0</td>\n",
       "      <td>12.7</td>\n",
       "    </tr>\n",
       "    <tr>\n",
       "      <th>2021-10-19 07:00:00+00:00</th>\n",
       "      <td>9.12</td>\n",
       "      <td>1017.0</td>\n",
       "      <td>72.0</td>\n",
       "      <td>20.0</td>\n",
       "      <td>0.0</td>\n",
       "      <td>1.0</td>\n",
       "      <td>17.2</td>\n",
       "    </tr>\n",
       "    <tr>\n",
       "      <th>2021-10-19 08:00:00+00:00</th>\n",
       "      <td>9.12</td>\n",
       "      <td>1017.0</td>\n",
       "      <td>73.0</td>\n",
       "      <td>20.0</td>\n",
       "      <td>0.0</td>\n",
       "      <td>1.0</td>\n",
       "      <td>17.0</td>\n",
       "    </tr>\n",
       "  </tbody>\n",
       "</table>\n",
       "</div>"
      ],
      "text/plain": [
       "                            temp  pressure  humidity  clouds_all  irradiance  \\\n",
       "2021-10-19 04:00:00+00:00  10.07    1017.0      66.0        20.0         0.0   \n",
       "2021-10-19 05:00:00+00:00   9.51    1017.0      70.0        20.0         0.0   \n",
       "2021-10-19 06:00:00+00:00   9.28    1017.0      71.0        20.0         0.0   \n",
       "2021-10-19 07:00:00+00:00   9.12    1017.0      72.0        20.0         0.0   \n",
       "2021-10-19 08:00:00+00:00   9.12    1017.0      73.0        20.0         0.0   \n",
       "\n",
       "                           solar  usage  \n",
       "2021-10-19 04:00:00+00:00    1.0   11.3  \n",
       "2021-10-19 05:00:00+00:00    1.0   13.2  \n",
       "2021-10-19 06:00:00+00:00    1.0   12.7  \n",
       "2021-10-19 07:00:00+00:00    1.0   17.2  \n",
       "2021-10-19 08:00:00+00:00    1.0   17.0  "
      ]
     },
     "execution_count": 4,
     "metadata": {},
     "output_type": "execute_result"
    }
   ],
   "source": [
    "# DataGenerator - ClearML\n",
    "data_generator = DataGenerator()\n",
    "xy_data = data_generator.load_data()\n",
    "xy_data.head()"
   ]
  },
  {
   "cell_type": "code",
   "execution_count": 5,
   "metadata": {},
   "outputs": [
    {
     "name": "stdout",
     "output_type": "stream",
     "text": [
      "XY Data Shape: (1994, 7)\n"
     ]
    }
   ],
   "source": [
    "# What is the shape of the data?\n",
    "print(f\"XY Data Shape: {xy_data.shape}\")"
   ]
  },
  {
   "cell_type": "code",
   "execution_count": 6,
   "metadata": {},
   "outputs": [
    {
     "data": {
      "text/html": [
       "<div>\n",
       "<style scoped>\n",
       "    .dataframe tbody tr th:only-of-type {\n",
       "        vertical-align: middle;\n",
       "    }\n",
       "\n",
       "    .dataframe tbody tr th {\n",
       "        vertical-align: top;\n",
       "    }\n",
       "\n",
       "    .dataframe thead th {\n",
       "        text-align: right;\n",
       "    }\n",
       "</style>\n",
       "<table border=\"1\" class=\"dataframe\">\n",
       "  <thead>\n",
       "    <tr style=\"text-align: right;\">\n",
       "      <th></th>\n",
       "      <th>temp</th>\n",
       "      <th>pressure</th>\n",
       "      <th>humidity</th>\n",
       "      <th>clouds_all</th>\n",
       "      <th>irradiance</th>\n",
       "      <th>solar</th>\n",
       "      <th>usage</th>\n",
       "    </tr>\n",
       "  </thead>\n",
       "  <tbody>\n",
       "    <tr>\n",
       "      <th>2021-10-19 04:00:00+00:00</th>\n",
       "      <td>10.07</td>\n",
       "      <td>1017.0</td>\n",
       "      <td>66.0</td>\n",
       "      <td>20.0</td>\n",
       "      <td>0.000000</td>\n",
       "      <td>1.0</td>\n",
       "      <td>11.3</td>\n",
       "    </tr>\n",
       "    <tr>\n",
       "      <th>2021-10-19 05:00:00+00:00</th>\n",
       "      <td>9.51</td>\n",
       "      <td>1017.0</td>\n",
       "      <td>70.0</td>\n",
       "      <td>20.0</td>\n",
       "      <td>0.000000</td>\n",
       "      <td>1.0</td>\n",
       "      <td>13.2</td>\n",
       "    </tr>\n",
       "    <tr>\n",
       "      <th>2021-10-19 06:00:00+00:00</th>\n",
       "      <td>9.28</td>\n",
       "      <td>1017.0</td>\n",
       "      <td>71.0</td>\n",
       "      <td>20.0</td>\n",
       "      <td>0.000000</td>\n",
       "      <td>1.0</td>\n",
       "      <td>12.7</td>\n",
       "    </tr>\n",
       "    <tr>\n",
       "      <th>2021-10-19 07:00:00+00:00</th>\n",
       "      <td>9.12</td>\n",
       "      <td>1017.0</td>\n",
       "      <td>72.0</td>\n",
       "      <td>20.0</td>\n",
       "      <td>0.000000</td>\n",
       "      <td>1.0</td>\n",
       "      <td>17.2</td>\n",
       "    </tr>\n",
       "    <tr>\n",
       "      <th>2021-10-19 08:00:00+00:00</th>\n",
       "      <td>9.12</td>\n",
       "      <td>1017.0</td>\n",
       "      <td>73.0</td>\n",
       "      <td>20.0</td>\n",
       "      <td>0.000000</td>\n",
       "      <td>1.0</td>\n",
       "      <td>17.0</td>\n",
       "    </tr>\n",
       "    <tr>\n",
       "      <th>2021-10-19 09:00:00+00:00</th>\n",
       "      <td>8.91</td>\n",
       "      <td>1017.0</td>\n",
       "      <td>75.0</td>\n",
       "      <td>1.0</td>\n",
       "      <td>0.000000</td>\n",
       "      <td>1.0</td>\n",
       "      <td>14.2</td>\n",
       "    </tr>\n",
       "    <tr>\n",
       "      <th>2021-10-19 10:00:00+00:00</th>\n",
       "      <td>8.61</td>\n",
       "      <td>1018.0</td>\n",
       "      <td>75.0</td>\n",
       "      <td>1.0</td>\n",
       "      <td>0.000000</td>\n",
       "      <td>1.0</td>\n",
       "      <td>14.4</td>\n",
       "    </tr>\n",
       "    <tr>\n",
       "      <th>2021-10-19 11:00:00+00:00</th>\n",
       "      <td>8.97</td>\n",
       "      <td>1018.0</td>\n",
       "      <td>73.0</td>\n",
       "      <td>1.0</td>\n",
       "      <td>0.000000</td>\n",
       "      <td>1.0</td>\n",
       "      <td>14.1</td>\n",
       "    </tr>\n",
       "    <tr>\n",
       "      <th>2021-10-19 12:00:00+00:00</th>\n",
       "      <td>9.12</td>\n",
       "      <td>1018.0</td>\n",
       "      <td>75.0</td>\n",
       "      <td>1.0</td>\n",
       "      <td>323.335022</td>\n",
       "      <td>11.3</td>\n",
       "      <td>12.5</td>\n",
       "    </tr>\n",
       "    <tr>\n",
       "      <th>2021-10-19 13:00:00+00:00</th>\n",
       "      <td>10.96</td>\n",
       "      <td>1019.0</td>\n",
       "      <td>69.0</td>\n",
       "      <td>1.0</td>\n",
       "      <td>680.919505</td>\n",
       "      <td>24.9</td>\n",
       "      <td>13.7</td>\n",
       "    </tr>\n",
       "    <tr>\n",
       "      <th>2021-10-19 14:00:00+00:00</th>\n",
       "      <td>13.05</td>\n",
       "      <td>1019.0</td>\n",
       "      <td>60.0</td>\n",
       "      <td>1.0</td>\n",
       "      <td>815.031860</td>\n",
       "      <td>35.7</td>\n",
       "      <td>15.1</td>\n",
       "    </tr>\n",
       "    <tr>\n",
       "      <th>2021-10-19 15:00:00+00:00</th>\n",
       "      <td>14.74</td>\n",
       "      <td>1019.0</td>\n",
       "      <td>54.0</td>\n",
       "      <td>1.0</td>\n",
       "      <td>876.069179</td>\n",
       "      <td>42.6</td>\n",
       "      <td>20.9</td>\n",
       "    </tr>\n",
       "    <tr>\n",
       "      <th>2021-10-19 16:00:00+00:00</th>\n",
       "      <td>16.42</td>\n",
       "      <td>1018.0</td>\n",
       "      <td>46.0</td>\n",
       "      <td>1.0</td>\n",
       "      <td>903.014730</td>\n",
       "      <td>45.5</td>\n",
       "      <td>17.5</td>\n",
       "    </tr>\n",
       "    <tr>\n",
       "      <th>2021-10-19 17:00:00+00:00</th>\n",
       "      <td>17.75</td>\n",
       "      <td>1017.0</td>\n",
       "      <td>42.0</td>\n",
       "      <td>1.0</td>\n",
       "      <td>907.971714</td>\n",
       "      <td>44.5</td>\n",
       "      <td>16.0</td>\n",
       "    </tr>\n",
       "    <tr>\n",
       "      <th>2021-10-19 18:00:00+00:00</th>\n",
       "      <td>19.20</td>\n",
       "      <td>1017.0</td>\n",
       "      <td>42.0</td>\n",
       "      <td>1.0</td>\n",
       "      <td>892.864347</td>\n",
       "      <td>39.8</td>\n",
       "      <td>15.3</td>\n",
       "    </tr>\n",
       "    <tr>\n",
       "      <th>2021-10-19 19:00:00+00:00</th>\n",
       "      <td>20.27</td>\n",
       "      <td>1016.0</td>\n",
       "      <td>42.0</td>\n",
       "      <td>1.0</td>\n",
       "      <td>851.531330</td>\n",
       "      <td>31.2</td>\n",
       "      <td>17.4</td>\n",
       "    </tr>\n",
       "    <tr>\n",
       "      <th>2021-10-19 20:00:00+00:00</th>\n",
       "      <td>20.89</td>\n",
       "      <td>1015.0</td>\n",
       "      <td>41.0</td>\n",
       "      <td>1.0</td>\n",
       "      <td>762.456976</td>\n",
       "      <td>18.9</td>\n",
       "      <td>17.8</td>\n",
       "    </tr>\n",
       "    <tr>\n",
       "      <th>2021-10-19 21:00:00+00:00</th>\n",
       "      <td>20.47</td>\n",
       "      <td>1015.0</td>\n",
       "      <td>42.0</td>\n",
       "      <td>1.0</td>\n",
       "      <td>551.762650</td>\n",
       "      <td>5.3</td>\n",
       "      <td>22.0</td>\n",
       "    </tr>\n",
       "    <tr>\n",
       "      <th>2021-10-19 22:00:00+00:00</th>\n",
       "      <td>19.43</td>\n",
       "      <td>1015.0</td>\n",
       "      <td>47.0</td>\n",
       "      <td>1.0</td>\n",
       "      <td>14.484079</td>\n",
       "      <td>1.6</td>\n",
       "      <td>19.9</td>\n",
       "    </tr>\n",
       "    <tr>\n",
       "      <th>2021-10-19 23:00:00+00:00</th>\n",
       "      <td>18.09</td>\n",
       "      <td>1015.0</td>\n",
       "      <td>52.0</td>\n",
       "      <td>1.0</td>\n",
       "      <td>0.000000</td>\n",
       "      <td>1.6</td>\n",
       "      <td>21.8</td>\n",
       "    </tr>\n",
       "  </tbody>\n",
       "</table>\n",
       "</div>"
      ],
      "text/plain": [
       "                            temp  pressure  humidity  clouds_all  irradiance  \\\n",
       "2021-10-19 04:00:00+00:00  10.07    1017.0      66.0        20.0    0.000000   \n",
       "2021-10-19 05:00:00+00:00   9.51    1017.0      70.0        20.0    0.000000   \n",
       "2021-10-19 06:00:00+00:00   9.28    1017.0      71.0        20.0    0.000000   \n",
       "2021-10-19 07:00:00+00:00   9.12    1017.0      72.0        20.0    0.000000   \n",
       "2021-10-19 08:00:00+00:00   9.12    1017.0      73.0        20.0    0.000000   \n",
       "2021-10-19 09:00:00+00:00   8.91    1017.0      75.0         1.0    0.000000   \n",
       "2021-10-19 10:00:00+00:00   8.61    1018.0      75.0         1.0    0.000000   \n",
       "2021-10-19 11:00:00+00:00   8.97    1018.0      73.0         1.0    0.000000   \n",
       "2021-10-19 12:00:00+00:00   9.12    1018.0      75.0         1.0  323.335022   \n",
       "2021-10-19 13:00:00+00:00  10.96    1019.0      69.0         1.0  680.919505   \n",
       "2021-10-19 14:00:00+00:00  13.05    1019.0      60.0         1.0  815.031860   \n",
       "2021-10-19 15:00:00+00:00  14.74    1019.0      54.0         1.0  876.069179   \n",
       "2021-10-19 16:00:00+00:00  16.42    1018.0      46.0         1.0  903.014730   \n",
       "2021-10-19 17:00:00+00:00  17.75    1017.0      42.0         1.0  907.971714   \n",
       "2021-10-19 18:00:00+00:00  19.20    1017.0      42.0         1.0  892.864347   \n",
       "2021-10-19 19:00:00+00:00  20.27    1016.0      42.0         1.0  851.531330   \n",
       "2021-10-19 20:00:00+00:00  20.89    1015.0      41.0         1.0  762.456976   \n",
       "2021-10-19 21:00:00+00:00  20.47    1015.0      42.0         1.0  551.762650   \n",
       "2021-10-19 22:00:00+00:00  19.43    1015.0      47.0         1.0   14.484079   \n",
       "2021-10-19 23:00:00+00:00  18.09    1015.0      52.0         1.0    0.000000   \n",
       "\n",
       "                           solar  usage  \n",
       "2021-10-19 04:00:00+00:00    1.0   11.3  \n",
       "2021-10-19 05:00:00+00:00    1.0   13.2  \n",
       "2021-10-19 06:00:00+00:00    1.0   12.7  \n",
       "2021-10-19 07:00:00+00:00    1.0   17.2  \n",
       "2021-10-19 08:00:00+00:00    1.0   17.0  \n",
       "2021-10-19 09:00:00+00:00    1.0   14.2  \n",
       "2021-10-19 10:00:00+00:00    1.0   14.4  \n",
       "2021-10-19 11:00:00+00:00    1.0   14.1  \n",
       "2021-10-19 12:00:00+00:00   11.3   12.5  \n",
       "2021-10-19 13:00:00+00:00   24.9   13.7  \n",
       "2021-10-19 14:00:00+00:00   35.7   15.1  \n",
       "2021-10-19 15:00:00+00:00   42.6   20.9  \n",
       "2021-10-19 16:00:00+00:00   45.5   17.5  \n",
       "2021-10-19 17:00:00+00:00   44.5   16.0  \n",
       "2021-10-19 18:00:00+00:00   39.8   15.3  \n",
       "2021-10-19 19:00:00+00:00   31.2   17.4  \n",
       "2021-10-19 20:00:00+00:00   18.9   17.8  \n",
       "2021-10-19 21:00:00+00:00    5.3   22.0  \n",
       "2021-10-19 22:00:00+00:00    1.6   19.9  \n",
       "2021-10-19 23:00:00+00:00    1.6   21.8  "
      ]
     },
     "execution_count": 6,
     "metadata": {},
     "output_type": "execute_result"
    }
   ],
   "source": [
    "# Lets see a few more rows\n",
    "xy_data.head(20)"
   ]
  },
  {
   "cell_type": "code",
   "execution_count": 8,
   "metadata": {},
   "outputs": [
    {
     "data": {
      "text/plain": [
       "Timestamp('2021-10-19 04:00:00+0000', tz='UTC', freq='H')"
      ]
     },
     "execution_count": 8,
     "metadata": {},
     "output_type": "execute_result"
    }
   ],
   "source": [
    "# timestamp example\n",
    "xy_data.index[0]"
   ]
  },
  {
   "cell_type": "code",
   "execution_count": null,
   "metadata": {},
   "outputs": [],
   "source": [
    "# Data Shape \n",
    "# Batch Size of 10\n",
    "# Series of 7 Days 168\n",
    "# (B,  S,   H, F) <-X Y-> (B,  S,   H, O)\n",
    "# (20, 30, 48, 5) <-X Y-> (20, 30, 48, 1)"
   ]
  },
  {
   "cell_type": "markdown",
   "metadata": {},
   "source": [
    "## Data Processing"
   ]
  },
  {
   "cell_type": "markdown",
   "metadata": {},
   "source": [
    "### Helper Functions"
   ]
  },
  {
   "cell_type": "markdown",
   "metadata": {},
   "source": [
    "```\n",
    "1. Make xy data into a set of series of shape [N, M, F],\n",
    "where N = number of examples; M = nubmer of timestamps; F = Number of features\n",
    "```"
   ]
  },
  {
   "cell_type": "code",
   "execution_count": 9,
   "metadata": {},
   "outputs": [],
   "source": [
    "# TODO add random sample to stride between 1 and 5\n",
    "def make_series(dataframe, series_length = 48, stride = 3):\n",
    "    start_index = series_length\n",
    "    end_index = len(dataframe)\n",
    "\n",
    "    data = []\n",
    "    for i in range(start_index, end_index, stride):\n",
    "        indices = range(i - series_length, i, 1)\n",
    "        data.append(dataframe.iloc[indices])\n",
    "\n",
    "    return np.array(data)"
   ]
  },
  {
   "cell_type": "code",
   "execution_count": 10,
   "metadata": {},
   "outputs": [
    {
     "data": {
      "text/plain": [
       "(649, 48, 7)"
      ]
     },
     "execution_count": 10,
     "metadata": {},
     "output_type": "execute_result"
    }
   ],
   "source": [
    "# Create Series Data\n",
    "series_data = make_series(xy_data)\n",
    "series_data.shape"
   ]
  },
  {
   "cell_type": "code",
   "execution_count": 11,
   "metadata": {},
   "outputs": [],
   "source": [
    "# Data Shape \n",
    "# Batch Size of 10\n",
    "# Series of 7 Days 168\n",
    "# (B,  S,   H, F) <-X Y-> (B,  S,   H, O)\n",
    "# (20, 30, 48, 5) <-X Y-> (20, 30, 48, 1)"
   ]
  },
  {
   "cell_type": "markdown",
   "metadata": {},
   "source": [
    "```\n",
    "2. Train-Test-Validation Split. Split off at 0.8, 0.1, 0.1 ratio for now. Shuffle the split.\n",
    "```"
   ]
  },
  {
   "cell_type": "code",
   "execution_count": 12,
   "metadata": {},
   "outputs": [],
   "source": [
    "#TODO remove the random seed\n",
    "def train_val_test_split(ds, train_split=0.8, val_split=0.1, test_split=0.1, shuffle=True):\n",
    "    assert (train_split + test_split + val_split) == 1\n",
    "\n",
    "    if shuffle:\n",
    "        # Specify seed to always have the same split distribution between runs\n",
    "        rng = np.random.default_rng(seed=42)\n",
    "        rng.shuffle(ds, axis=0)\n",
    "\n",
    "    indices_or_sections = [int(train_split * ds.shape[0]), int((1 - test_split) * ds.shape[0])]\n",
    "    \n",
    "    train_ds, val_ds, test_ds = np.split(ds, indices_or_sections)\n",
    "    \n",
    "    return train_ds, val_ds, test_ds"
   ]
  },
  {
   "cell_type": "code",
   "execution_count": 14,
   "metadata": {},
   "outputs": [],
   "source": [
    "# Create test, validation, and test datasets\n",
    "train_ds, val_ds, test_ds = train_val_test_split(series_data)"
   ]
  },
  {
   "cell_type": "markdown",
   "metadata": {},
   "source": [
    "```\n",
    "3. Seperate x, y from dataset. Remove last column from dataset to extract y.\n",
    "```"
   ]
  },
  {
   "cell_type": "code",
   "execution_count": 15,
   "metadata": {},
   "outputs": [],
   "source": [
    "def xy_splits(dataset):\n",
    "    x_ds, y_solar, y_usage = dataset[:, :, 0:-2], dataset[:, :, -2], dataset[:, :, -1]\n",
    "    return x_ds, y_solar, y_usage"
   ]
  },
  {
   "cell_type": "code",
   "execution_count": 16,
   "metadata": {},
   "outputs": [],
   "source": [
    "# Isolate XY from datasets\n",
    "x_train, y_solar_train, y_usage_train = xy_splits(train_ds)     # Training data\n",
    "x_val, y_solar_val, y_usage_val = xy_splits(val_ds)             # Validation data\n",
    "x_test, y_solar_test, y_usage_test = xy_splits(test_ds)         # Test dataß"
   ]
  },
  {
   "cell_type": "code",
   "execution_count": 17,
   "metadata": {},
   "outputs": [],
   "source": [
    "# format data for training...\n",
    "# [1,2,....] <= was a column\n",
    "# do we do (n, 1, n timesteps, n features per timestep) (3,4,5 => 2 days)?"
   ]
  },
  {
   "cell_type": "markdown",
   "metadata": {},
   "source": [
    "### Reviewing Data"
   ]
  },
  {
   "cell_type": "code",
   "execution_count": 18,
   "metadata": {},
   "outputs": [
    {
     "name": "stdout",
     "output_type": "stream",
     "text": [
      "x_train shape\n"
     ]
    },
    {
     "data": {
      "text/plain": [
       "(519, 48, 5)"
      ]
     },
     "execution_count": 18,
     "metadata": {},
     "output_type": "execute_result"
    }
   ],
   "source": [
    "# x_train shape\n",
    "print(\"x_train shape\")\n",
    "x_train.shape"
   ]
  },
  {
   "cell_type": "code",
   "execution_count": 20,
   "metadata": {},
   "outputs": [
    {
     "name": "stdout",
     "output_type": "stream",
     "text": [
      "y_solar_train shape\n"
     ]
    },
    {
     "data": {
      "text/plain": [
       "(519, 48)"
      ]
     },
     "execution_count": 20,
     "metadata": {},
     "output_type": "execute_result"
    }
   ],
   "source": [
    "# y_train shape\n",
    "print(\"y_solar_train shape\")\n",
    "y_solar_train.shape"
   ]
  },
  {
   "cell_type": "markdown",
   "metadata": {},
   "source": [
    "## Modeling"
   ]
  },
  {
   "cell_type": "code",
   "execution_count": 22,
   "metadata": {},
   "outputs": [],
   "source": [
    "import tensorflow as tf\n",
    "from tensorflow import keras\n",
    "from tensorflow.keras import layers\n",
    "from tensorflow.keras.preprocessing import sequence\n",
    "from keras import Input\n",
    "from sklearn.preprocessing import OneHotEncoder\n",
    "from keras.models import Sequential, Model\n",
    "from keras.layers import Dense\n",
    "from keras.layers import LSTM\n",
    "from keras.layers import Flatten\n",
    "from sklearn.preprocessing import MinMaxScaler\n",
    "from sklearn.metrics import mean_squared_error\n",
    "from matplotlib import pyplot\n",
    "from keras.layers import Bidirectional\n",
    "from keras.layers import TimeDistributed"
   ]
  },
  {
   "cell_type": "markdown",
   "metadata": {},
   "source": [
    "### Normalize Data"
   ]
  },
  {
   "cell_type": "code",
   "execution_count": 23,
   "metadata": {},
   "outputs": [
    {
     "name": "stderr",
     "output_type": "stream",
     "text": [
      "2022-01-28 23:58:04.188334: I tensorflow/core/platform/cpu_feature_guard.cc:142] This TensorFlow binary is optimized with oneAPI Deep Neural Network Library (oneDNN) to use the following CPU instructions in performance-critical operations:  AVX2 FMA\n",
      "To enable them in other operations, rebuild TensorFlow with the appropriate compiler flags.\n",
      "2022-01-28 23:58:04.806940: I tensorflow/compiler/mlir/mlir_graph_optimization_pass.cc:185] None of the MLIR Optimization Passes are enabled (registered 2)\n"
     ]
    }
   ],
   "source": [
    "#TODO: Move to model pipeline\n",
    "# Normalize X_train data\n",
    "norm_layer = tf.keras.layers.Normalization(axis=-1)\n",
    "norm_layer.adapt(x_train)"
   ]
  },
  {
   "cell_type": "markdown",
   "metadata": {},
   "source": [
    "## Simple LSTM"
   ]
  },
  {
   "cell_type": "code",
   "execution_count": 24,
   "metadata": {},
   "outputs": [],
   "source": [
    "def CreateModel(n_layer=1, n_series_len=48, n_ft=5, n_outputs=1):\n",
    "    lstm_input = Input(shape=(n_series_len, n_ft))\n",
    "    lstm_layer = LSTM(n_layer, activation='relu')(lstm_input)\n",
    "    x = Dense(n_outputs)(lstm_layer)\n",
    "    model = Model(inputs=lstm_input, outputs=x)\n",
    "    return model"
   ]
  },
  {
   "cell_type": "code",
   "execution_count": 25,
   "metadata": {},
   "outputs": [],
   "source": [
    "n_layer = 6\n",
    "n_series_len = 48\n",
    "n_ft = 5\n",
    "n_outputs = 1\n",
    "model = CreateModel(n_layer, n_series_len, n_ft, n_outputs)"
   ]
  },
  {
   "cell_type": "code",
   "execution_count": 26,
   "metadata": {},
   "outputs": [
    {
     "name": "stdout",
     "output_type": "stream",
     "text": [
      "Model: \"model\"\n",
      "_________________________________________________________________\n",
      "Layer (type)                 Output Shape              Param #   \n",
      "=================================================================\n",
      "input_1 (InputLayer)         [(None, 48, 5)]           0         \n",
      "_________________________________________________________________\n",
      "lstm (LSTM)                  (None, 6)                 288       \n",
      "_________________________________________________________________\n",
      "dense (Dense)                (None, 1)                 7         \n",
      "=================================================================\n",
      "Total params: 295\n",
      "Trainable params: 295\n",
      "Non-trainable params: 0\n",
      "_________________________________________________________________\n"
     ]
    }
   ],
   "source": [
    "model.summary()"
   ]
  },
  {
   "cell_type": "code",
   "execution_count": 27,
   "metadata": {},
   "outputs": [],
   "source": [
    "optimizer = keras.optimizers.Adam(learning_rate=0.001)\n",
    "#model.compile(loss=keras.losses.MeanAbsoluteError(), optimizer=optimizer)\n",
    "model.compile(tf.optimizers.Adam(learning_rate=0.0003),\n",
    "      loss='binary_crossentropy',\n",
    "      metrics=['acc'])"
   ]
  },
  {
   "cell_type": "code",
   "execution_count": 28,
   "metadata": {},
   "outputs": [
    {
     "name": "stdout",
     "output_type": "stream",
     "text": [
      "Epoch 1/100\n",
      "42/42 [==============================] - 5s 52ms/step - loss: 105.9219 - acc: 0.0000e+00 - val_loss: 103.1343 - val_acc: 0.0000e+00\n",
      "Epoch 2/100\n",
      "42/42 [==============================] - 2s 44ms/step - loss: 105.9219 - acc: 0.0000e+00 - val_loss: 103.1343 - val_acc: 0.0000e+00\n",
      "Epoch 3/100\n",
      "42/42 [==============================] - 2s 40ms/step - loss: 105.9219 - acc: 0.0000e+00 - val_loss: 103.1343 - val_acc: 0.0000e+00\n",
      "Epoch 4/100\n",
      "42/42 [==============================] - 2s 38ms/step - loss: 105.9219 - acc: 0.0000e+00 - val_loss: 103.1343 - val_acc: 0.0000e+00\n",
      "Epoch 5/100\n",
      "42/42 [==============================] - 2s 41ms/step - loss: 105.9219 - acc: 0.0000e+00 - val_loss: 103.1343 - val_acc: 0.0000e+00\n",
      "Epoch 6/100\n",
      "42/42 [==============================] - 2s 48ms/step - loss: 105.9219 - acc: 0.0000e+00 - val_loss: 103.1343 - val_acc: 0.0000e+00\n",
      "Epoch 7/100\n",
      "42/42 [==============================] - 3s 62ms/step - loss: 105.9219 - acc: 0.0000e+00 - val_loss: 103.1343 - val_acc: 0.0000e+00\n",
      "Epoch 8/100\n",
      "42/42 [==============================] - 2s 45ms/step - loss: 105.9219 - acc: 0.0000e+00 - val_loss: 103.1343 - val_acc: 0.0000e+00\n",
      "Epoch 9/100\n",
      "42/42 [==============================] - 2s 46ms/step - loss: 105.9219 - acc: 0.0000e+00 - val_loss: 103.1343 - val_acc: 0.0000e+00\n",
      "Epoch 10/100\n",
      "42/42 [==============================] - 2s 46ms/step - loss: 105.9219 - acc: 0.0000e+00 - val_loss: 103.1343 - val_acc: 0.0000e+00\n",
      "Epoch 11/100\n",
      "42/42 [==============================] - 2s 50ms/step - loss: 105.9219 - acc: 0.0000e+00 - val_loss: 103.1343 - val_acc: 0.0000e+00\n",
      "Epoch 12/100\n",
      "42/42 [==============================] - 2s 46ms/step - loss: 105.9219 - acc: 0.0000e+00 - val_loss: 103.1343 - val_acc: 0.0000e+00\n",
      "Epoch 13/100\n",
      "42/42 [==============================] - 2s 43ms/step - loss: 105.9219 - acc: 0.0000e+00 - val_loss: 103.1343 - val_acc: 0.0000e+00\n",
      "Epoch 14/100\n",
      "42/42 [==============================] - 2s 48ms/step - loss: 105.9219 - acc: 0.0000e+00 - val_loss: 103.1343 - val_acc: 0.0000e+00\n",
      "Epoch 15/100\n",
      "42/42 [==============================] - 2s 47ms/step - loss: 105.9219 - acc: 0.0000e+00 - val_loss: 103.1343 - val_acc: 0.0000e+00\n",
      "Epoch 16/100\n",
      "42/42 [==============================] - 2s 44ms/step - loss: 105.9219 - acc: 0.0000e+00 - val_loss: 103.1343 - val_acc: 0.0000e+00\n",
      "Epoch 17/100\n",
      "42/42 [==============================] - 2s 52ms/step - loss: 105.9219 - acc: 0.0000e+00 - val_loss: 103.1343 - val_acc: 0.0000e+00\n",
      "Epoch 18/100\n",
      "42/42 [==============================] - 2s 48ms/step - loss: 105.9219 - acc: 0.0000e+00 - val_loss: 103.1343 - val_acc: 0.0000e+00\n",
      "Epoch 19/100\n",
      "42/42 [==============================] - 2s 45ms/step - loss: 105.9219 - acc: 0.0000e+00 - val_loss: 103.1343 - val_acc: 0.0000e+00\n",
      "Epoch 20/100\n",
      "42/42 [==============================] - 2s 38ms/step - loss: 105.9219 - acc: 0.0000e+00 - val_loss: 103.1343 - val_acc: 0.0000e+00\n",
      "Epoch 21/100\n",
      "42/42 [==============================] - 2s 46ms/step - loss: 105.9219 - acc: 0.0000e+00 - val_loss: 103.1343 - val_acc: 0.0000e+00\n",
      "Epoch 22/100\n",
      "42/42 [==============================] - 2s 52ms/step - loss: 105.9219 - acc: 0.0000e+00 - val_loss: 103.1343 - val_acc: 0.0000e+00\n",
      "Epoch 23/100\n",
      "42/42 [==============================] - 2s 47ms/step - loss: 105.9219 - acc: 0.0000e+00 - val_loss: 103.1343 - val_acc: 0.0000e+00\n",
      "Epoch 24/100\n",
      "42/42 [==============================] - 2s 41ms/step - loss: 105.9219 - acc: 0.0000e+00 - val_loss: 103.1343 - val_acc: 0.0000e+00\n",
      "Epoch 25/100\n",
      "42/42 [==============================] - 2s 53ms/step - loss: 105.9219 - acc: 0.0000e+00 - val_loss: 103.1343 - val_acc: 0.0000e+00\n",
      "Epoch 26/100\n",
      "42/42 [==============================] - 2s 46ms/step - loss: 105.9219 - acc: 0.0000e+00 - val_loss: 103.1343 - val_acc: 0.0000e+00\n",
      "Epoch 27/100\n",
      "42/42 [==============================] - 2s 49ms/step - loss: 105.9219 - acc: 0.0000e+00 - val_loss: 103.1343 - val_acc: 0.0000e+00\n",
      "Epoch 28/100\n",
      "42/42 [==============================] - 2s 54ms/step - loss: 105.9219 - acc: 0.0000e+00 - val_loss: 103.1343 - val_acc: 0.0000e+00\n",
      "Epoch 29/100\n",
      "42/42 [==============================] - 2s 49ms/step - loss: 105.9219 - acc: 0.0000e+00 - val_loss: 103.1343 - val_acc: 0.0000e+00\n",
      "Epoch 30/100\n",
      "42/42 [==============================] - 2s 48ms/step - loss: 105.9219 - acc: 0.0000e+00 - val_loss: 103.1343 - val_acc: 0.0000e+00\n",
      "Epoch 31/100\n",
      "42/42 [==============================] - 2s 46ms/step - loss: 105.9219 - acc: 0.0000e+00 - val_loss: 103.1343 - val_acc: 0.0000e+00\n",
      "Epoch 32/100\n",
      "42/42 [==============================] - 2s 43ms/step - loss: 105.9219 - acc: 0.0000e+00 - val_loss: 103.1343 - val_acc: 0.0000e+00\n",
      "Epoch 33/100\n",
      "42/42 [==============================] - 2s 48ms/step - loss: 105.9219 - acc: 0.0000e+00 - val_loss: 103.1343 - val_acc: 0.0000e+00\n",
      "Epoch 34/100\n",
      "42/42 [==============================] - 2s 53ms/step - loss: 105.9219 - acc: 0.0000e+00 - val_loss: 103.1343 - val_acc: 0.0000e+00\n",
      "Epoch 35/100\n",
      "42/42 [==============================] - 2s 51ms/step - loss: 105.9219 - acc: 0.0000e+00 - val_loss: 103.1343 - val_acc: 0.0000e+00\n",
      "Epoch 36/100\n",
      "42/42 [==============================] - 2s 48ms/step - loss: 105.9219 - acc: 0.0000e+00 - val_loss: 103.1343 - val_acc: 0.0000e+00\n",
      "Epoch 37/100\n",
      "42/42 [==============================] - 2s 50ms/step - loss: 105.9219 - acc: 0.0000e+00 - val_loss: 103.1343 - val_acc: 0.0000e+00\n",
      "Epoch 38/100\n",
      "42/42 [==============================] - 2s 53ms/step - loss: 105.9219 - acc: 0.0000e+00 - val_loss: 103.1343 - val_acc: 0.0000e+00\n",
      "Epoch 39/100\n",
      "42/42 [==============================] - 2s 48ms/step - loss: 105.9219 - acc: 0.0000e+00 - val_loss: 103.1343 - val_acc: 0.0000e+00\n",
      "Epoch 40/100\n",
      "42/42 [==============================] - 2s 55ms/step - loss: 105.9219 - acc: 0.0000e+00 - val_loss: 103.1343 - val_acc: 0.0000e+00\n",
      "Epoch 41/100\n",
      "42/42 [==============================] - 2s 46ms/step - loss: 105.9219 - acc: 0.0000e+00 - val_loss: 103.1343 - val_acc: 0.0000e+00\n",
      "Epoch 42/100\n",
      "42/42 [==============================] - ETA: 0s - loss: 105.9219 - acc: 0.0000e+0 - 2s 47ms/step - loss: 105.9219 - acc: 0.0000e+00 - val_loss: 103.1343 - val_acc: 0.0000e+00\n",
      "Epoch 43/100\n",
      "42/42 [==============================] - 2s 48ms/step - loss: 105.9219 - acc: 0.0000e+00 - val_loss: 103.1343 - val_acc: 0.0000e+00\n",
      "Epoch 44/100\n",
      "42/42 [==============================] - 2s 46ms/step - loss: 105.9219 - acc: 0.0000e+00 - val_loss: 103.1343 - val_acc: 0.0000e+00\n",
      "Epoch 45/100\n",
      "42/42 [==============================] - 2s 49ms/step - loss: 105.9219 - acc: 0.0000e+00 - val_loss: 103.1343 - val_acc: 0.0000e+00\n",
      "Epoch 46/100\n",
      "42/42 [==============================] - 2s 50ms/step - loss: 105.9219 - acc: 0.0000e+00 - val_loss: 103.1343 - val_acc: 0.0000e+00\n",
      "Epoch 47/100\n",
      "42/42 [==============================] - 2s 49ms/step - loss: 105.9219 - acc: 0.0000e+00 - val_loss: 103.1343 - val_acc: 0.0000e+00\n",
      "Epoch 48/100\n",
      "42/42 [==============================] - 2s 53ms/step - loss: 105.9219 - acc: 0.0000e+00 - val_loss: 103.1343 - val_acc: 0.0000e+00\n",
      "Epoch 49/100\n",
      "42/42 [==============================] - 2s 47ms/step - loss: 105.9219 - acc: 0.0000e+00 - val_loss: 103.1343 - val_acc: 0.0000e+00\n",
      "Epoch 50/100\n",
      "42/42 [==============================] - 2s 45ms/step - loss: 105.9219 - acc: 0.0000e+00 - val_loss: 103.1343 - val_acc: 0.0000e+00\n",
      "Epoch 51/100\n",
      "42/42 [==============================] - 2s 46ms/step - loss: 105.9219 - acc: 0.0000e+00 - val_loss: 103.1343 - val_acc: 0.0000e+00\n",
      "Epoch 52/100\n",
      "42/42 [==============================] - 2s 50ms/step - loss: 105.9219 - acc: 0.0000e+00 - val_loss: 103.1343 - val_acc: 0.0000e+00\n",
      "Epoch 53/100\n",
      "42/42 [==============================] - 2s 47ms/step - loss: 105.9219 - acc: 0.0000e+00 - val_loss: 103.1343 - val_acc: 0.0000e+00\n",
      "Epoch 54/100\n",
      "42/42 [==============================] - 2s 47ms/step - loss: 105.9219 - acc: 0.0000e+00 - val_loss: 103.1343 - val_acc: 0.0000e+00\n",
      "Epoch 55/100\n",
      "42/42 [==============================] - 2s 46ms/step - loss: 105.9219 - acc: 0.0000e+00 - val_loss: 103.1343 - val_acc: 0.0000e+00\n",
      "Epoch 56/100\n",
      "42/42 [==============================] - 2s 45ms/step - loss: 105.9219 - acc: 0.0000e+00 - val_loss: 103.1343 - val_acc: 0.0000e+00\n",
      "Epoch 57/100\n",
      "42/42 [==============================] - 2s 43ms/step - loss: 105.9219 - acc: 0.0000e+00 - val_loss: 103.1343 - val_acc: 0.0000e+00\n",
      "Epoch 58/100\n",
      "42/42 [==============================] - 2s 43ms/step - loss: 105.9219 - acc: 0.0000e+00 - val_loss: 103.1343 - val_acc: 0.0000e+00\n",
      "Epoch 59/100\n",
      "42/42 [==============================] - 2s 46ms/step - loss: 105.9219 - acc: 0.0000e+00 - val_loss: 103.1343 - val_acc: 0.0000e+00\n",
      "Epoch 60/100\n",
      "42/42 [==============================] - 2s 42ms/step - loss: 105.9219 - acc: 0.0000e+00 - val_loss: 103.1343 - val_acc: 0.0000e+00\n",
      "Epoch 61/100\n",
      "42/42 [==============================] - 2s 38ms/step - loss: 105.9219 - acc: 0.0000e+00 - val_loss: 103.1343 - val_acc: 0.0000e+00\n",
      "Epoch 62/100\n",
      "42/42 [==============================] - 2s 49ms/step - loss: 105.9219 - acc: 0.0000e+00 - val_loss: 103.1343 - val_acc: 0.0000e+00\n",
      "Epoch 63/100\n",
      "42/42 [==============================] - 2s 45ms/step - loss: 105.9219 - acc: 0.0000e+00 - val_loss: 103.1343 - val_acc: 0.0000e+00\n",
      "Epoch 64/100\n",
      "42/42 [==============================] - 2s 42ms/step - loss: 105.9219 - acc: 0.0000e+00 - val_loss: 103.1343 - val_acc: 0.0000e+00\n",
      "Epoch 65/100\n",
      "42/42 [==============================] - 2s 42ms/step - loss: 105.9219 - acc: 0.0000e+00 - val_loss: 103.1343 - val_acc: 0.0000e+00\n",
      "Epoch 66/100\n",
      "42/42 [==============================] - 2s 42ms/step - loss: 105.9219 - acc: 0.0000e+00 - val_loss: 103.1343 - val_acc: 0.0000e+00\n",
      "Epoch 67/100\n",
      "42/42 [==============================] - 2s 45ms/step - loss: 105.9219 - acc: 0.0000e+00 - val_loss: 103.1343 - val_acc: 0.0000e+00\n",
      "Epoch 68/100\n",
      "42/42 [==============================] - 2s 42ms/step - loss: 105.9219 - acc: 0.0000e+00 - val_loss: 103.1343 - val_acc: 0.0000e+00\n",
      "Epoch 69/100\n",
      "42/42 [==============================] - 2s 51ms/step - loss: 105.9219 - acc: 0.0000e+00 - val_loss: 103.1343 - val_acc: 0.0000e+00\n",
      "Epoch 70/100\n",
      "42/42 [==============================] - 2s 45ms/step - loss: 105.9219 - acc: 0.0000e+00 - val_loss: 103.1343 - val_acc: 0.0000e+00\n",
      "Epoch 71/100\n",
      "42/42 [==============================] - 2s 46ms/step - loss: 105.9219 - acc: 0.0000e+00 - val_loss: 103.1343 - val_acc: 0.0000e+00\n",
      "Epoch 72/100\n",
      "42/42 [==============================] - 2s 45ms/step - loss: 105.9219 - acc: 0.0000e+00 - val_loss: 103.1343 - val_acc: 0.0000e+00\n",
      "Epoch 73/100\n",
      "42/42 [==============================] - 2s 44ms/step - loss: 105.9219 - acc: 0.0000e+00 - val_loss: 103.1343 - val_acc: 0.0000e+00\n",
      "Epoch 74/100\n",
      "42/42 [==============================] - 2s 50ms/step - loss: 105.9219 - acc: 0.0000e+00 - val_loss: 103.1343 - val_acc: 0.0000e+00\n",
      "Epoch 75/100\n",
      "42/42 [==============================] - 2s 46ms/step - loss: 105.9219 - acc: 0.0000e+00 - val_loss: 103.1343 - val_acc: 0.0000e+00\n",
      "Epoch 76/100\n",
      "42/42 [==============================] - 2s 49ms/step - loss: 105.9219 - acc: 0.0000e+00 - val_loss: 103.1343 - val_acc: 0.0000e+00\n",
      "Epoch 77/100\n",
      "42/42 [==============================] - 2s 48ms/step - loss: 105.9219 - acc: 0.0000e+00 - val_loss: 103.1343 - val_acc: 0.0000e+00\n",
      "Epoch 78/100\n",
      "42/42 [==============================] - 2s 40ms/step - loss: 105.9219 - acc: 0.0000e+00 - val_loss: 103.1343 - val_acc: 0.0000e+00\n",
      "Epoch 79/100\n",
      "42/42 [==============================] - 2s 43ms/step - loss: 105.9219 - acc: 0.0000e+00 - val_loss: 103.1343 - val_acc: 0.0000e+00\n",
      "Epoch 80/100\n",
      "42/42 [==============================] - 2s 48ms/step - loss: 105.9219 - acc: 0.0000e+00 - val_loss: 103.1343 - val_acc: 0.0000e+00\n",
      "Epoch 81/100\n",
      "42/42 [==============================] - 2s 53ms/step - loss: 105.9219 - acc: 0.0000e+00 - val_loss: 103.1343 - val_acc: 0.0000e+00\n",
      "Epoch 82/100\n",
      "42/42 [==============================] - 2s 46ms/step - loss: 105.9219 - acc: 0.0000e+00 - val_loss: 103.1343 - val_acc: 0.0000e+00\n",
      "Epoch 83/100\n",
      "42/42 [==============================] - 2s 49ms/step - loss: 105.9219 - acc: 0.0000e+00 - val_loss: 103.1343 - val_acc: 0.0000e+00\n",
      "Epoch 84/100\n",
      "42/42 [==============================] - 2s 52ms/step - loss: 105.9219 - acc: 0.0000e+00 - val_loss: 103.1343 - val_acc: 0.0000e+00\n",
      "Epoch 85/100\n",
      "42/42 [==============================] - 3s 67ms/step - loss: 105.9219 - acc: 0.0000e+00 - val_loss: 103.1343 - val_acc: 0.0000e+00\n",
      "Epoch 86/100\n",
      "42/42 [==============================] - 2s 41ms/step - loss: 105.9219 - acc: 0.0000e+00 - val_loss: 103.1343 - val_acc: 0.0000e+00\n",
      "Epoch 87/100\n",
      "42/42 [==============================] - 2s 41ms/step - loss: 105.9219 - acc: 0.0000e+00 - val_loss: 103.1343 - val_acc: 0.0000e+00\n",
      "Epoch 88/100\n",
      "42/42 [==============================] - 2s 41ms/step - loss: 105.9219 - acc: 0.0000e+00 - val_loss: 103.1343 - val_acc: 0.0000e+00\n",
      "Epoch 89/100\n",
      "42/42 [==============================] - 2s 40ms/step - loss: 105.9219 - acc: 0.0000e+00 - val_loss: 103.1343 - val_acc: 0.0000e+00\n",
      "Epoch 90/100\n",
      "42/42 [==============================] - 2s 42ms/step - loss: 105.9219 - acc: 0.0000e+00 - val_loss: 103.1343 - val_acc: 0.0000e+00\n",
      "Epoch 91/100\n",
      "42/42 [==============================] - 2s 37ms/step - loss: 105.9219 - acc: 0.0000e+00 - val_loss: 103.1343 - val_acc: 0.0000e+00\n",
      "Epoch 92/100\n",
      "42/42 [==============================] - 2s 38ms/step - loss: 105.9219 - acc: 0.0000e+00 - val_loss: 103.1343 - val_acc: 0.0000e+00\n",
      "Epoch 93/100\n",
      "42/42 [==============================] - 2s 43ms/step - loss: 105.9219 - acc: 0.0000e+00 - val_loss: 103.1343 - val_acc: 0.0000e+00\n",
      "Epoch 94/100\n",
      "42/42 [==============================] - 2s 42ms/step - loss: 105.9219 - acc: 0.0000e+00 - val_loss: 103.1343 - val_acc: 0.0000e+00\n",
      "Epoch 95/100\n",
      "42/42 [==============================] - 2s 41ms/step - loss: 105.9219 - acc: 0.0000e+00 - val_loss: 103.1343 - val_acc: 0.0000e+00\n",
      "Epoch 96/100\n",
      "42/42 [==============================] - 2s 45ms/step - loss: 105.9219 - acc: 0.0000e+00 - val_loss: 103.1343 - val_acc: 0.0000e+00\n",
      "Epoch 97/100\n",
      "42/42 [==============================] - 2s 46ms/step - loss: 105.9219 - acc: 0.0000e+00 - val_loss: 103.1343 - val_acc: 0.0000e+00\n",
      "Epoch 98/100\n",
      "42/42 [==============================] - 2s 43ms/step - loss: 105.9219 - acc: 0.0000e+00 - val_loss: 103.1343 - val_acc: 0.0000e+00\n",
      "Epoch 99/100\n",
      "42/42 [==============================] - 2s 50ms/step - loss: 105.9219 - acc: 0.0000e+00 - val_loss: 103.1343 - val_acc: 0.0000e+00\n",
      "Epoch 100/100\n",
      "42/42 [==============================] - 2s 52ms/step - loss: 105.9219 - acc: 0.0000e+00 - val_loss: 103.1343 - val_acc: 0.0000e+00\n"
     ]
    }
   ],
   "source": [
    "history = model.fit(x=x_train, y=y_solar_train, epochs=100, batch_size=10, validation_split=0.2, shuffle=False)"
   ]
  }
 ],
 "metadata": {
  "interpreter": {
   "hash": "ebbabc1e6dda0a634caa316fe10f04a7a4757ee81bcd91a98af993123509ad1d"
  },
  "kernelspec": {
   "display_name": "Python 3.8.5 64-bit ('fourthbrain_venv': venv)",
   "language": "python",
   "name": "python3"
  },
  "language_info": {
   "codemirror_mode": {
    "name": "ipython",
    "version": 3
   },
   "file_extension": ".py",
   "mimetype": "text/x-python",
   "name": "python",
   "nbconvert_exporter": "python",
   "pygments_lexer": "ipython3",
   "version": "3.8.5"
  },
  "orig_nbformat": 4
 },
 "nbformat": 4,
 "nbformat_minor": 2
}
