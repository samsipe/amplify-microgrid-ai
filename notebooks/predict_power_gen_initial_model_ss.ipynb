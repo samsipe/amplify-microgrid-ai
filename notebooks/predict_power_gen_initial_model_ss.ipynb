{
 "cells": [
  {
   "cell_type": "code",
   "execution_count": 2,
   "metadata": {},
   "outputs": [],
   "source": [
    "# Load libs:\n",
    "import os\n",
    "import sys\n",
    "import pandas as pd\n",
    "import numpy as np\n",
    "import matplotlib.pyplot as plt\n",
    "import datetime as dt\n",
    "from glob import glob\n",
    "from os.path import dirname, abspath, join, exists\n",
    "\n",
    "from clearml import Task\n",
    "\n",
    "from amplify.data import DataGenerator, DataSplit"
   ]
  },
  {
   "cell_type": "code",
   "execution_count": 3,
   "metadata": {},
   "outputs": [
    {
     "name": "stdout",
     "output_type": "stream",
     "text": [
      "ClearML Task: overwriting (reusing) task id=4516e4ddc8d14c499b6ba144100f5b7a\n",
      "2022-01-29 20:19:56,529 - clearml.Task - WARNING - Failed auto-detecting task repository: Script file ['ipykernel_launcher', '/var/folders/14/343hdqps63j446zd_0kxgvwm0000gn/T/ipykernel_89971/3907652897.py'] could not be found\n",
      "ClearML results page: https://app.clear.ml/projects/f0e0b096252d4c18b9005e580afc5bce/experiments/4516e4ddc8d14c499b6ba144100f5b7a/output/log\n"
     ]
    }
   ],
   "source": [
    "# ClearML Stuff\n",
    "task = Task.init(project_name=\"amplify\", task_name=\"predict_power_gen_initial_model\")"
   ]
  },
  {
   "cell_type": "markdown",
   "metadata": {},
   "source": [
    "## Load Data"
   ]
  },
  {
   "cell_type": "code",
   "execution_count": 4,
   "metadata": {},
   "outputs": [
    {
     "name": "stdout",
     "output_type": "stream",
     "text": [
      "ClearML Monitor: GPU monitoring failed getting GPU reading, switching off GPU monitoring\n",
      "Info: Successfully loaded building data!\n",
      "Info: Successfully loaded weather data!\n"
     ]
    },
    {
     "data": {
      "text/html": [
       "<div>\n",
       "<style scoped>\n",
       "    .dataframe tbody tr th:only-of-type {\n",
       "        vertical-align: middle;\n",
       "    }\n",
       "\n",
       "    .dataframe tbody tr th {\n",
       "        vertical-align: top;\n",
       "    }\n",
       "\n",
       "    .dataframe thead th {\n",
       "        text-align: right;\n",
       "    }\n",
       "</style>\n",
       "<table border=\"1\" class=\"dataframe\">\n",
       "  <thead>\n",
       "    <tr style=\"text-align: right;\">\n",
       "      <th></th>\n",
       "      <th>temp</th>\n",
       "      <th>pressure</th>\n",
       "      <th>humidity</th>\n",
       "      <th>clouds_all</th>\n",
       "      <th>irradiance</th>\n",
       "      <th>day_of_week</th>\n",
       "      <th>solar</th>\n",
       "      <th>usage</th>\n",
       "    </tr>\n",
       "  </thead>\n",
       "  <tbody>\n",
       "    <tr>\n",
       "      <th>2021-10-19 04:00:00+00:00</th>\n",
       "      <td>10.07</td>\n",
       "      <td>1017.0</td>\n",
       "      <td>66.0</td>\n",
       "      <td>20.0</td>\n",
       "      <td>0.0</td>\n",
       "      <td>2</td>\n",
       "      <td>1.0</td>\n",
       "      <td>11.3</td>\n",
       "    </tr>\n",
       "    <tr>\n",
       "      <th>2021-10-19 05:00:00+00:00</th>\n",
       "      <td>9.51</td>\n",
       "      <td>1017.0</td>\n",
       "      <td>70.0</td>\n",
       "      <td>20.0</td>\n",
       "      <td>0.0</td>\n",
       "      <td>2</td>\n",
       "      <td>1.0</td>\n",
       "      <td>13.2</td>\n",
       "    </tr>\n",
       "    <tr>\n",
       "      <th>2021-10-19 06:00:00+00:00</th>\n",
       "      <td>9.28</td>\n",
       "      <td>1017.0</td>\n",
       "      <td>71.0</td>\n",
       "      <td>20.0</td>\n",
       "      <td>0.0</td>\n",
       "      <td>2</td>\n",
       "      <td>1.0</td>\n",
       "      <td>12.7</td>\n",
       "    </tr>\n",
       "    <tr>\n",
       "      <th>2021-10-19 07:00:00+00:00</th>\n",
       "      <td>9.12</td>\n",
       "      <td>1017.0</td>\n",
       "      <td>72.0</td>\n",
       "      <td>20.0</td>\n",
       "      <td>0.0</td>\n",
       "      <td>2</td>\n",
       "      <td>1.0</td>\n",
       "      <td>17.2</td>\n",
       "    </tr>\n",
       "    <tr>\n",
       "      <th>2021-10-19 08:00:00+00:00</th>\n",
       "      <td>9.12</td>\n",
       "      <td>1017.0</td>\n",
       "      <td>73.0</td>\n",
       "      <td>20.0</td>\n",
       "      <td>0.0</td>\n",
       "      <td>2</td>\n",
       "      <td>1.0</td>\n",
       "      <td>17.0</td>\n",
       "    </tr>\n",
       "  </tbody>\n",
       "</table>\n",
       "</div>"
      ],
      "text/plain": [
       "                            temp  pressure  humidity  clouds_all  irradiance  \\\n",
       "2021-10-19 04:00:00+00:00  10.07    1017.0      66.0        20.0         0.0   \n",
       "2021-10-19 05:00:00+00:00   9.51    1017.0      70.0        20.0         0.0   \n",
       "2021-10-19 06:00:00+00:00   9.28    1017.0      71.0        20.0         0.0   \n",
       "2021-10-19 07:00:00+00:00   9.12    1017.0      72.0        20.0         0.0   \n",
       "2021-10-19 08:00:00+00:00   9.12    1017.0      73.0        20.0         0.0   \n",
       "\n",
       "                          day_of_week  solar  usage  \n",
       "2021-10-19 04:00:00+00:00           2    1.0   11.3  \n",
       "2021-10-19 05:00:00+00:00           2    1.0   13.2  \n",
       "2021-10-19 06:00:00+00:00           2    1.0   12.7  \n",
       "2021-10-19 07:00:00+00:00           2    1.0   17.2  \n",
       "2021-10-19 08:00:00+00:00           2    1.0   17.0  "
      ]
     },
     "execution_count": 4,
     "metadata": {},
     "output_type": "execute_result"
    }
   ],
   "source": [
    "# DataGenerator - ClearML\n",
    "xy_data = DataGenerator().load_data()\n",
    "xy_data.head()"
   ]
  },
  {
   "cell_type": "code",
   "execution_count": 5,
   "metadata": {},
   "outputs": [
    {
     "name": "stdout",
     "output_type": "stream",
     "text": [
      "XY Data Shape: (1994, 8)\n"
     ]
    }
   ],
   "source": [
    "# What is the shape of the data?\n",
    "print(f\"XY Data Shape: {xy_data.shape}\")"
   ]
  },
  {
   "cell_type": "code",
   "execution_count": 6,
   "metadata": {},
   "outputs": [
    {
     "data": {
      "text/html": [
       "<div>\n",
       "<style scoped>\n",
       "    .dataframe tbody tr th:only-of-type {\n",
       "        vertical-align: middle;\n",
       "    }\n",
       "\n",
       "    .dataframe tbody tr th {\n",
       "        vertical-align: top;\n",
       "    }\n",
       "\n",
       "    .dataframe thead th {\n",
       "        text-align: right;\n",
       "    }\n",
       "</style>\n",
       "<table border=\"1\" class=\"dataframe\">\n",
       "  <thead>\n",
       "    <tr style=\"text-align: right;\">\n",
       "      <th></th>\n",
       "      <th>temp</th>\n",
       "      <th>pressure</th>\n",
       "      <th>humidity</th>\n",
       "      <th>clouds_all</th>\n",
       "      <th>irradiance</th>\n",
       "      <th>day_of_week</th>\n",
       "      <th>solar</th>\n",
       "      <th>usage</th>\n",
       "    </tr>\n",
       "  </thead>\n",
       "  <tbody>\n",
       "    <tr>\n",
       "      <th>2021-10-19 04:00:00+00:00</th>\n",
       "      <td>10.07</td>\n",
       "      <td>1017.0</td>\n",
       "      <td>66.0</td>\n",
       "      <td>20.0</td>\n",
       "      <td>0.000000</td>\n",
       "      <td>2</td>\n",
       "      <td>1.0</td>\n",
       "      <td>11.3</td>\n",
       "    </tr>\n",
       "    <tr>\n",
       "      <th>2021-10-19 05:00:00+00:00</th>\n",
       "      <td>9.51</td>\n",
       "      <td>1017.0</td>\n",
       "      <td>70.0</td>\n",
       "      <td>20.0</td>\n",
       "      <td>0.000000</td>\n",
       "      <td>2</td>\n",
       "      <td>1.0</td>\n",
       "      <td>13.2</td>\n",
       "    </tr>\n",
       "    <tr>\n",
       "      <th>2021-10-19 06:00:00+00:00</th>\n",
       "      <td>9.28</td>\n",
       "      <td>1017.0</td>\n",
       "      <td>71.0</td>\n",
       "      <td>20.0</td>\n",
       "      <td>0.000000</td>\n",
       "      <td>2</td>\n",
       "      <td>1.0</td>\n",
       "      <td>12.7</td>\n",
       "    </tr>\n",
       "    <tr>\n",
       "      <th>2021-10-19 07:00:00+00:00</th>\n",
       "      <td>9.12</td>\n",
       "      <td>1017.0</td>\n",
       "      <td>72.0</td>\n",
       "      <td>20.0</td>\n",
       "      <td>0.000000</td>\n",
       "      <td>2</td>\n",
       "      <td>1.0</td>\n",
       "      <td>17.2</td>\n",
       "    </tr>\n",
       "    <tr>\n",
       "      <th>2021-10-19 08:00:00+00:00</th>\n",
       "      <td>9.12</td>\n",
       "      <td>1017.0</td>\n",
       "      <td>73.0</td>\n",
       "      <td>20.0</td>\n",
       "      <td>0.000000</td>\n",
       "      <td>2</td>\n",
       "      <td>1.0</td>\n",
       "      <td>17.0</td>\n",
       "    </tr>\n",
       "    <tr>\n",
       "      <th>2021-10-19 09:00:00+00:00</th>\n",
       "      <td>8.91</td>\n",
       "      <td>1017.0</td>\n",
       "      <td>75.0</td>\n",
       "      <td>1.0</td>\n",
       "      <td>0.000000</td>\n",
       "      <td>2</td>\n",
       "      <td>1.0</td>\n",
       "      <td>14.2</td>\n",
       "    </tr>\n",
       "    <tr>\n",
       "      <th>2021-10-19 10:00:00+00:00</th>\n",
       "      <td>8.61</td>\n",
       "      <td>1018.0</td>\n",
       "      <td>75.0</td>\n",
       "      <td>1.0</td>\n",
       "      <td>0.000000</td>\n",
       "      <td>2</td>\n",
       "      <td>1.0</td>\n",
       "      <td>14.4</td>\n",
       "    </tr>\n",
       "    <tr>\n",
       "      <th>2021-10-19 11:00:00+00:00</th>\n",
       "      <td>8.97</td>\n",
       "      <td>1018.0</td>\n",
       "      <td>73.0</td>\n",
       "      <td>1.0</td>\n",
       "      <td>0.000000</td>\n",
       "      <td>2</td>\n",
       "      <td>1.0</td>\n",
       "      <td>14.1</td>\n",
       "    </tr>\n",
       "    <tr>\n",
       "      <th>2021-10-19 12:00:00+00:00</th>\n",
       "      <td>9.12</td>\n",
       "      <td>1018.0</td>\n",
       "      <td>75.0</td>\n",
       "      <td>1.0</td>\n",
       "      <td>323.335022</td>\n",
       "      <td>2</td>\n",
       "      <td>11.3</td>\n",
       "      <td>12.5</td>\n",
       "    </tr>\n",
       "    <tr>\n",
       "      <th>2021-10-19 13:00:00+00:00</th>\n",
       "      <td>10.96</td>\n",
       "      <td>1019.0</td>\n",
       "      <td>69.0</td>\n",
       "      <td>1.0</td>\n",
       "      <td>680.919505</td>\n",
       "      <td>2</td>\n",
       "      <td>24.9</td>\n",
       "      <td>13.7</td>\n",
       "    </tr>\n",
       "    <tr>\n",
       "      <th>2021-10-19 14:00:00+00:00</th>\n",
       "      <td>13.05</td>\n",
       "      <td>1019.0</td>\n",
       "      <td>60.0</td>\n",
       "      <td>1.0</td>\n",
       "      <td>815.031860</td>\n",
       "      <td>2</td>\n",
       "      <td>35.7</td>\n",
       "      <td>15.1</td>\n",
       "    </tr>\n",
       "    <tr>\n",
       "      <th>2021-10-19 15:00:00+00:00</th>\n",
       "      <td>14.74</td>\n",
       "      <td>1019.0</td>\n",
       "      <td>54.0</td>\n",
       "      <td>1.0</td>\n",
       "      <td>876.069179</td>\n",
       "      <td>2</td>\n",
       "      <td>42.6</td>\n",
       "      <td>20.9</td>\n",
       "    </tr>\n",
       "    <tr>\n",
       "      <th>2021-10-19 16:00:00+00:00</th>\n",
       "      <td>16.42</td>\n",
       "      <td>1018.0</td>\n",
       "      <td>46.0</td>\n",
       "      <td>1.0</td>\n",
       "      <td>903.014730</td>\n",
       "      <td>2</td>\n",
       "      <td>45.5</td>\n",
       "      <td>17.5</td>\n",
       "    </tr>\n",
       "    <tr>\n",
       "      <th>2021-10-19 17:00:00+00:00</th>\n",
       "      <td>17.75</td>\n",
       "      <td>1017.0</td>\n",
       "      <td>42.0</td>\n",
       "      <td>1.0</td>\n",
       "      <td>907.971714</td>\n",
       "      <td>2</td>\n",
       "      <td>44.5</td>\n",
       "      <td>16.0</td>\n",
       "    </tr>\n",
       "    <tr>\n",
       "      <th>2021-10-19 18:00:00+00:00</th>\n",
       "      <td>19.20</td>\n",
       "      <td>1017.0</td>\n",
       "      <td>42.0</td>\n",
       "      <td>1.0</td>\n",
       "      <td>892.864347</td>\n",
       "      <td>2</td>\n",
       "      <td>39.8</td>\n",
       "      <td>15.3</td>\n",
       "    </tr>\n",
       "    <tr>\n",
       "      <th>2021-10-19 19:00:00+00:00</th>\n",
       "      <td>20.27</td>\n",
       "      <td>1016.0</td>\n",
       "      <td>42.0</td>\n",
       "      <td>1.0</td>\n",
       "      <td>851.531330</td>\n",
       "      <td>2</td>\n",
       "      <td>31.2</td>\n",
       "      <td>17.4</td>\n",
       "    </tr>\n",
       "    <tr>\n",
       "      <th>2021-10-19 20:00:00+00:00</th>\n",
       "      <td>20.89</td>\n",
       "      <td>1015.0</td>\n",
       "      <td>41.0</td>\n",
       "      <td>1.0</td>\n",
       "      <td>762.456976</td>\n",
       "      <td>2</td>\n",
       "      <td>18.9</td>\n",
       "      <td>17.8</td>\n",
       "    </tr>\n",
       "    <tr>\n",
       "      <th>2021-10-19 21:00:00+00:00</th>\n",
       "      <td>20.47</td>\n",
       "      <td>1015.0</td>\n",
       "      <td>42.0</td>\n",
       "      <td>1.0</td>\n",
       "      <td>551.762650</td>\n",
       "      <td>2</td>\n",
       "      <td>5.3</td>\n",
       "      <td>22.0</td>\n",
       "    </tr>\n",
       "    <tr>\n",
       "      <th>2021-10-19 22:00:00+00:00</th>\n",
       "      <td>19.43</td>\n",
       "      <td>1015.0</td>\n",
       "      <td>47.0</td>\n",
       "      <td>1.0</td>\n",
       "      <td>14.484079</td>\n",
       "      <td>2</td>\n",
       "      <td>1.6</td>\n",
       "      <td>19.9</td>\n",
       "    </tr>\n",
       "    <tr>\n",
       "      <th>2021-10-19 23:00:00+00:00</th>\n",
       "      <td>18.09</td>\n",
       "      <td>1015.0</td>\n",
       "      <td>52.0</td>\n",
       "      <td>1.0</td>\n",
       "      <td>0.000000</td>\n",
       "      <td>2</td>\n",
       "      <td>1.6</td>\n",
       "      <td>21.8</td>\n",
       "    </tr>\n",
       "  </tbody>\n",
       "</table>\n",
       "</div>"
      ],
      "text/plain": [
       "                            temp  pressure  humidity  clouds_all  irradiance  \\\n",
       "2021-10-19 04:00:00+00:00  10.07    1017.0      66.0        20.0    0.000000   \n",
       "2021-10-19 05:00:00+00:00   9.51    1017.0      70.0        20.0    0.000000   \n",
       "2021-10-19 06:00:00+00:00   9.28    1017.0      71.0        20.0    0.000000   \n",
       "2021-10-19 07:00:00+00:00   9.12    1017.0      72.0        20.0    0.000000   \n",
       "2021-10-19 08:00:00+00:00   9.12    1017.0      73.0        20.0    0.000000   \n",
       "2021-10-19 09:00:00+00:00   8.91    1017.0      75.0         1.0    0.000000   \n",
       "2021-10-19 10:00:00+00:00   8.61    1018.0      75.0         1.0    0.000000   \n",
       "2021-10-19 11:00:00+00:00   8.97    1018.0      73.0         1.0    0.000000   \n",
       "2021-10-19 12:00:00+00:00   9.12    1018.0      75.0         1.0  323.335022   \n",
       "2021-10-19 13:00:00+00:00  10.96    1019.0      69.0         1.0  680.919505   \n",
       "2021-10-19 14:00:00+00:00  13.05    1019.0      60.0         1.0  815.031860   \n",
       "2021-10-19 15:00:00+00:00  14.74    1019.0      54.0         1.0  876.069179   \n",
       "2021-10-19 16:00:00+00:00  16.42    1018.0      46.0         1.0  903.014730   \n",
       "2021-10-19 17:00:00+00:00  17.75    1017.0      42.0         1.0  907.971714   \n",
       "2021-10-19 18:00:00+00:00  19.20    1017.0      42.0         1.0  892.864347   \n",
       "2021-10-19 19:00:00+00:00  20.27    1016.0      42.0         1.0  851.531330   \n",
       "2021-10-19 20:00:00+00:00  20.89    1015.0      41.0         1.0  762.456976   \n",
       "2021-10-19 21:00:00+00:00  20.47    1015.0      42.0         1.0  551.762650   \n",
       "2021-10-19 22:00:00+00:00  19.43    1015.0      47.0         1.0   14.484079   \n",
       "2021-10-19 23:00:00+00:00  18.09    1015.0      52.0         1.0    0.000000   \n",
       "\n",
       "                          day_of_week  solar  usage  \n",
       "2021-10-19 04:00:00+00:00           2    1.0   11.3  \n",
       "2021-10-19 05:00:00+00:00           2    1.0   13.2  \n",
       "2021-10-19 06:00:00+00:00           2    1.0   12.7  \n",
       "2021-10-19 07:00:00+00:00           2    1.0   17.2  \n",
       "2021-10-19 08:00:00+00:00           2    1.0   17.0  \n",
       "2021-10-19 09:00:00+00:00           2    1.0   14.2  \n",
       "2021-10-19 10:00:00+00:00           2    1.0   14.4  \n",
       "2021-10-19 11:00:00+00:00           2    1.0   14.1  \n",
       "2021-10-19 12:00:00+00:00           2   11.3   12.5  \n",
       "2021-10-19 13:00:00+00:00           2   24.9   13.7  \n",
       "2021-10-19 14:00:00+00:00           2   35.7   15.1  \n",
       "2021-10-19 15:00:00+00:00           2   42.6   20.9  \n",
       "2021-10-19 16:00:00+00:00           2   45.5   17.5  \n",
       "2021-10-19 17:00:00+00:00           2   44.5   16.0  \n",
       "2021-10-19 18:00:00+00:00           2   39.8   15.3  \n",
       "2021-10-19 19:00:00+00:00           2   31.2   17.4  \n",
       "2021-10-19 20:00:00+00:00           2   18.9   17.8  \n",
       "2021-10-19 21:00:00+00:00           2    5.3   22.0  \n",
       "2021-10-19 22:00:00+00:00           2    1.6   19.9  \n",
       "2021-10-19 23:00:00+00:00           2    1.6   21.8  "
      ]
     },
     "execution_count": 6,
     "metadata": {},
     "output_type": "execute_result"
    }
   ],
   "source": [
    "# Lets see a few more rows\n",
    "xy_data.head(20)"
   ]
  },
  {
   "cell_type": "code",
   "execution_count": 7,
   "metadata": {},
   "outputs": [
    {
     "data": {
      "text/plain": [
       "Timestamp('2021-10-19 04:00:00+0000', tz='UTC', freq='H')"
      ]
     },
     "execution_count": 7,
     "metadata": {},
     "output_type": "execute_result"
    }
   ],
   "source": [
    "# timestamp example\n",
    "xy_data.index[0]"
   ]
  },
  {
   "cell_type": "code",
   "execution_count": 8,
   "metadata": {},
   "outputs": [],
   "source": [
    "# Data Shape \n",
    "# Batch Size of 10\n",
    "# Series of 7 Days 168\n",
    "# (B,  S,   H, F) <-X Y-> (B,  S,   H, O)\n",
    "# (20, 30, 48, 5) <-X Y-> (20, 30, 48, 1)"
   ]
  },
  {
   "cell_type": "markdown",
   "metadata": {},
   "source": [
    "## Data Processing"
   ]
  },
  {
   "cell_type": "markdown",
   "metadata": {},
   "source": [
    "```\n",
    "1. Make xy data into a set of series of shape [N, M, F],\n",
    "where N = number of examples; M = nubmer of timestamps; F = Number of features\n",
    "```"
   ]
  },
  {
   "cell_type": "markdown",
   "metadata": {},
   "source": [
    "```\n",
    "2. Train-Test-Validation Split. Split off at 0.8, 0.1, 0.1 ratio for now. Shuffle the split.\n",
    "```"
   ]
  },
  {
   "cell_type": "markdown",
   "metadata": {},
   "source": [
    "```\n",
    "3. Seperate x, y from dataset. Remove last column from dataset to extract y.\n",
    "```"
   ]
  },
  {
   "cell_type": "code",
   "execution_count": 9,
   "metadata": {},
   "outputs": [],
   "source": [
    "# Data Shape \n",
    "# Batch Size of 10\n",
    "# Series of 7 Days 168\n",
    "# (B,  S,   H, F) <-X Y-> (B,  S,   H, O)\n",
    "# (20, 30, 48, 5) <-X Y-> (20, 30, 48, 1)\n",
    "train_ds, val_ds, test_ds = DataSplit(xy_data).split_data()"
   ]
  },
  {
   "cell_type": "code",
   "execution_count": 10,
   "metadata": {},
   "outputs": [],
   "source": [
    "# Isolate XY from datasets\n",
    "x_train, y_solar_train, y_usage_train = (\n",
    "    train_ds[0].astype(\"float32\"),\n",
    "    train_ds[1].astype(\"float32\"),\n",
    "    train_ds[2].astype(\"float32\"),\n",
    ")  # Training data\n",
    "x_val, y_solar_val, y_usage_val = (\n",
    "    val_ds[0].astype(\"float32\"),\n",
    "    val_ds[1].astype(\"float32\"),\n",
    "    val_ds[2].astype(\"float32\"),\n",
    ")  # Validation data\n",
    "x_test, y_solar_test, y_usage_test = (\n",
    "    test_ds[0].astype(\"float32\"),\n",
    "    test_ds[1].astype(\"float32\"),\n",
    "    test_ds[2].astype(\"float32\"),\n",
    ")  # Test data\n"
   ]
  },
  {
   "cell_type": "code",
   "execution_count": 11,
   "metadata": {},
   "outputs": [],
   "source": [
    "# format data for training...\n",
    "# [1,2,....] <= was a column\n",
    "# do we do (n, 1, n timesteps, n features per timestep) (3,4,5 => 2 days)?"
   ]
  },
  {
   "cell_type": "markdown",
   "metadata": {},
   "source": [
    "### Reviewing Data"
   ]
  },
  {
   "cell_type": "code",
   "execution_count": 12,
   "metadata": {},
   "outputs": [
    {
     "name": "stdout",
     "output_type": "stream",
     "text": [
      "x_train shape\n"
     ]
    },
    {
     "data": {
      "text/plain": [
       "(519, 48, 6)"
      ]
     },
     "execution_count": 12,
     "metadata": {},
     "output_type": "execute_result"
    }
   ],
   "source": [
    "# x_train shape\n",
    "print(\"x_train shape\")\n",
    "x_train.shape"
   ]
  },
  {
   "cell_type": "code",
   "execution_count": 13,
   "metadata": {},
   "outputs": [
    {
     "name": "stdout",
     "output_type": "stream",
     "text": [
      "y_solar_train shape\n"
     ]
    },
    {
     "data": {
      "text/plain": [
       "(519, 48, 1)"
      ]
     },
     "execution_count": 13,
     "metadata": {},
     "output_type": "execute_result"
    }
   ],
   "source": [
    "# y_train shape\n",
    "print(\"y_solar_train shape\")\n",
    "y_solar_train.shape"
   ]
  },
  {
   "cell_type": "markdown",
   "metadata": {},
   "source": [
    "## Modeling"
   ]
  },
  {
   "cell_type": "code",
   "execution_count": 22,
   "metadata": {},
   "outputs": [],
   "source": [
    "import tensorflow as tf\n",
    "from tensorflow import keras\n",
    "from tensorflow.keras import layers\n",
    "from tensorflow.keras.preprocessing import sequence\n",
    "from keras.models import Sequential, Model\n",
    "from keras.layers import Input, LSTM, Dense, Flatten\n",
    "from matplotlib import pyplot\n",
    "from keras.layers import Bidirectional\n",
    "from keras.layers import TimeDistributed"
   ]
  },
  {
   "cell_type": "markdown",
   "metadata": {},
   "source": [
    "### Normalize Data"
   ]
  },
  {
   "cell_type": "code",
   "execution_count": 23,
   "metadata": {},
   "outputs": [],
   "source": [
    "#TODO: Move to model pipeline\n",
    "# Normalize X_train data\n",
    "norm_layer = tf.keras.layers.Normalization(axis=-1)\n",
    "norm_layer.adapt(x_train)"
   ]
  },
  {
   "cell_type": "markdown",
   "metadata": {},
   "source": [
    "## Simple LSTM"
   ]
  },
  {
   "cell_type": "code",
   "execution_count": 24,
   "metadata": {},
   "outputs": [],
   "source": [
    "encoder_inputs = Input(shape=(48, 6))\n",
    "encoder_l1 = LSTM(100, return_state=True)\n",
    "encoder_outputs1 = encoder_l1(encoder_inputs)\n",
    "\n",
    "encoder_states1 = encoder_outputs1[1:]\n",
    "\n",
    "decoder_inputs = tf.keras.layers.RepeatVector(48)(encoder_outputs1[0])\n",
    "\n",
    "decoder_l1 = tf.keras.layers.LSTM(100, return_sequences=True)(decoder_inputs,initial_state = encoder_states1)\n",
    "decoder_outputs1 = tf.keras.layers.TimeDistributed(tf.keras.layers.Dense(1))(decoder_l1)\n",
    "\n",
    "model = Model(encoder_inputs,decoder_outputs1)"
   ]
  },
  {
   "cell_type": "code",
   "execution_count": 25,
   "metadata": {},
   "outputs": [
    {
     "name": "stdout",
     "output_type": "stream",
     "text": [
      "Model: \"model_1\"\n",
      "__________________________________________________________________________________________________\n",
      " Layer (type)                   Output Shape         Param #     Connected to                     \n",
      "==================================================================================================\n",
      " input_2 (InputLayer)           [(None, 48, 6)]      0           []                               \n",
      "                                                                                                  \n",
      " lstm_3 (LSTM)                  [(None, 100),        42800       ['input_2[0][0]']                \n",
      "                                 (None, 100),                                                     \n",
      "                                 (None, 100)]                                                     \n",
      "                                                                                                  \n",
      " repeat_vector_1 (RepeatVector)  (None, 48, 100)     0           ['lstm_3[0][0]']                 \n",
      "                                                                                                  \n",
      " lstm_4 (LSTM)                  (None, 48, 100)      80400       ['repeat_vector_1[0][0]',        \n",
      "                                                                  'lstm_3[0][1]',                 \n",
      "                                                                  'lstm_3[0][2]']                 \n",
      "                                                                                                  \n",
      " time_distributed_2 (TimeDistri  (None, 48, 1)       101         ['lstm_4[0][0]']                 \n",
      " buted)                                                                                           \n",
      "                                                                                                  \n",
      "==================================================================================================\n",
      "Total params: 123,301\n",
      "Trainable params: 123,301\n",
      "Non-trainable params: 0\n",
      "__________________________________________________________________________________________________\n"
     ]
    },
    {
     "data": {
      "image/png": "[encoded data removed]",
      "text/plain": [
       "<IPython.core.display.Image object>"
      ]
     },
     "execution_count": 25,
     "metadata": {},
     "output_type": "execute_result"
    }
   ],
   "source": [
    "model.summary()\n",
    "tf.keras.utils.plot_model(model, show_shapes=True, show_layer_names=False)"
   ]
  },
  {
   "cell_type": "code",
   "execution_count": 26,
   "metadata": {},
   "outputs": [
    {
     "name": "stdout",
     "output_type": "stream",
     "text": [
      "Epoch 1/30\n",
      "52/52 [==============================] - 7s 70ms/step - loss: 5.7985 - root_mean_squared_error: 11.0716 - val_loss: 5.0324 - val_root_mean_squared_error: 9.9719 - lr: 0.0010\n",
      "Epoch 2/30\n",
      "52/52 [==============================] - 3s 49ms/step - loss: 5.4608 - root_mean_squared_error: 10.5969 - val_loss: 5.0003 - val_root_mean_squared_error: 9.9460 - lr: 9.0000e-04\n",
      "Epoch 3/30\n",
      "52/52 [==============================] - 2s 41ms/step - loss: 5.3727 - root_mean_squared_error: 10.5576 - val_loss: 4.9346 - val_root_mean_squared_error: 10.0330 - lr: 8.1000e-04\n",
      "Epoch 4/30\n",
      "52/52 [==============================] - 2s 44ms/step - loss: 5.3230 - root_mean_squared_error: 10.5319 - val_loss: 4.9288 - val_root_mean_squared_error: 9.9585 - lr: 7.2900e-04\n",
      "Epoch 5/30\n",
      "52/52 [==============================] - 3s 49ms/step - loss: 5.2855 - root_mean_squared_error: 10.5001 - val_loss: 4.8788 - val_root_mean_squared_error: 9.8608 - lr: 6.5610e-04\n",
      "Epoch 6/30\n",
      "52/52 [==============================] - 3s 57ms/step - loss: 5.2635 - root_mean_squared_error: 10.4513 - val_loss: 4.8402 - val_root_mean_squared_error: 9.8236 - lr: 5.9049e-04\n",
      "Epoch 7/30\n",
      "52/52 [==============================] - 2s 48ms/step - loss: 5.1845 - root_mean_squared_error: 10.4294 - val_loss: 4.7900 - val_root_mean_squared_error: 9.7080 - lr: 5.3144e-04\n",
      "Epoch 8/30\n",
      "52/52 [==============================] - 3s 51ms/step - loss: 4.9922 - root_mean_squared_error: 9.9679 - val_loss: 4.3033 - val_root_mean_squared_error: 8.5604 - lr: 4.7830e-04\n",
      "Epoch 9/30\n",
      "52/52 [==============================] - 3s 51ms/step - loss: 4.2604 - root_mean_squared_error: 8.2511 - val_loss: 3.6224 - val_root_mean_squared_error: 7.1512 - lr: 4.3047e-04\n",
      "Epoch 10/30\n",
      "52/52 [==============================] - 3s 52ms/step - loss: 3.5627 - root_mean_squared_error: 6.9618 - val_loss: 3.2895 - val_root_mean_squared_error: 6.3693 - lr: 3.8742e-04\n",
      "Epoch 11/30\n",
      "52/52 [==============================] - 3s 54ms/step - loss: 3.1701 - root_mean_squared_error: 6.1974 - val_loss: 3.1295 - val_root_mean_squared_error: 6.0524 - lr: 3.4868e-04\n",
      "Epoch 12/30\n",
      "52/52 [==============================] - 3s 52ms/step - loss: 2.9553 - root_mean_squared_error: 5.7750 - val_loss: 2.9227 - val_root_mean_squared_error: 5.6437 - lr: 3.1381e-04\n",
      "Epoch 13/30\n",
      "52/52 [==============================] - 3s 51ms/step - loss: 2.7329 - root_mean_squared_error: 5.3749 - val_loss: 2.9158 - val_root_mean_squared_error: 5.5657 - lr: 2.8243e-04\n",
      "Epoch 14/30\n",
      "52/52 [==============================] - 3s 49ms/step - loss: 2.5485 - root_mean_squared_error: 5.0609 - val_loss: 2.8663 - val_root_mean_squared_error: 5.4535 - lr: 2.5419e-04\n",
      "Epoch 15/30\n",
      "52/52 [==============================] - 3s 52ms/step - loss: 2.4578 - root_mean_squared_error: 4.8957 - val_loss: 2.7233 - val_root_mean_squared_error: 5.2577 - lr: 2.2877e-04\n",
      "Epoch 16/30\n",
      "52/52 [==============================] - 3s 61ms/step - loss: 2.3735 - root_mean_squared_error: 4.7428 - val_loss: 2.6759 - val_root_mean_squared_error: 5.1911 - lr: 2.0589e-04\n",
      "Epoch 17/30\n",
      "52/52 [==============================] - 2s 47ms/step - loss: 2.2345 - root_mean_squared_error: 4.5214 - val_loss: 2.5580 - val_root_mean_squared_error: 5.0149 - lr: 1.8530e-04\n",
      "Epoch 18/30\n",
      "52/52 [==============================] - 3s 53ms/step - loss: 2.1235 - root_mean_squared_error: 4.3488 - val_loss: 2.5584 - val_root_mean_squared_error: 5.0086 - lr: 1.6677e-04\n",
      "Epoch 19/30\n",
      "52/52 [==============================] - 3s 50ms/step - loss: 2.0559 - root_mean_squared_error: 4.2375 - val_loss: 2.4842 - val_root_mean_squared_error: 4.9186 - lr: 1.5009e-04\n",
      "Epoch 20/30\n",
      "52/52 [==============================] - 3s 51ms/step - loss: 1.9915 - root_mean_squared_error: 4.1340 - val_loss: 2.4533 - val_root_mean_squared_error: 4.8735 - lr: 1.3509e-04\n",
      "Epoch 21/30\n",
      "52/52 [==============================] - 3s 54ms/step - loss: 1.9371 - root_mean_squared_error: 4.0390 - val_loss: 2.3920 - val_root_mean_squared_error: 4.7945 - lr: 1.2158e-04\n",
      "Epoch 22/30\n",
      "52/52 [==============================] - 3s 56ms/step - loss: 1.9051 - root_mean_squared_error: 3.9854 - val_loss: 2.3345 - val_root_mean_squared_error: 4.7169 - lr: 1.0942e-04\n",
      "Epoch 23/30\n",
      "52/52 [==============================] - 3s 60ms/step - loss: 1.8583 - root_mean_squared_error: 3.9071 - val_loss: 2.2982 - val_root_mean_squared_error: 4.6696 - lr: 9.8477e-05\n",
      "Epoch 24/30\n",
      "52/52 [==============================] - 3s 58ms/step - loss: 1.8094 - root_mean_squared_error: 3.8304 - val_loss: 2.2667 - val_root_mean_squared_error: 4.6348 - lr: 8.8629e-05\n",
      "Epoch 25/30\n",
      "52/52 [==============================] - 3s 53ms/step - loss: 1.7677 - root_mean_squared_error: 3.7696 - val_loss: 2.2267 - val_root_mean_squared_error: 4.5912 - lr: 7.9766e-05\n",
      "Epoch 26/30\n",
      "52/52 [==============================] - 2s 42ms/step - loss: 1.7359 - root_mean_squared_error: 3.7237 - val_loss: 2.2015 - val_root_mean_squared_error: 4.5606 - lr: 7.1790e-05\n",
      "Epoch 27/30\n",
      "52/52 [==============================] - 2s 39ms/step - loss: 1.7062 - root_mean_squared_error: 3.6781 - val_loss: 2.1850 - val_root_mean_squared_error: 4.5375 - lr: 6.4611e-05\n",
      "Epoch 28/30\n",
      "52/52 [==============================] - 2s 44ms/step - loss: 1.6834 - root_mean_squared_error: 3.6424 - val_loss: 2.1686 - val_root_mean_squared_error: 4.5138 - lr: 5.8150e-05\n",
      "Epoch 29/30\n",
      "52/52 [==============================] - 2s 46ms/step - loss: 1.6632 - root_mean_squared_error: 3.6121 - val_loss: 2.1522 - val_root_mean_squared_error: 4.4986 - lr: 5.2335e-05\n",
      "Epoch 30/30\n",
      "52/52 [==============================] - 3s 50ms/step - loss: 1.6516 - root_mean_squared_error: 3.5932 - val_loss: 2.1380 - val_root_mean_squared_error: 4.4919 - lr: 4.7101e-05\n"
     ]
    }
   ],
   "source": [
    "reduce_lr = tf.keras.callbacks.LearningRateScheduler(lambda x: 1e-3 * 0.90 ** x)\n",
    "model.compile(\n",
    "    optimizer=tf.keras.optimizers.Adam(), \n",
    "    loss=tf.keras.losses.Huber(),\n",
    "    metrics=[tf.keras.metrics.RootMeanSquaredError()])\n",
    "history = model.fit(\n",
    "    x=norm_layer(x_train),\n",
    "    y=y_solar_train,\n",
    "    epochs=30,\n",
    "    batch_size=10,\n",
    "    validation_data=(norm_layer(x_val), y_solar_val),\n",
    "    shuffle=False,\n",
    "    callbacks=[reduce_lr]\n",
    ")\n"
   ]
  },
  {
   "cell_type": "code",
   "execution_count": 19,
   "metadata": {},
   "outputs": [],
   "source": [
    "y_solar_preds = model.predict(x_test)\n"
   ]
  }
 ],
 "metadata": {
  "interpreter": {
   "hash": "ebbabc1e6dda0a634caa316fe10f04a7a4757ee81bcd91a98af993123509ad1d"
  },
  "kernelspec": {
   "display_name": "Python 3.8.5 64-bit ('fourthbrain_venv': venv)",
   "language": "python",
   "name": "python3"
  },
  "language_info": {
   "codemirror_mode": {
    "name": "ipython",
    "version": 3
   },
   "file_extension": ".py",
   "mimetype": "text/x-python",
   "name": "python",
   "nbconvert_exporter": "python",
   "pygments_lexer": "ipython3",
   "version": "3.9.10"
  },
  "orig_nbformat": 4
 },
 "nbformat": 4,
 "nbformat_minor": 2
}
