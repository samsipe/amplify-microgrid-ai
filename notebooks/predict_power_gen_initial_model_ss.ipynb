{
 "cells": [
  {
   "cell_type": "code",
   "execution_count": 1,
   "metadata": {},
   "outputs": [],
   "source": [
    "# Load libs:\n",
    "import os\n",
    "import sys\n",
    "import pandas as pd\n",
    "import numpy as np\n",
    "import matplotlib.pyplot as plt\n",
    "import datetime as dt\n",
    "from glob import glob\n",
    "from os.path import dirname, abspath, join, exists\n",
    "\n",
    "from clearml import Task\n",
    "\n",
    "from amplify.data import DataGenerator, DataSplit"
   ]
  },
  {
   "cell_type": "code",
   "execution_count": 2,
   "metadata": {},
   "outputs": [
    {
     "name": "stdout",
     "output_type": "stream",
     "text": [
      "ClearML Task: overwriting (reusing) task id=4516e4ddc8d14c499b6ba144100f5b7a\n",
      "2022-01-30 01:27:17,021 - clearml.Task - WARNING - Failed auto-detecting task repository: Script file ['ipykernel_launcher', '/var/folders/14/343hdqps63j446zd_0kxgvwm0000gn/T/ipykernel_82194/3907652897.py'] could not be found\n",
      "ClearML results page: https://app.clear.ml/projects/f0e0b096252d4c18b9005e580afc5bce/experiments/4516e4ddc8d14c499b6ba144100f5b7a/output/log\n"
     ]
    }
   ],
   "source": [
    "# ClearML Stuff\n",
    "task = Task.init(project_name=\"amplify\", task_name=\"predict_power_gen_initial_model\")"
   ]
  },
  {
   "cell_type": "markdown",
   "metadata": {},
   "source": [
    "## Load Data"
   ]
  },
  {
   "cell_type": "code",
   "execution_count": 3,
   "metadata": {},
   "outputs": [
    {
     "name": "stdout",
     "output_type": "stream",
     "text": [
      "ClearML Monitor: GPU monitoring failed getting GPU reading, switching off GPU monitoring\n",
      "Info: Successfully loaded building data!\n",
      "Info: Successfully loaded weather data!\n"
     ]
    },
    {
     "data": {
      "text/html": [
       "<div>\n",
       "<style scoped>\n",
       "    .dataframe tbody tr th:only-of-type {\n",
       "        vertical-align: middle;\n",
       "    }\n",
       "\n",
       "    .dataframe tbody tr th {\n",
       "        vertical-align: top;\n",
       "    }\n",
       "\n",
       "    .dataframe thead th {\n",
       "        text-align: right;\n",
       "    }\n",
       "</style>\n",
       "<table border=\"1\" class=\"dataframe\">\n",
       "  <thead>\n",
       "    <tr style=\"text-align: right;\">\n",
       "      <th></th>\n",
       "      <th>temp</th>\n",
       "      <th>pressure</th>\n",
       "      <th>humidity</th>\n",
       "      <th>clouds_all</th>\n",
       "      <th>azimuth</th>\n",
       "      <th>irradiance</th>\n",
       "      <th>day_of_week</th>\n",
       "      <th>solar</th>\n",
       "      <th>usage</th>\n",
       "    </tr>\n",
       "  </thead>\n",
       "  <tbody>\n",
       "    <tr>\n",
       "      <th>2021-10-19 04:00:00+00:00</th>\n",
       "      <td>10.07</td>\n",
       "      <td>1017.0</td>\n",
       "      <td>66.0</td>\n",
       "      <td>20.0</td>\n",
       "      <td>338.241954</td>\n",
       "      <td>0.0</td>\n",
       "      <td>2</td>\n",
       "      <td>1.0</td>\n",
       "      <td>11.3</td>\n",
       "    </tr>\n",
       "    <tr>\n",
       "      <th>2021-10-19 05:00:00+00:00</th>\n",
       "      <td>9.51</td>\n",
       "      <td>1017.0</td>\n",
       "      <td>70.0</td>\n",
       "      <td>20.0</td>\n",
       "      <td>7.143008</td>\n",
       "      <td>0.0</td>\n",
       "      <td>2</td>\n",
       "      <td>1.0</td>\n",
       "      <td>13.2</td>\n",
       "    </tr>\n",
       "    <tr>\n",
       "      <th>2021-10-19 06:00:00+00:00</th>\n",
       "      <td>9.28</td>\n",
       "      <td>1017.0</td>\n",
       "      <td>71.0</td>\n",
       "      <td>20.0</td>\n",
       "      <td>34.060157</td>\n",
       "      <td>0.0</td>\n",
       "      <td>2</td>\n",
       "      <td>1.0</td>\n",
       "      <td>12.7</td>\n",
       "    </tr>\n",
       "    <tr>\n",
       "      <th>2021-10-19 07:00:00+00:00</th>\n",
       "      <td>9.12</td>\n",
       "      <td>1017.0</td>\n",
       "      <td>72.0</td>\n",
       "      <td>20.0</td>\n",
       "      <td>54.265435</td>\n",
       "      <td>0.0</td>\n",
       "      <td>2</td>\n",
       "      <td>1.0</td>\n",
       "      <td>17.2</td>\n",
       "    </tr>\n",
       "    <tr>\n",
       "      <th>2021-10-19 08:00:00+00:00</th>\n",
       "      <td>9.12</td>\n",
       "      <td>1017.0</td>\n",
       "      <td>73.0</td>\n",
       "      <td>20.0</td>\n",
       "      <td>69.007555</td>\n",
       "      <td>0.0</td>\n",
       "      <td>2</td>\n",
       "      <td>1.0</td>\n",
       "      <td>17.0</td>\n",
       "    </tr>\n",
       "  </tbody>\n",
       "</table>\n",
       "</div>"
      ],
      "text/plain": [
       "                            temp  pressure  humidity  clouds_all     azimuth  \\\n",
       "2021-10-19 04:00:00+00:00  10.07    1017.0      66.0        20.0  338.241954   \n",
       "2021-10-19 05:00:00+00:00   9.51    1017.0      70.0        20.0    7.143008   \n",
       "2021-10-19 06:00:00+00:00   9.28    1017.0      71.0        20.0   34.060157   \n",
       "2021-10-19 07:00:00+00:00   9.12    1017.0      72.0        20.0   54.265435   \n",
       "2021-10-19 08:00:00+00:00   9.12    1017.0      73.0        20.0   69.007555   \n",
       "\n",
       "                           irradiance day_of_week  solar  usage  \n",
       "2021-10-19 04:00:00+00:00         0.0           2    1.0   11.3  \n",
       "2021-10-19 05:00:00+00:00         0.0           2    1.0   13.2  \n",
       "2021-10-19 06:00:00+00:00         0.0           2    1.0   12.7  \n",
       "2021-10-19 07:00:00+00:00         0.0           2    1.0   17.2  \n",
       "2021-10-19 08:00:00+00:00         0.0           2    1.0   17.0  "
      ]
     },
     "execution_count": 3,
     "metadata": {},
     "output_type": "execute_result"
    }
   ],
   "source": [
    "# DataGenerator - ClearML\n",
    "xy_data = DataGenerator().load_data()\n",
    "xy_data.head()"
   ]
  },
  {
   "cell_type": "code",
   "execution_count": 4,
   "metadata": {},
   "outputs": [
    {
     "name": "stdout",
     "output_type": "stream",
     "text": [
      "XY Data Shape: (1994, 9)\n"
     ]
    }
   ],
   "source": [
    "# What is the shape of the data?\n",
    "print(f\"XY Data Shape: {xy_data.shape}\")"
   ]
  },
  {
   "cell_type": "code",
   "execution_count": 5,
   "metadata": {},
   "outputs": [
    {
     "data": {
      "text/html": [
       "<div>\n",
       "<style scoped>\n",
       "    .dataframe tbody tr th:only-of-type {\n",
       "        vertical-align: middle;\n",
       "    }\n",
       "\n",
       "    .dataframe tbody tr th {\n",
       "        vertical-align: top;\n",
       "    }\n",
       "\n",
       "    .dataframe thead th {\n",
       "        text-align: right;\n",
       "    }\n",
       "</style>\n",
       "<table border=\"1\" class=\"dataframe\">\n",
       "  <thead>\n",
       "    <tr style=\"text-align: right;\">\n",
       "      <th></th>\n",
       "      <th>temp</th>\n",
       "      <th>pressure</th>\n",
       "      <th>humidity</th>\n",
       "      <th>clouds_all</th>\n",
       "      <th>azimuth</th>\n",
       "      <th>irradiance</th>\n",
       "      <th>day_of_week</th>\n",
       "      <th>solar</th>\n",
       "      <th>usage</th>\n",
       "    </tr>\n",
       "  </thead>\n",
       "  <tbody>\n",
       "    <tr>\n",
       "      <th>2021-10-19 04:00:00+00:00</th>\n",
       "      <td>10.07</td>\n",
       "      <td>1017.0</td>\n",
       "      <td>66.0</td>\n",
       "      <td>20.0</td>\n",
       "      <td>338.241954</td>\n",
       "      <td>0.000000</td>\n",
       "      <td>2</td>\n",
       "      <td>1.0</td>\n",
       "      <td>11.3</td>\n",
       "    </tr>\n",
       "    <tr>\n",
       "      <th>2021-10-19 05:00:00+00:00</th>\n",
       "      <td>9.51</td>\n",
       "      <td>1017.0</td>\n",
       "      <td>70.0</td>\n",
       "      <td>20.0</td>\n",
       "      <td>7.143008</td>\n",
       "      <td>0.000000</td>\n",
       "      <td>2</td>\n",
       "      <td>1.0</td>\n",
       "      <td>13.2</td>\n",
       "    </tr>\n",
       "    <tr>\n",
       "      <th>2021-10-19 06:00:00+00:00</th>\n",
       "      <td>9.28</td>\n",
       "      <td>1017.0</td>\n",
       "      <td>71.0</td>\n",
       "      <td>20.0</td>\n",
       "      <td>34.060157</td>\n",
       "      <td>0.000000</td>\n",
       "      <td>2</td>\n",
       "      <td>1.0</td>\n",
       "      <td>12.7</td>\n",
       "    </tr>\n",
       "    <tr>\n",
       "      <th>2021-10-19 07:00:00+00:00</th>\n",
       "      <td>9.12</td>\n",
       "      <td>1017.0</td>\n",
       "      <td>72.0</td>\n",
       "      <td>20.0</td>\n",
       "      <td>54.265435</td>\n",
       "      <td>0.000000</td>\n",
       "      <td>2</td>\n",
       "      <td>1.0</td>\n",
       "      <td>17.2</td>\n",
       "    </tr>\n",
       "    <tr>\n",
       "      <th>2021-10-19 08:00:00+00:00</th>\n",
       "      <td>9.12</td>\n",
       "      <td>1017.0</td>\n",
       "      <td>73.0</td>\n",
       "      <td>20.0</td>\n",
       "      <td>69.007555</td>\n",
       "      <td>0.000000</td>\n",
       "      <td>2</td>\n",
       "      <td>1.0</td>\n",
       "      <td>17.0</td>\n",
       "    </tr>\n",
       "    <tr>\n",
       "      <th>2021-10-19 09:00:00+00:00</th>\n",
       "      <td>8.91</td>\n",
       "      <td>1017.0</td>\n",
       "      <td>75.0</td>\n",
       "      <td>1.0</td>\n",
       "      <td>80.588008</td>\n",
       "      <td>0.000000</td>\n",
       "      <td>2</td>\n",
       "      <td>1.0</td>\n",
       "      <td>14.2</td>\n",
       "    </tr>\n",
       "    <tr>\n",
       "      <th>2021-10-19 10:00:00+00:00</th>\n",
       "      <td>8.61</td>\n",
       "      <td>1018.0</td>\n",
       "      <td>75.0</td>\n",
       "      <td>1.0</td>\n",
       "      <td>90.606400</td>\n",
       "      <td>0.000000</td>\n",
       "      <td>2</td>\n",
       "      <td>1.0</td>\n",
       "      <td>14.4</td>\n",
       "    </tr>\n",
       "    <tr>\n",
       "      <th>2021-10-19 11:00:00+00:00</th>\n",
       "      <td>8.97</td>\n",
       "      <td>1018.0</td>\n",
       "      <td>73.0</td>\n",
       "      <td>1.0</td>\n",
       "      <td>100.107523</td>\n",
       "      <td>0.000000</td>\n",
       "      <td>2</td>\n",
       "      <td>1.0</td>\n",
       "      <td>14.1</td>\n",
       "    </tr>\n",
       "    <tr>\n",
       "      <th>2021-10-19 12:00:00+00:00</th>\n",
       "      <td>9.12</td>\n",
       "      <td>1018.0</td>\n",
       "      <td>75.0</td>\n",
       "      <td>1.0</td>\n",
       "      <td>109.881151</td>\n",
       "      <td>323.335022</td>\n",
       "      <td>2</td>\n",
       "      <td>11.3</td>\n",
       "      <td>12.5</td>\n",
       "    </tr>\n",
       "    <tr>\n",
       "      <th>2021-10-19 13:00:00+00:00</th>\n",
       "      <td>10.96</td>\n",
       "      <td>1019.0</td>\n",
       "      <td>69.0</td>\n",
       "      <td>1.0</td>\n",
       "      <td>120.654281</td>\n",
       "      <td>680.919505</td>\n",
       "      <td>2</td>\n",
       "      <td>24.9</td>\n",
       "      <td>13.7</td>\n",
       "    </tr>\n",
       "    <tr>\n",
       "      <th>2021-10-19 14:00:00+00:00</th>\n",
       "      <td>13.05</td>\n",
       "      <td>1019.0</td>\n",
       "      <td>60.0</td>\n",
       "      <td>1.0</td>\n",
       "      <td>133.174602</td>\n",
       "      <td>815.031860</td>\n",
       "      <td>2</td>\n",
       "      <td>35.7</td>\n",
       "      <td>15.1</td>\n",
       "    </tr>\n",
       "    <tr>\n",
       "      <th>2021-10-19 15:00:00+00:00</th>\n",
       "      <td>14.74</td>\n",
       "      <td>1019.0</td>\n",
       "      <td>54.0</td>\n",
       "      <td>1.0</td>\n",
       "      <td>148.114271</td>\n",
       "      <td>876.069179</td>\n",
       "      <td>2</td>\n",
       "      <td>42.6</td>\n",
       "      <td>20.9</td>\n",
       "    </tr>\n",
       "    <tr>\n",
       "      <th>2021-10-19 16:00:00+00:00</th>\n",
       "      <td>16.42</td>\n",
       "      <td>1018.0</td>\n",
       "      <td>46.0</td>\n",
       "      <td>1.0</td>\n",
       "      <td>165.625855</td>\n",
       "      <td>903.014730</td>\n",
       "      <td>2</td>\n",
       "      <td>45.5</td>\n",
       "      <td>17.5</td>\n",
       "    </tr>\n",
       "    <tr>\n",
       "      <th>2021-10-19 17:00:00+00:00</th>\n",
       "      <td>17.75</td>\n",
       "      <td>1017.0</td>\n",
       "      <td>42.0</td>\n",
       "      <td>1.0</td>\n",
       "      <td>184.672656</td>\n",
       "      <td>907.971714</td>\n",
       "      <td>2</td>\n",
       "      <td>44.5</td>\n",
       "      <td>16.0</td>\n",
       "    </tr>\n",
       "    <tr>\n",
       "      <th>2021-10-19 18:00:00+00:00</th>\n",
       "      <td>19.20</td>\n",
       "      <td>1017.0</td>\n",
       "      <td>42.0</td>\n",
       "      <td>1.0</td>\n",
       "      <td>203.176189</td>\n",
       "      <td>892.864347</td>\n",
       "      <td>2</td>\n",
       "      <td>39.8</td>\n",
       "      <td>15.3</td>\n",
       "    </tr>\n",
       "    <tr>\n",
       "      <th>2021-10-19 19:00:00+00:00</th>\n",
       "      <td>20.27</td>\n",
       "      <td>1016.0</td>\n",
       "      <td>42.0</td>\n",
       "      <td>1.0</td>\n",
       "      <td>219.453446</td>\n",
       "      <td>851.531330</td>\n",
       "      <td>2</td>\n",
       "      <td>31.2</td>\n",
       "      <td>17.4</td>\n",
       "    </tr>\n",
       "    <tr>\n",
       "      <th>2021-10-19 20:00:00+00:00</th>\n",
       "      <td>20.89</td>\n",
       "      <td>1015.0</td>\n",
       "      <td>41.0</td>\n",
       "      <td>1.0</td>\n",
       "      <td>233.121558</td>\n",
       "      <td>762.456976</td>\n",
       "      <td>2</td>\n",
       "      <td>18.9</td>\n",
       "      <td>17.8</td>\n",
       "    </tr>\n",
       "    <tr>\n",
       "      <th>2021-10-19 21:00:00+00:00</th>\n",
       "      <td>20.47</td>\n",
       "      <td>1015.0</td>\n",
       "      <td>42.0</td>\n",
       "      <td>1.0</td>\n",
       "      <td>244.670878</td>\n",
       "      <td>551.762650</td>\n",
       "      <td>2</td>\n",
       "      <td>5.3</td>\n",
       "      <td>22.0</td>\n",
       "    </tr>\n",
       "    <tr>\n",
       "      <th>2021-10-19 22:00:00+00:00</th>\n",
       "      <td>19.43</td>\n",
       "      <td>1015.0</td>\n",
       "      <td>47.0</td>\n",
       "      <td>1.0</td>\n",
       "      <td>254.839327</td>\n",
       "      <td>14.484079</td>\n",
       "      <td>2</td>\n",
       "      <td>1.6</td>\n",
       "      <td>19.9</td>\n",
       "    </tr>\n",
       "    <tr>\n",
       "      <th>2021-10-19 23:00:00+00:00</th>\n",
       "      <td>18.09</td>\n",
       "      <td>1015.0</td>\n",
       "      <td>52.0</td>\n",
       "      <td>1.0</td>\n",
       "      <td>264.360093</td>\n",
       "      <td>0.000000</td>\n",
       "      <td>2</td>\n",
       "      <td>1.6</td>\n",
       "      <td>21.8</td>\n",
       "    </tr>\n",
       "  </tbody>\n",
       "</table>\n",
       "</div>"
      ],
      "text/plain": [
       "                            temp  pressure  humidity  clouds_all     azimuth  \\\n",
       "2021-10-19 04:00:00+00:00  10.07    1017.0      66.0        20.0  338.241954   \n",
       "2021-10-19 05:00:00+00:00   9.51    1017.0      70.0        20.0    7.143008   \n",
       "2021-10-19 06:00:00+00:00   9.28    1017.0      71.0        20.0   34.060157   \n",
       "2021-10-19 07:00:00+00:00   9.12    1017.0      72.0        20.0   54.265435   \n",
       "2021-10-19 08:00:00+00:00   9.12    1017.0      73.0        20.0   69.007555   \n",
       "2021-10-19 09:00:00+00:00   8.91    1017.0      75.0         1.0   80.588008   \n",
       "2021-10-19 10:00:00+00:00   8.61    1018.0      75.0         1.0   90.606400   \n",
       "2021-10-19 11:00:00+00:00   8.97    1018.0      73.0         1.0  100.107523   \n",
       "2021-10-19 12:00:00+00:00   9.12    1018.0      75.0         1.0  109.881151   \n",
       "2021-10-19 13:00:00+00:00  10.96    1019.0      69.0         1.0  120.654281   \n",
       "2021-10-19 14:00:00+00:00  13.05    1019.0      60.0         1.0  133.174602   \n",
       "2021-10-19 15:00:00+00:00  14.74    1019.0      54.0         1.0  148.114271   \n",
       "2021-10-19 16:00:00+00:00  16.42    1018.0      46.0         1.0  165.625855   \n",
       "2021-10-19 17:00:00+00:00  17.75    1017.0      42.0         1.0  184.672656   \n",
       "2021-10-19 18:00:00+00:00  19.20    1017.0      42.0         1.0  203.176189   \n",
       "2021-10-19 19:00:00+00:00  20.27    1016.0      42.0         1.0  219.453446   \n",
       "2021-10-19 20:00:00+00:00  20.89    1015.0      41.0         1.0  233.121558   \n",
       "2021-10-19 21:00:00+00:00  20.47    1015.0      42.0         1.0  244.670878   \n",
       "2021-10-19 22:00:00+00:00  19.43    1015.0      47.0         1.0  254.839327   \n",
       "2021-10-19 23:00:00+00:00  18.09    1015.0      52.0         1.0  264.360093   \n",
       "\n",
       "                           irradiance day_of_week  solar  usage  \n",
       "2021-10-19 04:00:00+00:00    0.000000           2    1.0   11.3  \n",
       "2021-10-19 05:00:00+00:00    0.000000           2    1.0   13.2  \n",
       "2021-10-19 06:00:00+00:00    0.000000           2    1.0   12.7  \n",
       "2021-10-19 07:00:00+00:00    0.000000           2    1.0   17.2  \n",
       "2021-10-19 08:00:00+00:00    0.000000           2    1.0   17.0  \n",
       "2021-10-19 09:00:00+00:00    0.000000           2    1.0   14.2  \n",
       "2021-10-19 10:00:00+00:00    0.000000           2    1.0   14.4  \n",
       "2021-10-19 11:00:00+00:00    0.000000           2    1.0   14.1  \n",
       "2021-10-19 12:00:00+00:00  323.335022           2   11.3   12.5  \n",
       "2021-10-19 13:00:00+00:00  680.919505           2   24.9   13.7  \n",
       "2021-10-19 14:00:00+00:00  815.031860           2   35.7   15.1  \n",
       "2021-10-19 15:00:00+00:00  876.069179           2   42.6   20.9  \n",
       "2021-10-19 16:00:00+00:00  903.014730           2   45.5   17.5  \n",
       "2021-10-19 17:00:00+00:00  907.971714           2   44.5   16.0  \n",
       "2021-10-19 18:00:00+00:00  892.864347           2   39.8   15.3  \n",
       "2021-10-19 19:00:00+00:00  851.531330           2   31.2   17.4  \n",
       "2021-10-19 20:00:00+00:00  762.456976           2   18.9   17.8  \n",
       "2021-10-19 21:00:00+00:00  551.762650           2    5.3   22.0  \n",
       "2021-10-19 22:00:00+00:00   14.484079           2    1.6   19.9  \n",
       "2021-10-19 23:00:00+00:00    0.000000           2    1.6   21.8  "
      ]
     },
     "execution_count": 5,
     "metadata": {},
     "output_type": "execute_result"
    }
   ],
   "source": [
    "# Lets see a few more rows\n",
    "xy_data.head(20)"
   ]
  },
  {
   "cell_type": "code",
   "execution_count": 6,
   "metadata": {},
   "outputs": [
    {
     "data": {
      "text/plain": [
       "Timestamp('2021-10-19 04:00:00+0000', tz='UTC', freq='H')"
      ]
     },
     "execution_count": 6,
     "metadata": {},
     "output_type": "execute_result"
    }
   ],
   "source": [
    "# timestamp example\n",
    "xy_data.index[0]"
   ]
  },
  {
   "cell_type": "markdown",
   "metadata": {},
   "source": [
    "## Data Processing"
   ]
  },
  {
   "cell_type": "markdown",
   "metadata": {},
   "source": [
    "```\n",
    "1. Make xy data into a set of series of shape [N, M, F],\n",
    "where N = number of examples; M = nubmer of timestamps; F = Number of features\n",
    "```"
   ]
  },
  {
   "cell_type": "markdown",
   "metadata": {},
   "source": [
    "```\n",
    "2. Train-Test-Validation Split. Split off at 0.8, 0.1, 0.1 ratio for now. Shuffle the split.\n",
    "```"
   ]
  },
  {
   "cell_type": "markdown",
   "metadata": {},
   "source": [
    "```\n",
    "3. Seperate x, y from dataset. Remove last column from dataset to extract y.\n",
    "```"
   ]
  },
  {
   "cell_type": "code",
   "execution_count": 7,
   "metadata": {},
   "outputs": [],
   "source": [
    "# Hyperparameters \n",
    "SERIES = 48\n",
    "STRIDE = 1\n",
    "BATCH  = 4\n",
    "EPOCHS = 30"
   ]
  },
  {
   "cell_type": "code",
   "execution_count": 8,
   "metadata": {},
   "outputs": [],
   "source": [
    "# Data Shape \n",
    "# Batch Size of 10\n",
    "# Series of 7 Days 168\n",
    "# (B,  S,   H, F) <-X Y-> (B,  S,   H, O)\n",
    "# (20, 30, 48, 5) <-X Y-> (20, 30, 48, 1)\n",
    "\n",
    "# This is for solar only, for now\n",
    "xy_data.drop(columns=['temp','pressure','humidity','day_of_week'], inplace=True)\n",
    "train_ds, val_ds, test_ds = DataSplit(xy_data, series_length=SERIES, stride=STRIDE).split_data()"
   ]
  },
  {
   "cell_type": "code",
   "execution_count": 9,
   "metadata": {},
   "outputs": [],
   "source": [
    "# Isolate XY from datasets\n",
    "x_train, y_solar_train, y_usage_train = (\n",
    "    train_ds[0],\n",
    "    train_ds[1],\n",
    "    train_ds[2],\n",
    ")  # Training data\n",
    "x_val, y_solar_val, y_usage_val = (\n",
    "    val_ds[0],\n",
    "    val_ds[1],\n",
    "    val_ds[2],\n",
    ")  # Validation data\n",
    "x_test, y_solar_test, y_usage_test = (\n",
    "    test_ds[0],\n",
    "    test_ds[1],\n",
    "    test_ds[2],\n",
    ")  # Test data\n"
   ]
  },
  {
   "cell_type": "code",
   "execution_count": 10,
   "metadata": {},
   "outputs": [],
   "source": [
    "# format data for training...\n",
    "# [1,2,....] <= was a column\n",
    "# do we do (n, 1, n timesteps, n features per timestep) (3,4,5 => 2 days)?"
   ]
  },
  {
   "cell_type": "markdown",
   "metadata": {},
   "source": [
    "### Reviewing Data"
   ]
  },
  {
   "cell_type": "code",
   "execution_count": 11,
   "metadata": {},
   "outputs": [
    {
     "name": "stdout",
     "output_type": "stream",
     "text": [
      "x_train shape\n"
     ]
    },
    {
     "data": {
      "text/plain": [
       "(1556, 48, 3)"
      ]
     },
     "execution_count": 11,
     "metadata": {},
     "output_type": "execute_result"
    }
   ],
   "source": [
    "# x_train shape\n",
    "print(\"x_train shape\")\n",
    "x_train.shape"
   ]
  },
  {
   "cell_type": "code",
   "execution_count": 12,
   "metadata": {},
   "outputs": [
    {
     "name": "stdout",
     "output_type": "stream",
     "text": [
      "y_solar_train shape\n"
     ]
    },
    {
     "data": {
      "text/plain": [
       "(1556, 48, 1)"
      ]
     },
     "execution_count": 12,
     "metadata": {},
     "output_type": "execute_result"
    }
   ],
   "source": [
    "# y_train shape\n",
    "print(\"y_solar_train shape\")\n",
    "y_solar_train.shape"
   ]
  },
  {
   "cell_type": "markdown",
   "metadata": {},
   "source": [
    "## Modeling"
   ]
  },
  {
   "cell_type": "code",
   "execution_count": 13,
   "metadata": {},
   "outputs": [],
   "source": [
    "import tensorflow as tf\n",
    "from tensorflow.keras import layers\n",
    "from tensorflow.keras.preprocessing import sequence\n",
    "from keras.models import Sequential, Model\n",
    "from keras.layers import Input, LSTM, Dense, Flatten, RepeatVector, Normalization\n",
    "from matplotlib import pyplot\n",
    "from keras.layers import Bidirectional\n",
    "from keras.layers import TimeDistributed"
   ]
  },
  {
   "cell_type": "markdown",
   "metadata": {},
   "source": [
    "### Normalize Data"
   ]
  },
  {
   "cell_type": "code",
   "execution_count": 14,
   "metadata": {},
   "outputs": [
    {
     "name": "stderr",
     "output_type": "stream",
     "text": [
      "2022-01-30 01:28:29.913317: I tensorflow/core/platform/cpu_feature_guard.cc:151] This TensorFlow binary is optimized with oneAPI Deep Neural Network Library (oneDNN) to use the following CPU instructions in performance-critical operations:  AVX2 AVX512F FMA\n",
      "To enable them in other operations, rebuild TensorFlow with the appropriate compiler flags.\n"
     ]
    }
   ],
   "source": [
    "\n",
    "# Normalize to x_train data\n",
    "norm_layer = Normalization()\n",
    "norm_layer.adapt(x_train)"
   ]
  },
  {
   "cell_type": "markdown",
   "metadata": {},
   "source": [
    "## Encoder/Decoder LSTM"
   ]
  },
  {
   "cell_type": "code",
   "execution_count": 15,
   "metadata": {},
   "outputs": [],
   "source": [
    "encoder_inputs = Input(shape=(SERIES, x_train.shape[2]))\n",
    "encoder_inputs = norm_layer(encoder_inputs)\n",
    "encoder_l1 = LSTM(2*SERIES, return_state=True)\n",
    "encoder_outputs1 = encoder_l1(encoder_inputs)\n",
    "\n",
    "encoder_states1 = encoder_outputs1[1:]\n",
    "\n",
    "decoder_inputs = RepeatVector(SERIES)(encoder_outputs1[0])\n",
    "\n",
    "decoder_l1 = LSTM(2*SERIES, return_sequences=True)(decoder_inputs,initial_state = encoder_states1)\n",
    "decoder_outputs1 = TimeDistributed(Dense(1))(decoder_l1)\n",
    "\n",
    "model = Model(encoder_inputs,decoder_outputs1)"
   ]
  },
  {
   "cell_type": "code",
   "execution_count": 16,
   "metadata": {},
   "outputs": [
    {
     "name": "stdout",
     "output_type": "stream",
     "text": [
      "Model: \"model\"\n",
      "__________________________________________________________________________________________________\n",
      " Layer (type)                   Output Shape         Param #     Connected to                     \n",
      "==================================================================================================\n",
      " input_2 (InputLayer)           [(None, 48, 3)]      0           []                               \n",
      "                                                                                                  \n",
      " lstm (LSTM)                    [(None, 96),         38400       ['input_2[0][0]']                \n",
      "                                 (None, 96),                                                      \n",
      "                                 (None, 96)]                                                      \n",
      "                                                                                                  \n",
      " repeat_vector (RepeatVector)   (None, 48, 96)       0           ['lstm[1][0]']                   \n",
      "                                                                                                  \n",
      " lstm_1 (LSTM)                  (None, 48, 96)       74112       ['repeat_vector[1][0]',          \n",
      "                                                                  'lstm[1][1]',                   \n",
      "                                                                  'lstm[1][2]']                   \n",
      "                                                                                                  \n",
      " time_distributed (TimeDistribu  (None, 48, 1)       97          ['lstm_1[1][0]']                 \n",
      " ted)                                                                                             \n",
      "                                                                                                  \n",
      "==================================================================================================\n",
      "Total params: 112,609\n",
      "Trainable params: 112,609\n",
      "Non-trainable params: 0\n",
      "__________________________________________________________________________________________________\n"
     ]
    },
    {
     "data": {
      "image/png": "[encoded data removed]",
      "text/plain": [
       "<IPython.core.display.Image object>"
      ]
     },
     "execution_count": 16,
     "metadata": {},
     "output_type": "execute_result"
    }
   ],
   "source": [
    "model.summary()\n",
    "tf.keras.utils.plot_model(model, show_shapes=True, show_layer_names=False)"
   ]
  },
  {
   "cell_type": "code",
   "execution_count": 17,
   "metadata": {},
   "outputs": [
    {
     "name": "stdout",
     "output_type": "stream",
     "text": [
      "Epoch 1/30\n",
      "389/389 [==============================] - 11s 20ms/step - loss: 4.9080 - root_mean_squared_error: 9.4723 - val_loss: 3.9420 - val_root_mean_squared_error: 7.2803 - lr: 0.0010\n",
      "Epoch 2/30\n",
      "389/389 [==============================] - 8s 22ms/step - loss: 3.5136 - root_mean_squared_error: 6.5633 - val_loss: 3.0024 - val_root_mean_squared_error: 5.5898 - lr: 9.0000e-04\n",
      "Epoch 3/30\n",
      "389/389 [==============================] - 9s 23ms/step - loss: 3.0203 - root_mean_squared_error: 5.7316 - val_loss: 3.0458 - val_root_mean_squared_error: 5.7518 - lr: 8.1000e-04\n",
      "Epoch 4/30\n",
      "389/389 [==============================] - 9s 23ms/step - loss: 2.8461 - root_mean_squared_error: 5.5019 - val_loss: 2.6000 - val_root_mean_squared_error: 5.0734 - lr: 7.2900e-04\n",
      "Epoch 5/30\n",
      "389/389 [==============================] - 7s 19ms/step - loss: 2.5731 - root_mean_squared_error: 5.0532 - val_loss: 2.5867 - val_root_mean_squared_error: 5.1136 - lr: 6.5610e-04\n",
      "Epoch 6/30\n",
      "389/389 [==============================] - 10s 25ms/step - loss: 2.4608 - root_mean_squared_error: 4.8874 - val_loss: 2.5488 - val_root_mean_squared_error: 5.0361 - lr: 5.9049e-04\n",
      "Epoch 7/30\n",
      "389/389 [==============================] - 7s 19ms/step - loss: 2.2364 - root_mean_squared_error: 4.5207 - val_loss: 2.3761 - val_root_mean_squared_error: 4.7732 - lr: 5.3144e-04\n",
      "Epoch 8/30\n",
      "389/389 [==============================] - 7s 19ms/step - loss: 2.1515 - root_mean_squared_error: 4.3833 - val_loss: 2.2095 - val_root_mean_squared_error: 4.5274 - lr: 4.7830e-04\n",
      "Epoch 9/30\n",
      "389/389 [==============================] - 9s 23ms/step - loss: 2.0437 - root_mean_squared_error: 4.2195 - val_loss: 2.0606 - val_root_mean_squared_error: 4.2472 - lr: 4.3047e-04\n",
      "Epoch 10/30\n",
      "389/389 [==============================] - 7s 19ms/step - loss: 1.9757 - root_mean_squared_error: 4.0941 - val_loss: 1.9668 - val_root_mean_squared_error: 4.1122 - lr: 3.8742e-04\n",
      "Epoch 11/30\n",
      "389/389 [==============================] - 7s 18ms/step - loss: 1.9113 - root_mean_squared_error: 4.0033 - val_loss: 1.9535 - val_root_mean_squared_error: 4.0698 - lr: 3.4868e-04\n",
      "Epoch 12/30\n",
      "389/389 [==============================] - 7s 19ms/step - loss: 1.8653 - root_mean_squared_error: 3.9290 - val_loss: 1.9926 - val_root_mean_squared_error: 4.1367 - lr: 3.1381e-04\n",
      "Epoch 13/30\n",
      "389/389 [==============================] - 7s 18ms/step - loss: 1.8052 - root_mean_squared_error: 3.8231 - val_loss: 1.9241 - val_root_mean_squared_error: 4.0639 - lr: 2.8243e-04\n",
      "Epoch 14/30\n",
      "154/389 [==========>...................] - ETA: 4s - loss: 1.7193 - root_mean_squared_error: 3.6945ClearML Monitor: Could not detect iteration reporting, falling back to iterations as seconds-from-start\n",
      "389/389 [==============================] - 7s 18ms/step - loss: 1.7575 - root_mean_squared_error: 3.7402 - val_loss: 1.8671 - val_root_mean_squared_error: 3.9538 - lr: 2.5419e-04\n",
      "Epoch 15/30\n",
      "389/389 [==============================] - 7s 19ms/step - loss: 1.7012 - root_mean_squared_error: 3.6511 - val_loss: 1.9806 - val_root_mean_squared_error: 4.1265 - lr: 2.2877e-04\n",
      "Epoch 16/30\n",
      "389/389 [==============================] - 7s 19ms/step - loss: 1.6679 - root_mean_squared_error: 3.5945 - val_loss: 1.8848 - val_root_mean_squared_error: 3.9846 - lr: 2.0589e-04\n",
      "Epoch 17/30\n",
      "389/389 [==============================] - 11s 28ms/step - loss: 1.6332 - root_mean_squared_error: 3.5387 - val_loss: 1.8297 - val_root_mean_squared_error: 3.8962 - lr: 1.8530e-04\n",
      "Epoch 18/30\n",
      "389/389 [==============================] - 9s 24ms/step - loss: 1.5994 - root_mean_squared_error: 3.4881 - val_loss: 1.8033 - val_root_mean_squared_error: 3.8578 - lr: 1.6677e-04\n",
      "Epoch 19/30\n",
      "389/389 [==============================] - 8s 21ms/step - loss: 1.5723 - root_mean_squared_error: 3.4441 - val_loss: 1.7529 - val_root_mean_squared_error: 3.7509 - lr: 1.5009e-04\n",
      "Epoch 20/30\n",
      "389/389 [==============================] - 9s 24ms/step - loss: 1.5365 - root_mean_squared_error: 3.3942 - val_loss: 1.7760 - val_root_mean_squared_error: 3.8052 - lr: 1.3509e-04\n",
      "Epoch 21/30\n",
      "389/389 [==============================] - 7s 19ms/step - loss: 1.5167 - root_mean_squared_error: 3.3566 - val_loss: 1.7223 - val_root_mean_squared_error: 3.7279 - lr: 1.2158e-04\n",
      "Epoch 22/30\n",
      "389/389 [==============================] - 7s 18ms/step - loss: 1.4941 - root_mean_squared_error: 3.3160 - val_loss: 1.7218 - val_root_mean_squared_error: 3.7271 - lr: 1.0942e-04\n",
      "Epoch 23/30\n",
      "389/389 [==============================] - 7s 18ms/step - loss: 1.4771 - root_mean_squared_error: 3.2926 - val_loss: 1.7106 - val_root_mean_squared_error: 3.7095 - lr: 9.8477e-05\n",
      "Epoch 24/30\n",
      "389/389 [==============================] - 7s 19ms/step - loss: 1.4576 - root_mean_squared_error: 3.2606 - val_loss: 1.6993 - val_root_mean_squared_error: 3.6997 - lr: 8.8629e-05\n",
      "Epoch 25/30\n",
      "389/389 [==============================] - 8s 20ms/step - loss: 1.4389 - root_mean_squared_error: 3.2331 - val_loss: 1.6937 - val_root_mean_squared_error: 3.6795 - lr: 7.9766e-05\n",
      "Epoch 26/30\n",
      "389/389 [==============================] - 7s 18ms/step - loss: 1.4217 - root_mean_squared_error: 3.2035 - val_loss: 1.6769 - val_root_mean_squared_error: 3.6531 - lr: 7.1790e-05\n",
      "Epoch 27/30\n",
      "389/389 [==============================] - 7s 18ms/step - loss: 1.4081 - root_mean_squared_error: 3.1786 - val_loss: 1.6683 - val_root_mean_squared_error: 3.6435 - lr: 6.4611e-05\n",
      "Epoch 28/30\n",
      "389/389 [==============================] - 9s 24ms/step - loss: 1.3956 - root_mean_squared_error: 3.1581 - val_loss: 1.6852 - val_root_mean_squared_error: 3.6697 - lr: 5.8150e-05\n",
      "Epoch 29/30\n",
      "389/389 [==============================] - 12s 31ms/step - loss: 1.3827 - root_mean_squared_error: 3.1353 - val_loss: 1.6581 - val_root_mean_squared_error: 3.6110 - lr: 5.2335e-05\n",
      "Epoch 30/30\n",
      "389/389 [==============================] - 8s 22ms/step - loss: 1.3697 - root_mean_squared_error: 3.1151 - val_loss: 1.6424 - val_root_mean_squared_error: 3.6021 - lr: 4.7101e-05\n"
     ]
    }
   ],
   "source": [
    "reduce_lr = tf.keras.callbacks.LearningRateScheduler(lambda x: 1e-3 * 0.90 ** x)\n",
    "model.compile(\n",
    "    optimizer=tf.keras.optimizers.Adam(), \n",
    "    loss=tf.keras.losses.Huber(),\n",
    "    metrics=[tf.keras.metrics.RootMeanSquaredError()])\n",
    "history = model.fit(\n",
    "    x=x_train,\n",
    "    y=y_solar_train,\n",
    "    epochs=EPOCHS,\n",
    "    batch_size=BATCH,\n",
    "    validation_data=(x_val, y_solar_val),\n",
    "    callbacks=[reduce_lr]\n",
    ")\n"
   ]
  },
  {
   "cell_type": "code",
   "execution_count": 18,
   "metadata": {},
   "outputs": [
    {
     "name": "stdout",
     "output_type": "stream",
     "text": [
      "dict_keys(['loss', 'root_mean_squared_error', 'val_loss', 'val_root_mean_squared_error', 'lr'])\n"
     ]
    },
    {
     "data": {
      "image/png": "[encoded data removed]",
      "text/plain": [
       "<Figure size 432x288 with 1 Axes>"
      ]
     },
     "metadata": {
      "needs_background": "light"
     },
     "output_type": "display_data"
    },
    {
     "data": {
      "image/png": "[encoded data removed]",
      "text/plain": [
       "<Figure size 432x288 with 1 Axes>"
      ]
     },
     "metadata": {
      "needs_background": "light"
     },
     "output_type": "display_data"
    }
   ],
   "source": [
    "def plot_history(history, metric):\n",
    "    # This function will plot the model fit process\n",
    "    print(history.history.keys())\n",
    "    # summarize history for accuracy\n",
    "    if metric == \"root_mean_squared_error\":\n",
    "        plt.plot(history.history['root_mean_squared_error'])\n",
    "        plt.plot(history.history['val_root_mean_squared_error'])\n",
    "        plt.title('model RMSE')\n",
    "        plt.ylabel('RMSE')\n",
    "        plt.xlabel('epoch')\n",
    "        plt.legend(['train', 'test'], loc='upper left')\n",
    "        plt.show()\n",
    "    elif metric == \"mean_absolute_percentage_error\":\n",
    "        plt.plot(history.history[\"mean_absolute_percentage_error\"])\n",
    "        plt.plot(history.history[\"val_mean_absolute_percentage_error\"])\n",
    "        plt.title('model MAPE')\n",
    "        plt.ylabel('MAPE')\n",
    "        plt.xlabel('epoch')\n",
    "        plt.legend(['train', 'test'], loc='upper left')\n",
    "        plt.show()\n",
    "    elif metric == \"mean_absolute_error\":\n",
    "        plt.plot(history.history[\"mean_absolute_error\"])\n",
    "        plt.plot(history.history[\"val_mean_absolute_error\"])\n",
    "        plt.title('model MAE')\n",
    "        plt.ylabel('MAE')\n",
    "        plt.xlabel('epoch')\n",
    "        plt.legend(['train', 'test'], loc='upper left')\n",
    "        plt.show()\n",
    "    # summarize history for loss\n",
    "    plt.plot(history.history['loss'])\n",
    "    plt.plot(history.history['val_loss'])\n",
    "    plt.title('model loss')\n",
    "    plt.ylabel('loss')\n",
    "    plt.xlabel('epoch')\n",
    "    plt.legend(['train', 'test'], loc='upper left')\n",
    "    plt.show()\n",
    "\n",
    "plot_history(history, 'root_mean_squared_error')"
   ]
  },
  {
   "cell_type": "code",
   "execution_count": 19,
   "metadata": {},
   "outputs": [],
   "source": [
    "y_solar_preds = model.predict(x_test)\n"
   ]
  },
  {
   "cell_type": "code",
   "execution_count": 52,
   "metadata": {},
   "outputs": [
    {
     "data": {
      "image/png": "[encoded data removed]",
      "text/plain": [
       "<Figure size 1440x720 with 1 Axes>"
      ]
     },
     "metadata": {
      "needs_background": "light"
     },
     "output_type": "display_data"
    }
   ],
   "source": [
    "plt.figure(figsize=(20, 10))\n",
    "plt.title('Prediction')\n",
    "x = np.random.default_rng().integers(0,y_solar_preds.shape[0])\n",
    "plt.plot(y_solar_preds[x])\n",
    "plt.plot(y_solar_test[x])\n",
    "plt.ylabel('kW')\n",
    "plt.xlabel('hour')\n",
    "plt.legend(['Prediction', 'Actual'], loc='upper left')\n",
    "\n",
    "plt.show()"
   ]
  }
 ],
 "metadata": {
  "interpreter": {
   "hash": "ebbabc1e6dda0a634caa316fe10f04a7a4757ee81bcd91a98af993123509ad1d"
  },
  "kernelspec": {
   "display_name": "Python 3",
   "language": "python",
   "name": "python3"
  },
  "language_info": {
   "codemirror_mode": {
    "name": "ipython",
    "version": 3
   },
   "file_extension": ".py",
   "mimetype": "text/x-python",
   "name": "python",
   "nbconvert_exporter": "python",
   "pygments_lexer": "ipython3",
   "version": "3.9.10"
  },
  "orig_nbformat": 4
 },
 "nbformat": 4,
 "nbformat_minor": 2
}
